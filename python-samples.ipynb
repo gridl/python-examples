{
 "metadata": {
  "language_info": {
   "codemirror_mode": {
    "name": "ipython",
    "version": 3
   },
   "file_extension": ".py",
   "mimetype": "text/x-python",
   "name": "python",
   "nbconvert_exporter": "python",
   "pygments_lexer": "ipython3",
   "version": "3.8.5-final"
  },
  "orig_nbformat": 2,
  "kernelspec": {
   "name": "python38564bitd654bda1a12243c191030f541becc3bb",
   "display_name": "Python 3.8.5 64-bit"
  }
 },
 "nbformat": 4,
 "nbformat_minor": 2,
 "cells": [
  {
   "cell_type": "markdown",
   "metadata": {},
   "source": [
    "## PYTHON SAMPLES ##"
   ]
  },
  {
   "cell_type": "markdown",
   "metadata": {},
   "source": [
    "*** Palindrome ***"
   ]
  },
  {
   "cell_type": "code",
   "execution_count": 1,
   "metadata": {
    "tags": []
   },
   "outputs": [
    {
     "output_type": "stream",
     "name": "stdout",
     "text": "IsPalindrome(123321): True\n"
    }
   ],
   "source": [
    "def ispalindrome(x):\n",
    "    reverse_x = str(x)[::-1] #convert to string and then read reverse\n",
    "    return str(x) == reverse_x\n",
    "\n",
    "print(\"IsPalindrome(123321):\",ispalindrome(123321))"
   ]
  },
  {
   "cell_type": "markdown",
   "metadata": {},
   "source": [
    "*** Sum of Squares ***"
   ]
  },
  {
   "cell_type": "code",
   "execution_count": 2,
   "metadata": {
    "tags": []
   },
   "outputs": [
    {
     "output_type": "stream",
     "name": "stdout",
     "text": "SumOfSquare(5): 55\n"
    }
   ],
   "source": [
    "def sumsquares(n):\n",
    "    return sum(map(lambda x:x**2, range(1,n+1))) #Anonymous function was enough to define square of numbers range 1 to n\n",
    "\n",
    "print(\"SumOfSquare(5):\", sumsquares(5))"
   ]
  },
  {
   "cell_type": "markdown",
   "metadata": {},
   "source": [
    "*** Sort Students marks list ***"
   ]
  },
  {
   "cell_type": "code",
   "execution_count": 3,
   "metadata": {},
   "outputs": [
    {
     "output_type": "execute_result",
     "data": {
      "text/plain": "['niya,15',\n 'sandeep,25',\n 'murari,20',\n 'john,30',\n 'swarnima,40',\n 'sanjay,20',\n 'swetha,15',\n 'sri,35',\n 'pratul,37',\n 'siva,40',\n 'lalit,40']"
     },
     "metadata": {},
     "execution_count": 3
    }
   ],
   "source": [
    "# data-file: studentmarks1.csv\n",
    "student_marks1 = open('./data-files/python-examples/studentmarks1.csv','r')\n",
    "marks_list = student_marks1.read().splitlines()\n",
    "marks_list"
   ]
  },
  {
   "cell_type": "code",
   "execution_count": 4,
   "metadata": {},
   "outputs": [
    {
     "output_type": "execute_result",
     "data": {
      "text/plain": "[('swarnima', 40),\n ('siva', 40),\n ('lalit', 40),\n ('pratul', 37),\n ('sri', 35),\n ('john', 30),\n ('sandeep', 25),\n ('murari', 20),\n ('sanjay', 20),\n ('niya', 15),\n ('swetha', 15)]"
     },
     "metadata": {},
     "execution_count": 4
    }
   ],
   "source": [
    "marks_dict = {} #hve the entire data in dictionary as key-value pair to sort \n",
    "for studententry in marks_list:\n",
    "    name,marks = studententry.split(',')\n",
    "    marks_dict[name]= int(marks)\n",
    "\n",
    "sorted(marks_dict.items(), key=lambda x:x[1], reverse=True) #use sorted on marks data "
   ]
  },
  {
   "cell_type": "markdown",
   "metadata": {},
   "source": [
    "*** Sort Students marks list based on two columns, 1st column is priority, 2nd to decide if tie ***"
   ]
  },
  {
   "cell_type": "code",
   "execution_count": 5,
   "metadata": {},
   "outputs": [
    {
     "output_type": "execute_result",
     "data": {
      "text/plain": "['sandeep,30.666,45',\n 'swetha,30.666,30',\n 'niya,40.25,25',\n 'swarima,20,15',\n 'siva,15,34.666',\n 'lalit,20,20',\n 'john,37,20',\n 'murari,40.25,15',\n 'sanjay,20,20',\n 'sri,20,29']"
     },
     "metadata": {},
     "execution_count": 5
    }
   ],
   "source": [
    "# data-file: studentmarks2.csv\n",
    "student_marks1 = open('./data-files/python-examples/studentmarks2.csv','r')\n",
    "marks_list = student_marks1.read().splitlines()\n",
    "marks_list"
   ]
  },
  {
   "cell_type": "code",
   "execution_count": 6,
   "metadata": {},
   "outputs": [
    {
     "output_type": "execute_result",
     "data": {
      "text/plain": "[('niya', (40.25, 25.0)),\n ('murari', (40.25, 15.0)),\n ('john', (37.0, 20.0)),\n ('sandeep', (30.666, 45.0)),\n ('swetha', (30.666, 30.0)),\n ('sri', (20.0, 29.0)),\n ('lalit', (20.0, 20.0)),\n ('sanjay', (20.0, 20.0)),\n ('swarima', (20.0, 15.0)),\n ('siva', (15.0, 34.666))]"
     },
     "metadata": {},
     "execution_count": 6
    }
   ],
   "source": [
    "marks_dict = {} #hve the entire data in dictionary as key-value pair to sort \n",
    "for studententry in marks_list:\n",
    "    name,marks1,marks2 = studententry.split(',')\n",
    "    marks_dict[name]= float(marks1), float(marks2) #tuple stored for each key\n",
    "\n",
    "sorted(marks_dict.items(), key=lambda x:(x[1][0],x[1][1]), reverse=True) #x[1] => marks tuple. x[1][y] => yth location in tuple. (1,2) < (1,3) "
   ]
  },
  {
   "cell_type": "markdown",
   "metadata": {},
   "source": [
    "*** Format Students marks list to 2 decimal places in table ***"
   ]
  },
  {
   "cell_type": "code",
   "execution_count": 7,
   "metadata": {},
   "outputs": [
    {
     "output_type": "execute_result",
     "data": {
      "text/plain": "['sandeep,30.666,45',\n 'swetha,30.666,30',\n 'niya,40.25,25',\n 'swarima,20,15',\n 'siva,15,34.666',\n 'lalit,20,20',\n 'john,37,20',\n 'murari,40.25,15',\n 'sanjay,20,20',\n 'sri,20,29']"
     },
     "metadata": {},
     "execution_count": 7
    }
   ],
   "source": [
    "# data-file: studentmarks2.csv\n",
    "student_marks1 = open('./data-files/python-examples/studentmarks2.csv','r')\n",
    "marks_list = student_marks1.read().splitlines()\n",
    "marks_list"
   ]
  },
  {
   "cell_type": "code",
   "execution_count": 8,
   "metadata": {
    "tags": []
   },
   "outputs": [
    {
     "output_type": "stream",
     "name": "stdout",
     "text": "sandeep    30.67 45.00\nswetha     30.67 30.00\nniya       40.25 25.00\nswarima    20.00 15.00\nsiva       15.00 34.67\nlalit      20.00 20.00\njohn       37.00 20.00\nmurari     40.25 15.00\nsanjay     20.00 20.00\nsri        20.00 29.00\n"
    }
   ],
   "source": [
    "for ml in marks_list:\n",
    "    name,marks1,marks2 = ml.split(',')\n",
    "    print(\"{0:10s} {1:.2f} {2:.2f}\".format(name,float(marks1),float(marks2)))\n",
    "    # Refer for formatting: https://www.python-course.eu/python3_formatted_output.php"
   ]
  },
  {
   "cell_type": "markdown",
   "metadata": {},
   "source": [
    "*** Word Frequency ***\n",
    "\n",
    "The file <code>novel_conard.txt</code> contains the text of a book by Joseph Conard. We wish construct a dictionary that stores the number of times each word appears. Common words like <code>an, the, is, by</code>  are called stop words are not of much interest. So we want to construct a word frequency dictionary after removing the stop words from the novel. The list of stop_words is given in the file <code>stopwords.txt</code>."
   ]
  },
  {
   "cell_type": "code",
   "execution_count": 9,
   "metadata": {},
   "outputs": [
    {
     "output_type": "execute_result",
     "data": {
      "text/plain": "['\\ufeffThe Project Gutenberg EBook of Heart of Darkness, by Joseph Conrad',\n '',\n 'This eBook is for the use of anyone anywhere at no cost and with',\n 'almost no restrictions whatsoever.  You may copy it, give it away or',\n 're-use it under the terms of the Project Gutenberg License included',\n 'with this eBook or online at www.gutenberg.org',\n '',\n '',\n 'Title: Heart of Darkness',\n '']"
     },
     "metadata": {},
     "execution_count": 9
    }
   ],
   "source": [
    "novel_file = open('./data-files/python-examples/novel_conard.txt','r')\n",
    "novel_text = novel_file.read().splitlines()\n",
    "novel_text[0:10]"
   ]
  },
  {
   "cell_type": "code",
   "execution_count": 10,
   "metadata": {},
   "outputs": [
    {
     "output_type": "execute_result",
     "data": {
      "text/plain": "['i', 'me', 'my', 'myself', 'we', 'our', 'ours', 'ourselves', 'you', 'your']"
     },
     "metadata": {},
     "execution_count": 10
    }
   ],
   "source": [
    "stop_file = open('./data-files/python-examples/stopwords.txt','r')\n",
    "stop_word_list = stop_file.read().splitlines()\n",
    "stop_word_list[0:10]"
   ]
  },
  {
   "cell_type": "code",
   "execution_count": 11,
   "metadata": {},
   "outputs": [
    {
     "output_type": "execute_result",
     "data": {
      "text/plain": "'\\ufeffThe Project Gutenberg EBook of Heart of Darkness,'"
     },
     "metadata": {},
     "execution_count": 11
    }
   ],
   "source": [
    "novel_text = \" \".join(novel_text) # convert into continous text\n",
    "novel_text [0:50]"
   ]
  },
  {
   "cell_type": "code",
   "execution_count": 12,
   "metadata": {},
   "outputs": [],
   "source": [
    "novel_words = novel_text.split()"
   ]
  },
  {
   "cell_type": "code",
   "execution_count": 13,
   "metadata": {
    "tags": []
   },
   "outputs": [
    {
     "output_type": "stream",
     "name": "stdout",
     "text": "No. of words in Words dictionary: 9358\nTop 10 words with frequency are:\n"
    },
    {
     "output_type": "execute_result",
     "data": {
      "text/plain": "[('would', 130),\n ('like', 111),\n ('one', 107),\n ('could', 107),\n ('Project', 78),\n ('see', 74),\n ('man', 71),\n ('said', 68),\n ('seemed', 66),\n ('made', 64)]"
     },
     "metadata": {},
     "execution_count": 13
    }
   ],
   "source": [
    "words_dict={}\n",
    "for word in novel_words:\n",
    "    if word.lower() not in stop_word_list:\n",
    "        words_dict[word]=words_dict.get(word,0)+1\n",
    "\n",
    "print(\"No. of words in Words dictionary:\", len(words_dict))\n",
    "print(\"Top 10 words with frequency are:\")\n",
    "sorted(words_dict.items(), key=lambda x:x[1], reverse=True)[:10] #show top 10"
   ]
  },
  {
   "cell_type": "code",
   "execution_count": 14,
   "metadata": {
    "tags": []
   },
   "outputs": [],
   "source": [
    "#END of few examples"
   ]
  }
 ]
}