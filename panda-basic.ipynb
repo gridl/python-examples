{
 "metadata": {
  "language_info": {
   "codemirror_mode": {
    "name": "ipython",
    "version": 3
   },
   "file_extension": ".py",
   "mimetype": "text/x-python",
   "name": "python",
   "nbconvert_exporter": "python",
   "pygments_lexer": "ipython3",
   "version": "3.8.5-final"
  },
  "orig_nbformat": 2,
  "kernelspec": {
   "name": "python38564bit9ac65d54777541ddb4639e761536d6dd",
   "display_name": "Python 3.8.5 64-bit"
  }
 },
 "nbformat": 4,
 "nbformat_minor": 2,
 "cells": [
  {
   "cell_type": "markdown",
   "metadata": {},
   "source": [
    "## Pandas ##\n",
    "\n",
    "- is a fast, powerful, flexible and easy to use open source data analysis and manipulation tool,\n",
    "\n",
    "- built on top of the Python programming language.\n"
   ]
  },
  {
   "cell_type": "code",
   "execution_count": 9,
   "metadata": {},
   "outputs": [],
   "source": [
    "# imports!\n",
    "import pandas as pd \n",
    "import numpy as np "
   ]
  },
  {
   "cell_type": "markdown",
   "metadata": {},
   "source": [
    "*** Series ***"
   ]
  },
  {
   "cell_type": "code",
   "execution_count": 10,
   "metadata": {},
   "outputs": [
    {
     "output_type": "execute_result",
     "data": {
      "text/plain": "0    1\n1    2\n2    3\ndtype: int64"
     },
     "metadata": {},
     "execution_count": 10
    }
   ],
   "source": [
    "l1 = pd.Series([1,2,3]) #Series defined from a list\n",
    "l1"
   ]
  },
  {
   "cell_type": "code",
   "execution_count": 11,
   "metadata": {},
   "outputs": [
    {
     "output_type": "execute_result",
     "data": {
      "text/plain": "0    1\n1    2\n2    3\n3    4\n4    5\n5    6\n6    7\n7    8\ndtype: int64"
     },
     "metadata": {},
     "execution_count": 11
    }
   ],
   "source": [
    "l2 = pd.Series(np.array([1,2,3,4,5,6,7,8])) #Series defined from an array\n",
    "l2"
   ]
  },
  {
   "cell_type": "code",
   "execution_count": 12,
   "metadata": {},
   "outputs": [
    {
     "output_type": "execute_result",
     "data": {
      "text/plain": "pandas.core.series.Series"
     },
     "metadata": {},
     "execution_count": 12
    }
   ],
   "source": [
    "type(l2)"
   ]
  },
  {
   "cell_type": "code",
   "execution_count": 13,
   "metadata": {
    "tags": []
   },
   "outputs": [
    {
     "output_type": "stream",
     "name": "stdout",
     "text": "pandas l3:\n 0     1\n1     3\n2     5\n3     7\n4      \n5     9\n6    11\ndtype: object\nmean: 193987.2857142857\nmax: 9\n"
    }
   ],
   "source": [
    "l3 = pd.Series(np.array([1,3,5,7,'',9,11])) #Series can have mixed datatypes, though it would allow only operations on them\n",
    "print('pandas l3:\\n',l3)\n",
    "print('mean:', l3.mean()) # empty string is a valid value - treated as if zero\n",
    "print('max:', l3.max())\n",
    "\n",
    "# Though below would throw an error and not allowed. \n",
    "#l4 = pd.Series(np.array([1,'Sandeep',4]))\n",
    "#l4.mean()"
   ]
  },
  {
   "cell_type": "code",
   "execution_count": 14,
   "metadata": {
    "tags": []
   },
   "outputs": [
    {
     "output_type": "execute_result",
     "data": {
      "text/plain": "0     2\n1     3\n2     5\n3     7\n4      \n5     9\n6    11\ndtype: object"
     },
     "metadata": {},
     "execution_count": 14
    }
   ],
   "source": [
    "l3.replace(\"1\",\"2\") #multiple funtions like replace available"
   ]
  },
  {
   "cell_type": "code",
   "execution_count": 15,
   "metadata": {
    "tags": []
   },
   "outputs": [
    {
     "output_type": "stream",
     "name": "stdout",
     "text": "#indexing allowed to access the data: 1\n#datatype post basic indexing: <class 'str'>\n#DEFAULT series index defined as: RangeIndex(start=0, stop=7, step=1)\n#post defined indexing #1: 0    1\n1    3\n2    5\ndtype: object\n#post defined indexing #2: 2     5\n3     7\n4      \n5     9\n6    11\ndtype: object\n#post defined indexing #3: 0    1\n1    3\n2    5\n3    7\n4     \n5    9\ndtype: object\n#post defined indexing #4: 1    3\n3    7\n5    9\ndtype: object\n#post defined indexing #5: 0     1\n2     5\n4      \n6    11\ndtype: object\n"
    }
   ],
   "source": [
    "print('#indexing allowed to access the data:',l3[0]) #indexing allowed to access the data\n",
    "print('#datatype post basic indexing:', type(l3[0]))\n",
    "print('#DEFAULT series index defined as:', l3.index)\n",
    "print('#post defined indexing #1:', l3[0:3])\n",
    "print('#post defined indexing #2:', l3[2:])\n",
    "print('#post defined indexing #3:', l3[:-1])\n",
    "print('#post defined indexing #4:', l3[1:-1:2])\n",
    "print('#post defined indexing #5:', l3[::2])"
   ]
  },
  {
   "cell_type": "code",
   "execution_count": 16,
   "metadata": {
    "tags": []
   },
   "outputs": [
    {
     "output_type": "stream",
     "name": "stdout",
     "text": "l4[A]: 1\nl4[B]: 3\nl4[C]: 5\nl4[B:D]: B    3\nC    5\nD    7\ndtype: int64\n"
    }
   ],
   "source": [
    "l4 = pd.Series([1,3,5,7,9], index=['A','B','C','D','E']) # CUSTOM index defined\n",
    "print('l4[''A'']:',l4['A']) # case-sensitive l4['a'] NOT allowed\n",
    "print('l4[''B'']:',l4['B']) \n",
    "print('l4[''C'']:',l4['C']) \n",
    "print('l4[''B'':''D'']:',l4['B':'D']) #Range indexing on custom index allowed "
   ]
  },
  {
   "cell_type": "markdown",
   "metadata": {},
   "source": [
    "*** Dataframes ***"
   ]
  }
 ]
}