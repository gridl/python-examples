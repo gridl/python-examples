{
 "metadata": {
  "language_info": {
   "codemirror_mode": {
    "name": "ipython",
    "version": 3
   },
   "file_extension": ".py",
   "mimetype": "text/x-python",
   "name": "python",
   "nbconvert_exporter": "python",
   "pygments_lexer": "ipython3",
   "version": "3.8.5-final"
  },
  "orig_nbformat": 2,
  "kernelspec": {
   "name": "python38564bit9ac65d54777541ddb4639e761536d6dd",
   "display_name": "Python 3.8.5 64-bit"
  }
 },
 "nbformat": 4,
 "nbformat_minor": 2,
 "cells": [
  {
   "cell_type": "markdown",
   "metadata": {},
   "source": [
    "# Pandas #\n",
    "\n",
    "- is a fast, powerful, flexible and easy to use open source data analysis and manipulation tool,\n",
    "\n",
    "- built on top of the Python programming language.\n"
   ]
  },
  {
   "cell_type": "code",
   "execution_count": 1,
   "metadata": {},
   "outputs": [],
   "source": [
    "# imports!\n",
    "import pandas as pd \n",
    "import numpy as np "
   ]
  },
  {
   "cell_type": "markdown",
   "metadata": {},
   "source": [
    "## Series ##"
   ]
  },
  {
   "cell_type": "code",
   "execution_count": 2,
   "metadata": {},
   "outputs": [
    {
     "output_type": "execute_result",
     "data": {
      "text/plain": "0    1\n1    2\n2    3\ndtype: int64"
     },
     "metadata": {},
     "execution_count": 2
    }
   ],
   "source": [
    "l1 = pd.Series([1,2,3]) #Series defined from a list\n",
    "l1"
   ]
  },
  {
   "cell_type": "code",
   "execution_count": 26,
   "metadata": {},
   "outputs": [
    {
     "output_type": "execute_result",
     "data": {
      "text/plain": "array([1, 2, 3])"
     },
     "metadata": {},
     "execution_count": 26
    }
   ],
   "source": [
    "# series back to numpy\n",
    "l1.values"
   ]
  },
  {
   "cell_type": "code",
   "execution_count": 11,
   "metadata": {},
   "outputs": [
    {
     "output_type": "execute_result",
     "data": {
      "text/plain": "0    1\n1    2\n2    3\n3    4\n4    5\n5    6\n6    7\n7    8\ndtype: int64"
     },
     "metadata": {},
     "execution_count": 11
    }
   ],
   "source": [
    "l2 = pd.Series(np.array([1,2,3,4,5,6,7,8])) #Series defined from an array\n",
    "l2"
   ]
  },
  {
   "cell_type": "code",
   "execution_count": 12,
   "metadata": {},
   "outputs": [
    {
     "output_type": "execute_result",
     "data": {
      "text/plain": "pandas.core.series.Series"
     },
     "metadata": {},
     "execution_count": 12
    }
   ],
   "source": [
    "type(l2)"
   ]
  },
  {
   "cell_type": "code",
   "execution_count": 13,
   "metadata": {
    "tags": []
   },
   "outputs": [
    {
     "output_type": "stream",
     "name": "stdout",
     "text": "pandas l3:\n 0     1\n1     3\n2     5\n3     7\n4      \n5     9\n6    11\ndtype: object\nmean: 193987.2857142857\nmax: 9\n"
    }
   ],
   "source": [
    "l3 = pd.Series(np.array([1,3,5,7,'',9,11])) #Series can have mixed datatypes, though it would allow only operations on them\n",
    "print('pandas l3:\\n',l3)\n",
    "print('mean:', l3.mean()) # empty string is a valid value - treated as if zero\n",
    "print('max:', l3.max())\n",
    "\n",
    "# Though below would throw an error and not allowed. \n",
    "#l4 = pd.Series(np.array([1,'Sandeep',4]))\n",
    "#l4.mean()"
   ]
  },
  {
   "cell_type": "code",
   "execution_count": 14,
   "metadata": {
    "tags": []
   },
   "outputs": [
    {
     "output_type": "execute_result",
     "data": {
      "text/plain": "0     2\n1     3\n2     5\n3     7\n4      \n5     9\n6    11\ndtype: object"
     },
     "metadata": {},
     "execution_count": 14
    }
   ],
   "source": [
    "l3.replace(\"1\",\"2\") #multiple funtions like replace available"
   ]
  },
  {
   "cell_type": "code",
   "execution_count": 15,
   "metadata": {
    "tags": []
   },
   "outputs": [
    {
     "output_type": "stream",
     "name": "stdout",
     "text": "#indexing allowed to access the data: 1\n#datatype post basic indexing: <class 'str'>\n#DEFAULT series index defined as: RangeIndex(start=0, stop=7, step=1)\n#post defined indexing #1: 0    1\n1    3\n2    5\ndtype: object\n#post defined indexing #2: 2     5\n3     7\n4      \n5     9\n6    11\ndtype: object\n#post defined indexing #3: 0    1\n1    3\n2    5\n3    7\n4     \n5    9\ndtype: object\n#post defined indexing #4: 1    3\n3    7\n5    9\ndtype: object\n#post defined indexing #5: 0     1\n2     5\n4      \n6    11\ndtype: object\n"
    }
   ],
   "source": [
    "print('#indexing allowed to access the data:',l3[0]) #indexing allowed to access the data\n",
    "print('#datatype post basic indexing:', type(l3[0]))\n",
    "print('#DEFAULT series index defined as:', l3.index)\n",
    "print('#post defined indexing #1:', l3[0:3])\n",
    "print('#post defined indexing #2:', l3[2:])\n",
    "print('#post defined indexing #3:', l3[:-1])\n",
    "print('#post defined indexing #4:', l3[1:-1:2])\n",
    "print('#post defined indexing #5:', l3[::2])"
   ]
  },
  {
   "cell_type": "code",
   "execution_count": 16,
   "metadata": {
    "tags": []
   },
   "outputs": [
    {
     "output_type": "stream",
     "name": "stdout",
     "text": "l4[A]: 1\nl4[B]: 3\nl4[C]: 5\nl4[B:D]: B    3\nC    5\nD    7\ndtype: int64\n"
    }
   ],
   "source": [
    "l4 = pd.Series([1,3,5,7,9], index=['A','B','C','D','E']) # CUSTOM index defined\n",
    "print('l4[''A'']:',l4['A']) # case-sensitive l4['a'] NOT allowed\n",
    "print('l4[''B'']:',l4['B']) \n",
    "print('l4[''C'']:',l4['C']) \n",
    "print('l4[''B'':''D'']:',l4['B':'D']) #Range indexing on custom index allowed "
   ]
  },
  {
   "cell_type": "markdown",
   "metadata": {},
   "source": [
    "## Dataframes ##"
   ]
  },
  {
   "cell_type": "markdown",
   "metadata": {},
   "source": [
    "*** Dataframe from list of tuples ***"
   ]
  },
  {
   "cell_type": "code",
   "execution_count": 5,
   "metadata": {
    "tags": []
   },
   "outputs": [
    {
     "output_type": "stream",
     "name": "stdout",
     "text": "[('Sandeep', 35), ('Murari', 25), ('Niya', 30), ('John', 33), ('Swarnima', 23)]\n"
    },
    {
     "output_type": "execute_result",
     "data": {
      "text/plain": "       Name  Age\n0   Sandeep   35\n1    Murari   25\n2      Niya   30\n3      John   33\n4  Swarnima   23",
      "text/html": "<div>\n<style scoped>\n    .dataframe tbody tr th:only-of-type {\n        vertical-align: middle;\n    }\n\n    .dataframe tbody tr th {\n        vertical-align: top;\n    }\n\n    .dataframe thead th {\n        text-align: right;\n    }\n</style>\n<table border=\"1\" class=\"dataframe\">\n  <thead>\n    <tr style=\"text-align: right;\">\n      <th></th>\n      <th>Name</th>\n      <th>Age</th>\n    </tr>\n  </thead>\n  <tbody>\n    <tr>\n      <th>0</th>\n      <td>Sandeep</td>\n      <td>35</td>\n    </tr>\n    <tr>\n      <th>1</th>\n      <td>Murari</td>\n      <td>25</td>\n    </tr>\n    <tr>\n      <th>2</th>\n      <td>Niya</td>\n      <td>30</td>\n    </tr>\n    <tr>\n      <th>3</th>\n      <td>John</td>\n      <td>33</td>\n    </tr>\n    <tr>\n      <th>4</th>\n      <td>Swarnima</td>\n      <td>23</td>\n    </tr>\n  </tbody>\n</table>\n</div>"
     },
     "metadata": {},
     "execution_count": 5
    }
   ],
   "source": [
    "name = ['Sandeep','Murari','Niya','John','Swarnima']\n",
    "age = [35, 25, 30, 33, 23]\n",
    "\n",
    "people = list (zip(name,age))\n",
    "print(people)\n",
    "df = pd.DataFrame(data=people, columns=['Name','Age'])\n",
    "df"
   ]
  },
  {
   "cell_type": "code",
   "execution_count": 6,
   "metadata": {},
   "outputs": [
    {
     "output_type": "execute_result",
     "data": {
      "text/plain": "   Name  Age\n0   4.0  5.0\n1   2.0  2.0\n2   3.0  3.0\n3   1.0  4.0\n4   5.0  1.0",
      "text/html": "<div>\n<style scoped>\n    .dataframe tbody tr th:only-of-type {\n        vertical-align: middle;\n    }\n\n    .dataframe tbody tr th {\n        vertical-align: top;\n    }\n\n    .dataframe thead th {\n        text-align: right;\n    }\n</style>\n<table border=\"1\" class=\"dataframe\">\n  <thead>\n    <tr style=\"text-align: right;\">\n      <th></th>\n      <th>Name</th>\n      <th>Age</th>\n    </tr>\n  </thead>\n  <tbody>\n    <tr>\n      <th>0</th>\n      <td>4.0</td>\n      <td>5.0</td>\n    </tr>\n    <tr>\n      <th>1</th>\n      <td>2.0</td>\n      <td>2.0</td>\n    </tr>\n    <tr>\n      <th>2</th>\n      <td>3.0</td>\n      <td>3.0</td>\n    </tr>\n    <tr>\n      <th>3</th>\n      <td>1.0</td>\n      <td>4.0</td>\n    </tr>\n    <tr>\n      <th>4</th>\n      <td>5.0</td>\n      <td>1.0</td>\n    </tr>\n  </tbody>\n</table>\n</div>"
     },
     "metadata": {},
     "execution_count": 6
    }
   ],
   "source": [
    "df.rank() # compute numerical data ranks (1 through n) along axis"
   ]
  },
  {
   "cell_type": "markdown",
   "metadata": {},
   "source": [
    "*** Data Retrieval from Data Frames ***"
   ]
  },
  {
   "cell_type": "code",
   "execution_count": 18,
   "metadata": {},
   "outputs": [
    {
     "output_type": "execute_result",
     "data": {
      "text/plain": "Name    Sandeep\nAge          35\nName: 0, dtype: object"
     },
     "metadata": {},
     "execution_count": 18
    }
   ],
   "source": [
    "# rows can be retrieved via index\n",
    "df.iloc[0]"
   ]
  },
  {
   "cell_type": "code",
   "execution_count": 8,
   "metadata": {},
   "outputs": [
    {
     "output_type": "execute_result",
     "data": {
      "text/plain": "0     Sandeep\n1      Murari\n2        Niya\n3        John\n4    Swarnima\nName: Name, dtype: object"
     },
     "metadata": {},
     "execution_count": 8
    }
   ],
   "source": [
    "# columns can be retrieved using names\n",
    "df [\"Name\"]"
   ]
  },
  {
   "cell_type": "code",
   "execution_count": 19,
   "metadata": {
    "tags": []
   },
   "outputs": [
    {
     "output_type": "stream",
     "name": "stdout",
     "text": "<class 'pandas.core.series.Series'>\nIndex access in a Series: Sandeep\n"
    }
   ],
   "source": [
    "print(type(df[\"Age\"])) #each column is a Series!\n",
    "print(\"Index access in a Series:\",df[\"Name\"][0])"
   ]
  },
  {
   "cell_type": "code",
   "execution_count": 22,
   "metadata": {
    "tags": []
   },
   "outputs": [
    {
     "output_type": "stream",
     "name": "stdout",
     "text": "0             LEARN\n1                BY\n2           INSIGTH\n3           INSIGHT\n4                BY\n5             LEARN\n0    LEARNBYINSIGHT\ndtype: object\nRow access of Series using index directly:\n 0             LEARN\n0    LEARNBYINSIGHT\ndtype: object\nRow access of Series using iloc:\n LEARNBYINSIGHT\n"
    }
   ],
   "source": [
    "# index is not unique. Thus, when accessed, if multiple values - gives all\n",
    "findme = pd.Series([\"LEARN\",\"BY\",\"INSIGTH\"])\n",
    "findme = findme.append(pd.Series([\"INSIGHT\",\"BY\",\"LEARN\"]), ignore_index=True)\n",
    "findme = findme.append(pd.Series([\"LEARNBYINSIGHT\"])) #resets index by default on append\n",
    "print(findme)\n",
    "print(\"Row access of Series using index directly:\\n\",findme[0]) # returns both values (visible)\n",
    "print(\"Row access of Series using iloc:\\n\", findme.iloc[6]) # returns actual index (assume hidden unique) "
   ]
  },
  {
   "cell_type": "code",
   "execution_count": 23,
   "metadata": {
    "tags": []
   },
   "outputs": [
    {
     "output_type": "stream",
     "name": "stdout",
     "text": "<class 'pandas.core.frame.DataFrame'>\nRangeIndex: 5 entries, 0 to 4\nData columns (total 2 columns):\n #   Column  Non-Null Count  Dtype \n---  ------  --------------  ----- \n 0   Name    5 non-null      object\n 1   Age     5 non-null      int64 \ndtypes: int64(1), object(1)\nmemory usage: 208.0+ bytes\n"
    }
   ],
   "source": [
    "df.info() # basic info about dataframe, generally first thing to gauge about"
   ]
  },
  {
   "cell_type": "code",
   "execution_count": 28,
   "metadata": {},
   "outputs": [
    {
     "output_type": "execute_result",
     "data": {
      "text/plain": "0     Sandeep\n1      Murari\n2        Niya\n3        John\n4    Swarnima\nName: 0, dtype: object"
     },
     "metadata": {},
     "execution_count": 28
    }
   ],
   "source": [
    "df2 = pd.DataFrame(data=people)\n",
    "df2[0] #only allowed when columns are not defined. Thus, df[0] will throw error as Name, Age defined."
   ]
  },
  {
   "cell_type": "code",
   "execution_count": 29,
   "metadata": {},
   "outputs": [
    {
     "output_type": "execute_result",
     "data": {
      "text/plain": "          Age\nName         \nSandeep    35\nMurari     25\nNiya       30\nJohn       33\nSwarnima   23",
      "text/html": "<div>\n<style scoped>\n    .dataframe tbody tr th:only-of-type {\n        vertical-align: middle;\n    }\n\n    .dataframe tbody tr th {\n        vertical-align: top;\n    }\n\n    .dataframe thead th {\n        text-align: right;\n    }\n</style>\n<table border=\"1\" class=\"dataframe\">\n  <thead>\n    <tr style=\"text-align: right;\">\n      <th></th>\n      <th>Age</th>\n    </tr>\n    <tr>\n      <th>Name</th>\n      <th></th>\n    </tr>\n  </thead>\n  <tbody>\n    <tr>\n      <th>Sandeep</th>\n      <td>35</td>\n    </tr>\n    <tr>\n      <th>Murari</th>\n      <td>25</td>\n    </tr>\n    <tr>\n      <th>Niya</th>\n      <td>30</td>\n    </tr>\n    <tr>\n      <th>John</th>\n      <td>33</td>\n    </tr>\n    <tr>\n      <th>Swarnima</th>\n      <td>23</td>\n    </tr>\n  </tbody>\n</table>\n</div>"
     },
     "metadata": {},
     "execution_count": 29
    }
   ],
   "source": [
    "#Can define any column as index\n",
    "df.set_index('Name', inplace=True)\n",
    "df"
   ]
  },
  {
   "cell_type": "code",
   "execution_count": 33,
   "metadata": {},
   "outputs": [
    {
     "output_type": "execute_result",
     "data": {
      "text/plain": "         Age\nName        \nSandeep   35\nMurari    25\nNiya      30",
      "text/html": "<div>\n<style scoped>\n    .dataframe tbody tr th:only-of-type {\n        vertical-align: middle;\n    }\n\n    .dataframe tbody tr th {\n        vertical-align: top;\n    }\n\n    .dataframe thead th {\n        text-align: right;\n    }\n</style>\n<table border=\"1\" class=\"dataframe\">\n  <thead>\n    <tr style=\"text-align: right;\">\n      <th></th>\n      <th>Age</th>\n    </tr>\n    <tr>\n      <th>Name</th>\n      <th></th>\n    </tr>\n  </thead>\n  <tbody>\n    <tr>\n      <th>Sandeep</th>\n      <td>35</td>\n    </tr>\n    <tr>\n      <th>Murari</th>\n      <td>25</td>\n    </tr>\n    <tr>\n      <th>Niya</th>\n      <td>30</td>\n    </tr>\n  </tbody>\n</table>\n</div>"
     },
     "metadata": {},
     "execution_count": 33
    }
   ],
   "source": [
    "# cannot do df['Sandeep'] - its not an accessible index\n",
    "# range around them can be done\n",
    "df['Sandeep':'Niya']"
   ]
  },
  {
   "cell_type": "code",
   "execution_count": 35,
   "metadata": {},
   "outputs": [
    {
     "output_type": "execute_result",
     "data": {
      "text/plain": "Age    35\nName: Sandeep, dtype: int64"
     },
     "metadata": {},
     "execution_count": 35
    }
   ],
   "source": [
    "#loc access can be done (SEE: loc and not iloc => no more numerical index)\n",
    "df.loc['Sandeep']"
   ]
  },
  {
   "cell_type": "code",
   "execution_count": 39,
   "metadata": {},
   "outputs": [
    {
     "output_type": "execute_result",
     "data": {
      "text/plain": "Name\nSandeep     35\nMurari      25\nNiya        30\nJohn        33\nSwarnima    23\nName: Age, dtype: int64"
     },
     "metadata": {},
     "execution_count": 39
    }
   ],
   "source": [
    "#df['Name'] => NOT allowed. No more a column but index\n",
    "df['Age'] # => Allowed"
   ]
  },
  {
   "cell_type": "markdown",
   "metadata": {},
   "source": [
    "*** Dataframe from a dictionary ***"
   ]
  },
  {
   "cell_type": "code",
   "execution_count": 40,
   "metadata": {
    "tags": []
   },
   "outputs": [
    {
     "output_type": "stream",
     "name": "stdout",
     "text": "Country ['India', 'China', 'United States', 'Malaysia']\nEducated [200001234, 300001234, 100001234, 20001234]\n"
    },
    {
     "output_type": "execute_result",
     "data": {
      "text/plain": "         Country   Educated\n0          India  200001234\n1          China  300001234\n2  United States  100001234\n3       Malaysia   20001234",
      "text/html": "<div>\n<style scoped>\n    .dataframe tbody tr th:only-of-type {\n        vertical-align: middle;\n    }\n\n    .dataframe tbody tr th {\n        vertical-align: top;\n    }\n\n    .dataframe thead th {\n        text-align: right;\n    }\n</style>\n<table border=\"1\" class=\"dataframe\">\n  <thead>\n    <tr style=\"text-align: right;\">\n      <th></th>\n      <th>Country</th>\n      <th>Educated</th>\n    </tr>\n  </thead>\n  <tbody>\n    <tr>\n      <th>0</th>\n      <td>India</td>\n      <td>200001234</td>\n    </tr>\n    <tr>\n      <th>1</th>\n      <td>China</td>\n      <td>300001234</td>\n    </tr>\n    <tr>\n      <th>2</th>\n      <td>United States</td>\n      <td>100001234</td>\n    </tr>\n    <tr>\n      <th>3</th>\n      <td>Malaysia</td>\n      <td>20001234</td>\n    </tr>\n  </tbody>\n</table>\n</div>"
     },
     "metadata": {},
     "execution_count": 40
    }
   ],
   "source": [
    "educated_dict = { 'Country': [ 'India', 'China', 'United States', 'Malaysia' ],\n",
    "                  'Educated' : [200001234, 300001234, 100001234, 20001234] }\n",
    "\n",
    "for k,v in educated_dict.items():\n",
    "    print (k,v)\n",
    "\n",
    "df2 = pd.DataFrame(educated_dict)\n",
    "df2"
   ]
  },
  {
   "cell_type": "code",
   "execution_count": 41,
   "metadata": {
    "tags": []
   },
   "outputs": [
    {
     "output_type": "stream",
     "name": "stdout",
     "text": "<class 'pandas.core.frame.DataFrame'>\nRangeIndex: 4 entries, 0 to 3\nData columns (total 2 columns):\n #   Column    Non-Null Count  Dtype \n---  ------    --------------  ----- \n 0   Country   4 non-null      object\n 1   Educated  4 non-null      int64 \ndtypes: int64(1), object(1)\nmemory usage: 192.0+ bytes\n"
    }
   ],
   "source": [
    "df2.info()"
   ]
  },
  {
   "cell_type": "code",
   "execution_count": 43,
   "metadata": {},
   "outputs": [
    {
     "output_type": "execute_result",
     "data": {
      "text/plain": "  Country   Educated\n0   India  200001234\n1   China  300001234",
      "text/html": "<div>\n<style scoped>\n    .dataframe tbody tr th:only-of-type {\n        vertical-align: middle;\n    }\n\n    .dataframe tbody tr th {\n        vertical-align: top;\n    }\n\n    .dataframe thead th {\n        text-align: right;\n    }\n</style>\n<table border=\"1\" class=\"dataframe\">\n  <thead>\n    <tr style=\"text-align: right;\">\n      <th></th>\n      <th>Country</th>\n      <th>Educated</th>\n    </tr>\n  </thead>\n  <tbody>\n    <tr>\n      <th>0</th>\n      <td>India</td>\n      <td>200001234</td>\n    </tr>\n    <tr>\n      <th>1</th>\n      <td>China</td>\n      <td>300001234</td>\n    </tr>\n  </tbody>\n</table>\n</div>"
     },
     "metadata": {},
     "execution_count": 43
    }
   ],
   "source": [
    "#df.head() => would give entire data back\n",
    "df2.head(2)"
   ]
  },
  {
   "cell_type": "code",
   "execution_count": 44,
   "metadata": {},
   "outputs": [
    {
     "output_type": "execute_result",
     "data": {
      "text/plain": "    Country   Educated\n3  Malaysia   20001234\n1     China  300001234",
      "text/html": "<div>\n<style scoped>\n    .dataframe tbody tr th:only-of-type {\n        vertical-align: middle;\n    }\n\n    .dataframe tbody tr th {\n        vertical-align: top;\n    }\n\n    .dataframe thead th {\n        text-align: right;\n    }\n</style>\n<table border=\"1\" class=\"dataframe\">\n  <thead>\n    <tr style=\"text-align: right;\">\n      <th></th>\n      <th>Country</th>\n      <th>Educated</th>\n    </tr>\n  </thead>\n  <tbody>\n    <tr>\n      <th>3</th>\n      <td>Malaysia</td>\n      <td>20001234</td>\n    </tr>\n    <tr>\n      <th>1</th>\n      <td>China</td>\n      <td>300001234</td>\n    </tr>\n  </tbody>\n</table>\n</div>"
     },
     "metadata": {},
     "execution_count": 44
    }
   ],
   "source": [
    "df2.sample(2) #any "
   ]
  },
  {
   "cell_type": "code",
   "execution_count": 45,
   "metadata": {},
   "outputs": [
    {
     "output_type": "execute_result",
     "data": {
      "text/plain": "0            India\n1            China\n2    United States\n3         Malaysia\nName: Country, dtype: object"
     },
     "metadata": {},
     "execution_count": 45
    }
   ],
   "source": [
    "df2[\"Country\"]"
   ]
  },
  {
   "cell_type": "markdown",
   "metadata": {},
   "source": [
    "*** Dataframe from CSV ***"
   ]
  },
  {
   "cell_type": "code",
   "execution_count": 47,
   "metadata": {},
   "outputs": [
    {
     "output_type": "execute_result",
     "data": {
      "text/plain": "  Country Name Country Code  Year        Value\n0   Arab World          ARB  1960   92490932.0\n1   Arab World          ARB  1961   95044497.0\n2   Arab World          ARB  1962   97682294.0\n3   Arab World          ARB  1963  100411076.0\n4   Arab World          ARB  1964  103239902.0",
      "text/html": "<div>\n<style scoped>\n    .dataframe tbody tr th:only-of-type {\n        vertical-align: middle;\n    }\n\n    .dataframe tbody tr th {\n        vertical-align: top;\n    }\n\n    .dataframe thead th {\n        text-align: right;\n    }\n</style>\n<table border=\"1\" class=\"dataframe\">\n  <thead>\n    <tr style=\"text-align: right;\">\n      <th></th>\n      <th>Country Name</th>\n      <th>Country Code</th>\n      <th>Year</th>\n      <th>Value</th>\n    </tr>\n  </thead>\n  <tbody>\n    <tr>\n      <th>0</th>\n      <td>Arab World</td>\n      <td>ARB</td>\n      <td>1960</td>\n      <td>92490932.0</td>\n    </tr>\n    <tr>\n      <th>1</th>\n      <td>Arab World</td>\n      <td>ARB</td>\n      <td>1961</td>\n      <td>95044497.0</td>\n    </tr>\n    <tr>\n      <th>2</th>\n      <td>Arab World</td>\n      <td>ARB</td>\n      <td>1962</td>\n      <td>97682294.0</td>\n    </tr>\n    <tr>\n      <th>3</th>\n      <td>Arab World</td>\n      <td>ARB</td>\n      <td>1963</td>\n      <td>100411076.0</td>\n    </tr>\n    <tr>\n      <th>4</th>\n      <td>Arab World</td>\n      <td>ARB</td>\n      <td>1964</td>\n      <td>103239902.0</td>\n    </tr>\n  </tbody>\n</table>\n</div>"
     },
     "metadata": {},
     "execution_count": 47
    }
   ],
   "source": [
    "# The option sep=\",\" is used to indicate field separators\n",
    "# The file name can be replaced with a URL\n",
    "df3 = pd.read_csv('./data-files/panda/population.csv',sep=\",\") \n",
    "df3.head()"
   ]
  },
  {
   "cell_type": "code",
   "execution_count": 48,
   "metadata": {
    "tags": []
   },
   "outputs": [
    {
     "output_type": "stream",
     "name": "stdout",
     "text": "<class 'pandas.core.frame.DataFrame'>\nRangeIndex: 14885 entries, 0 to 14884\nData columns (total 4 columns):\n #   Column        Non-Null Count  Dtype  \n---  ------        --------------  -----  \n 0   Country Name  14885 non-null  object \n 1   Country Code  14885 non-null  object \n 2   Year          14885 non-null  int64  \n 3   Value         14885 non-null  float64\ndtypes: float64(1), int64(1), object(2)\nmemory usage: 465.3+ KB\n"
    }
   ],
   "source": [
    "df3.info() #get the jist of data => 14885 rows :thumbsup: "
   ]
  },
  {
   "cell_type": "markdown",
   "metadata": {},
   "source": [
    "*** Dataframe from Built-in dataset ***\n",
    "\n",
    "Packages like sklearn and seaborn come with practice datasets\n"
   ]
  },
  {
   "cell_type": "code",
   "execution_count": 3,
   "metadata": {},
   "outputs": [
    {
     "output_type": "execute_result",
     "data": {
      "text/plain": "['sepal length (cm)',\n 'sepal width (cm)',\n 'petal length (cm)',\n 'petal width (cm)']"
     },
     "metadata": {},
     "execution_count": 3
    }
   ],
   "source": [
    "#Pandas dataframe from iris dataset\n",
    "from sklearn.datasets import load_iris\n",
    "\n",
    "iris = load_iris()\n",
    "iris.feature_names"
   ]
  }
 ]
}