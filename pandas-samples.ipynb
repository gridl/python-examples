{
 "metadata": {
  "language_info": {
   "codemirror_mode": {
    "name": "ipython",
    "version": 3
   },
   "file_extension": ".py",
   "mimetype": "text/x-python",
   "name": "python",
   "nbconvert_exporter": "python",
   "pygments_lexer": "ipython3",
   "version": "3.8.5-final"
  },
  "orig_nbformat": 2,
  "kernelspec": {
   "name": "python38564bit9ac65d54777541ddb4639e761536d6dd",
   "display_name": "Python 3.8.5 64-bit"
  }
 },
 "nbformat": 4,
 "nbformat_minor": 2,
 "cells": [
  {
   "cell_type": "markdown",
   "metadata": {},
   "source": [
    "## Pandas Samples ##"
   ]
  },
  {
   "cell_type": "markdown",
   "metadata": {},
   "source": [
    "### Uber taxi Drivers ###\n",
    "\n",
    "dataset about 10000 Uber rides from one day in New York city. \n",
    "The columns give information about time and location of each pickup\n"
   ]
  },
  {
   "cell_type": "code",
   "execution_count": 1,
   "metadata": {},
   "outputs": [],
   "source": [
    "import pandas as pd\n",
    "\n",
    "%matplotlib inline\n",
    "import matplotlib.pyplot as plt"
   ]
  },
  {
   "cell_type": "code",
   "execution_count": 2,
   "metadata": {},
   "outputs": [
    {
     "output_type": "execute_result",
     "data": {
      "text/plain": "Index(['Id', 'Date/Time', 'Lat', 'Lon', 'Base'], dtype='object')"
     },
     "metadata": {},
     "execution_count": 2
    }
   ],
   "source": [
    "uber_df = pd.read_csv('./data-files/pandas/uber-apr14.csv')\n",
    "uber_df.columns"
   ]
  },
  {
   "cell_type": "code",
   "execution_count": 4,
   "metadata": {},
   "outputs": [
    {
     "output_type": "execute_result",
     "data": {
      "text/plain": "        Id          Date/Time      Lat      Lon    Base\n4238  4238  4/4/2014 10:56:00  40.7595 -74.0225  B02512\n3072  3072  4/3/2014 16:35:00  40.7608 -73.9775  B02512\n7183  7183   4/6/2014 9:02:00  40.7599 -73.9846  B02512",
      "text/html": "<div>\n<style scoped>\n    .dataframe tbody tr th:only-of-type {\n        vertical-align: middle;\n    }\n\n    .dataframe tbody tr th {\n        vertical-align: top;\n    }\n\n    .dataframe thead th {\n        text-align: right;\n    }\n</style>\n<table border=\"1\" class=\"dataframe\">\n  <thead>\n    <tr style=\"text-align: right;\">\n      <th></th>\n      <th>Id</th>\n      <th>Date/Time</th>\n      <th>Lat</th>\n      <th>Lon</th>\n      <th>Base</th>\n    </tr>\n  </thead>\n  <tbody>\n    <tr>\n      <th>4238</th>\n      <td>4238</td>\n      <td>4/4/2014 10:56:00</td>\n      <td>40.7595</td>\n      <td>-74.0225</td>\n      <td>B02512</td>\n    </tr>\n    <tr>\n      <th>3072</th>\n      <td>3072</td>\n      <td>4/3/2014 16:35:00</td>\n      <td>40.7608</td>\n      <td>-73.9775</td>\n      <td>B02512</td>\n    </tr>\n    <tr>\n      <th>7183</th>\n      <td>7183</td>\n      <td>4/6/2014 9:02:00</td>\n      <td>40.7599</td>\n      <td>-73.9846</td>\n      <td>B02512</td>\n    </tr>\n  </tbody>\n</table>\n</div>"
     },
     "metadata": {},
     "execution_count": 4
    }
   ],
   "source": [
    "uber_df.sample(3)"
   ]
  },
  {
   "cell_type": "code",
   "execution_count": 3,
   "metadata": {
    "tags": []
   },
   "outputs": [
    {
     "output_type": "stream",
     "name": "stdout",
     "text": "<class 'pandas.core.frame.DataFrame'>\nRangeIndex: 10000 entries, 0 to 9999\nData columns (total 5 columns):\n #   Column     Non-Null Count  Dtype  \n---  ------     --------------  -----  \n 0   Id         10000 non-null  int64  \n 1   Date/Time  10000 non-null  object \n 2   Lat        10000 non-null  float64\n 3   Lon        10000 non-null  float64\n 4   Base       10000 non-null  object \ndtypes: float64(2), int64(1), object(2)\nmemory usage: 390.8+ KB\n"
    }
   ],
   "source": [
    "uber_df.info()"
   ]
  },
  {
   "cell_type": "code",
   "execution_count": null,
   "metadata": {},
   "outputs": [],
   "source": [
    "# column 'Date/Time' is in object format, lets correct it\n",
    "uber_df.apply(x : )"
   ]
  }
 ]
}