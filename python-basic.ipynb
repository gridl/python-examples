{
 "metadata": {
  "language_info": {
   "codemirror_mode": {
    "name": "ipython",
    "version": 3
   },
   "file_extension": ".py",
   "mimetype": "text/x-python",
   "name": "python",
   "nbconvert_exporter": "python",
   "pygments_lexer": "ipython3",
   "version": "3.8.5-final"
  },
  "orig_nbformat": 2,
  "kernelspec": {
   "name": "python38564bitd654bda1a12243c191030f541becc3bb",
   "display_name": "Python 3.8.5 64-bit"
  }
 },
 "nbformat": 4,
 "nbformat_minor": 2,
 "cells": [
  {
   "cell_type": "markdown",
   "metadata": {},
   "source": [
    "## Data Types"
   ]
  },
  {
   "cell_type": "markdown",
   "metadata": {},
   "source": [
    "***Variables and Conditionals***"
   ]
  },
  {
   "cell_type": "code",
   "execution_count": 1,
   "metadata": {
    "tags": []
   },
   "outputs": [
    {
     "output_type": "stream",
     "name": "stdout",
     "text": "x: 21 <class 'int'>\ny: 4.1 <class 'float'>\nx: 86.1 <class 'float'>\nx: Sandeep Mewara <class 'str'>\n"
    }
   ],
   "source": [
    "x = 21\n",
    "print ('x:',x,type(x)) #type is defined by the value it refers to\n",
    "y = 4.1\n",
    "print ('y:',y,type(y))\n",
    "x = x * y\n",
    "print ('x:',x,type(x)) #type of value it refers to can change over the course of program execution\n",
    "x = 'Sandeep Mewara'\n",
    "print ('x:',x,type(x)) #str - string"
   ]
  },
  {
   "cell_type": "code",
   "execution_count": 2,
   "metadata": {
    "tags": []
   },
   "outputs": [
    {
     "output_type": "stream",
     "name": "stdout",
     "text": "12\n60\n100\n"
    }
   ],
   "source": [
    "#some simple operations\n",
    "x=2\n",
    "x+=10 # x=x+10\n",
    "print (x)\n",
    "\n",
    "x*=5  # x=x*5\n",
    "print (x)\n",
    "\n",
    "x = 10\n",
    "print (x**2) #raise to the power of 2"
   ]
  },
  {
   "cell_type": "markdown",
   "metadata": {},
   "source": [
    "*** Conditional statements ***"
   ]
  },
  {
   "cell_type": "code",
   "execution_count": 3,
   "metadata": {
    "tags": []
   },
   "outputs": [
    {
     "output_type": "stream",
     "name": "stdout",
     "text": "Less\n"
    }
   ],
   "source": [
    "x=75\n",
    "if x > 100:\n",
    "    print (\"More\")\n",
    "elif x > 70:\n",
    "    print (\"Less\")\n",
    "else:\n",
    "    print (\"Not defined\")"
   ]
  },
  {
   "cell_type": "code",
   "execution_count": 4,
   "metadata": {
    "tags": []
   },
   "outputs": [
    {
     "output_type": "stream",
     "name": "stdout",
     "text": "and condition\nor condition\nnot condititon\n"
    }
   ],
   "source": [
    "x,y = 10,5  # x = 10;y = 5\n",
    "if x > 5 and y<10: # 'and' evaluates to true only if all the conditions are true\n",
    "    print ('and condition')\n",
    "\n",
    "if x > 10 or y == 5: # 'or' evaluates to true if either of the condition are true\n",
    "    print ('or condition')\n",
    "\n",
    "if not x == 100: # 'not' toggles true to false & vice versa\n",
    "    print ('not condititon')"
   ]
  },
  {
   "cell_type": "markdown",
   "metadata": {},
   "source": [
    "*** String manipulations ***"
   ]
  },
  {
   "cell_type": "code",
   "execution_count": 5,
   "metadata": {
    "tags": []
   },
   "outputs": [
    {
     "output_type": "stream",
     "name": "stdout",
     "text": "P\nData Science is awesome!\nKnow it's power.\nawesome!\n"
    }
   ],
   "source": [
    "s = \"Python for Machine Learning\"\n",
    "print (s[0]) #Print the first character\n",
    "\n",
    "t = 'Data Science'\n",
    "q = \"\"\"is awesome!\n",
    "Know it's power.\"\"\"\n",
    "print (t, q)\n",
    "print (q[3:11])"
   ]
  },
  {
   "cell_type": "code",
   "execution_count": 6,
   "metadata": {
    "tags": []
   },
   "outputs": [
    {
     "output_type": "stream",
     "name": "stdout",
     "text": "Python for Machine Learning.Python for Machine Learning.\nPython for Machine Learning.... Learn by Insight!!!\n"
    }
   ],
   "source": [
    "s = 'Python for Machine Learning.' \n",
    "print (s*2) # '*' operator on string repeats the string\n",
    "\n",
    "v = \"... Learn by Insight!!!\" \n",
    "t = s + v # concatenate strings\n",
    "print(t)"
   ]
  },
  {
   "cell_type": "code",
   "execution_count": 7,
   "metadata": {
    "tags": []
   },
   "outputs": [
    {
     "output_type": "stream",
     "name": "stdout",
     "text": "Sandeep mewara\nSandeep mewara , Sandeep Mewara\n"
    }
   ],
   "source": [
    "s=\"sandeep mewara\" \n",
    "\n",
    "#s[0]='H' #trying to replace ’h’ with ’H’ => INCORRECT\n",
    "s = s.replace('s','S')\n",
    "print (s)\n",
    "t = s.replace('m','M')\n",
    "print (s,',',t) # original string is preserved"
   ]
  },
  {
   "cell_type": "code",
   "execution_count": 8,
   "metadata": {
    "tags": []
   },
   "outputs": [
    {
     "output_type": "stream",
     "name": "stdout",
     "text": "I got my BTech from IIT in year 2005\n"
    }
   ],
   "source": [
    "x = \"I got my BTech from %s in year %d\" %('IIT',2005) # string construction\n",
    "print(x)"
   ]
  },
  {
   "cell_type": "markdown",
   "metadata": {},
   "source": [
    "***Type conversion***"
   ]
  },
  {
   "cell_type": "code",
   "execution_count": 9,
   "metadata": {
    "tags": []
   },
   "outputs": [
    {
     "output_type": "stream",
     "name": "stdout",
     "text": "1854.8\n"
    }
   ],
   "source": [
    "a,b='18','54.8'\n",
    "print (a+b) # a,b => they are strings, not numbers."
   ]
  },
  {
   "cell_type": "code",
   "execution_count": 10,
   "metadata": {
    "tags": []
   },
   "outputs": [
    {
     "output_type": "stream",
     "name": "stdout",
     "text": "510\n15\n"
    }
   ],
   "source": [
    "s,t=5,10\n",
    "print (str(s)+str(t)) # non-string to string add\n",
    "print (s+t) # normal add"
   ]
  },
  {
   "cell_type": "markdown",
   "metadata": {},
   "source": [
    "***Formatting Strings***"
   ]
  },
  {
   "cell_type": "code",
   "execution_count": 11,
   "metadata": {
    "tags": []
   },
   "outputs": [
    {
     "output_type": "stream",
     "name": "stdout",
     "text": "FillWord\nThere is more     space\n  42\n0042\n42.347\n42.34000\n"
    }
   ],
   "source": [
    "#% is a format operator and %d, %s, %f are special format sequences\n",
    "\n",
    "print(\"%15s\"%\"FillWord\") # right align in a column width 15\n",
    "print(\"There is %-8s space\"%\"more\") # negative number for left alignment\n",
    "\n",
    "print(\"%4d\"%42) #convert to 4 decimals\n",
    "print(\"%04d\"%42) #pack leading zeros\n",
    "\n",
    "print(\"%.3f\"%42.34656) # %.<fixed number of digits to the right of Dot.>f\n",
    "print(\"%.5f\"%42.34)"
   ]
  },
  {
   "cell_type": "code",
   "execution_count": 12,
   "metadata": {
    "tags": []
   },
   "outputs": [
    {
     "output_type": "stream",
     "name": "stdout",
     "text": "Formatting using the format func: 2.100lakh 04km LearnByInsight\n"
    }
   ],
   "source": [
    "print (\"Formatting using the format func: {0:.3f}lakh {1:02d}km {2:5s}\".format(2.1,4,\"LearnByInsight\"))"
   ]
  },
  {
   "cell_type": "code",
   "execution_count": 13,
   "metadata": {
    "tags": []
   },
   "outputs": [
    {
     "output_type": "stream",
     "name": "stdout",
     "text": "True\nFalse\n"
    }
   ],
   "source": [
    "print ('milk' in 'milky way')\n",
    "print ('a' in 'milk')"
   ]
  },
  {
   "cell_type": "markdown",
   "metadata": {},
   "source": [
    "## Data Structures"
   ]
  },
  {
   "cell_type": "markdown",
   "metadata": {},
   "source": [
    "***List***"
   ]
  },
  {
   "cell_type": "code",
   "execution_count": 14,
   "metadata": {
    "tags": []
   },
   "outputs": [
    {
     "output_type": "stream",
     "name": "stdout",
     "text": "[1, 2, 3, 5, 8, 13]\n[1, 'x', 2, 't', 3.0]\n"
    }
   ],
   "source": [
    "# indexed by integers, starting from 0.\n",
    "\n",
    "l=[1,2,3,5,8,13] #items of the same type\n",
    "print (l)\n",
    "\n",
    "lst=[1,'x',2,'t',3.0] #items of mixed types\n",
    "print (lst)"
   ]
  },
  {
   "cell_type": "code",
   "execution_count": 15,
   "metadata": {
    "tags": []
   },
   "outputs": [
    {
     "output_type": "stream",
     "name": "stdout",
     "text": "List: [1, 2, 3, 5, 8, 'sm', 13, 21, 34]\nLength of the list: 9\nPopped out element:34,\nList after pop operation:[1, 2, 3, 5, 8, 'sm', 13, 21]\n[1, 2, 5, 8, 'sm', 13, 21]\n"
    }
   ],
   "source": [
    "lst = [1,2,3,5,8,'sm',13,21,34]\n",
    "print (\"List:\",lst)\n",
    "print (\"Length of the list:\",len(lst)) #length of the list\n",
    "\n",
    "pop_element = lst.pop() #pop by default removes & returns the last element from the list\n",
    "print (\"Popped out element:%s,\\nList after pop operation:%s\"%(pop_element,lst))\n",
    "\n",
    "lst.pop(2) #pop can also be used to remove an element based on index starting from 0\n",
    "print (lst)"
   ]
  },
  {
   "cell_type": "code",
   "execution_count": 16,
   "metadata": {
    "tags": []
   },
   "outputs": [
    {
     "output_type": "stream",
     "name": "stdout",
     "text": "Before deleting: [1, 2, 3, 5, 8, 'sm']\nAfter deleting 2nd element [1, 2, 3, 5, 8]\n"
    }
   ],
   "source": [
    "lst = [1,2,3,5,8,'sm']\n",
    "print (\"Before deleting:\",lst)\n",
    "del lst[len(lst)-1]\n",
    "print (\"After deleting 2nd element\",lst)"
   ]
  },
  {
   "cell_type": "code",
   "execution_count": 17,
   "metadata": {
    "tags": []
   },
   "outputs": [
    {
     "output_type": "stream",
     "name": "stdout",
     "text": "[1, 2, 'insert', 3, 5, 8, 'sm']\n"
    }
   ],
   "source": [
    "lst = [1,2,3,5,8,'sm']\n",
    "lst.insert(2,\"insert\") #insert at an index\n",
    "print (lst)"
   ]
  },
  {
   "cell_type": "code",
   "execution_count": 18,
   "metadata": {},
   "outputs": [
    {
     "output_type": "execute_result",
     "data": {
      "text/plain": "'sm'"
     },
     "metadata": {},
     "execution_count": 18
    }
   ],
   "source": [
    "lst = [1,2,3,5,8,'sm']\n",
    "last_element = lst[-1] #negative index to access list elements from the end, -1 refers to the last element of the list\n",
    "last_element"
   ]
  },
  {
   "cell_type": "code",
   "execution_count": 19,
   "metadata": {
    "tags": []
   },
   "outputs": [
    {
     "output_type": "stream",
     "name": "stdout",
     "text": "[1, 2, 3, -3, 8] [1, 2, 3, -3, 8]\n"
    }
   ],
   "source": [
    "# List copy\n",
    "\n",
    "x = [1,2,3,5,8]\n",
    "x_copy = x #copy the contents of the list x\n",
    "x_copy[3] = -3 # change the content of the new list x_copy\n",
    "print (x,x_copy) # change made to the copied list affects original list too"
   ]
  },
  {
   "cell_type": "code",
   "execution_count": 20,
   "metadata": {
    "tags": []
   },
   "outputs": [
    {
     "output_type": "stream",
     "name": "stdout",
     "text": "List x: [1, 2, 3, 5, 8, 'sm']\nList x_copy [1, 2, 3, 5, 8, 'sm']\nx[1:3]=[2, 3], x[:3]=[1, 2, 3], x[2:]=[3, 5, 8, 'sm'], x[-2:]=[8, 'sm']\nx[1:5:2]=[2, 5]\n"
    }
   ],
   "source": [
    "#List Splicing\n",
    "\n",
    "x = [1,2,3,5,8,'sm']\n",
    "x_copy = x[:] # [start:end:step] default step 1. Returns a new list from start to end-1\n",
    "\n",
    "print (\"List x:\",x)\n",
    "print (\"List x_copy\", x_copy)\n",
    "\n",
    "print (\"x[1:3]=%s, x[:3]=%s, x[2:]=%s, x[-2:]=%s\"%(x[1:3],x[:3],x[2:],x[-2:]))\n",
    "print (\"x[1:5:2]=%s\"%x[1:5:2] ) #with step 2"
   ]
  },
  {
   "cell_type": "code",
   "execution_count": 21,
   "metadata": {
    "tags": []
   },
   "outputs": [
    {
     "output_type": "stream",
     "name": "stdout",
     "text": "[1, 2, 3, 5, 8, 'sm']\n[1, 5, 8, 'sm']\n"
    }
   ],
   "source": [
    "x = [1,2,3,5,8,'sm']\n",
    "print (x)\n",
    "del x[1:3] # Remove more than one element\n",
    "print (x)"
   ]
  },
  {
   "cell_type": "code",
   "execution_count": 22,
   "metadata": {
    "tags": []
   },
   "outputs": [
    {
     "output_type": "stream",
     "name": "stdout",
     "text": "List: [1, 2, 3, 5, 8, 'sm']\nAppending single element 13: [1, 2, 3, 5, 8, 'sm', 13]\nAdding more than one element -13 & -8: [1, 2, 3, 5, 8, 'sm', 13, -13, -8]\n"
    }
   ],
   "source": [
    "lst = [1,2,3,5,8,'sm']\n",
    "print (\"List:\",lst)\n",
    "\n",
    "lst.append(13)  #add a single element\n",
    "print (\"Appending single element 13:\",lst)\n",
    "\n",
    "lst.extend([-13,-8]) #add more than one element\n",
    "print (\"Adding more than one element -13 & -8:\",lst)"
   ]
  },
  {
   "cell_type": "code",
   "execution_count": 23,
   "metadata": {
    "tags": []
   },
   "outputs": [
    {
     "output_type": "stream",
     "name": "stdout",
     "text": "Appending a list [-5,-8]: [1, 2, 3, 5, 8, 'sm', [-5, -8]]\nMatrix:  [[2, 1], [4, 3]]\nAccessing individual elements: 2nd element in 1st row: 1\n"
    }
   ],
   "source": [
    "lst = [1,2,3,5,8,'sm']\n",
    "lst.append([-5,-8]) #list of list\n",
    "print (\"Appending a list [-5,-8]:\",lst)\n",
    "\n",
    "mat = [[2,1],[4,3]] #Define a matrix\n",
    "print (\"Matrix: \",mat)\n",
    "print (\"Accessing individual elements: 2nd element in 1st row:\",mat[0][1])"
   ]
  },
  {
   "cell_type": "code",
   "execution_count": 24,
   "metadata": {
    "tags": []
   },
   "outputs": [
    {
     "output_type": "stream",
     "name": "stdout",
     "text": "list: [1, 2, 3, 5, 8, 'sm']\n5 in list: True\na in list: False\n"
    }
   ],
   "source": [
    "lst = [1,2,3,5,8,'sm']\n",
    "print (\"list:\",lst) \n",
    "print (\"5 in list:\",5 in lst)\n",
    "print ('a in list:','a' in lst)"
   ]
  },
  {
   "cell_type": "code",
   "execution_count": 25,
   "metadata": {
    "tags": []
   },
   "outputs": [
    {
     "output_type": "stream",
     "name": "stdout",
     "text": "Machine Learning is awesome !!! \nWord list ['Machine', 'Learning', 'is', 'awesome', '!!!']\nex_list: ['Split', 'this', 'string', 'using', 'comma', 'separator']\n"
    }
   ],
   "source": [
    "text = \"Machine Learning is awesome !!!\"\n",
    "word_list = text.split() #split by space\n",
    "print (text,\"\\nWord list\",word_list)\n",
    "\n",
    "text = \"Split,this,string,using,comma,separator\"\n",
    "ex_list=text.split(',') #comma as delimiter\n",
    "print (\"ex_list:\",ex_list)"
   ]
  },
  {
   "cell_type": "code",
   "execution_count": 26,
   "metadata": {
    "tags": []
   },
   "outputs": [
    {
     "output_type": "stream",
     "name": "stdout",
     "text": "List of words ['Machine', 'Learning', 'is', 'awesome', '!!!']\nReconstruct: Machine Learning is awesome !!!\nReconstructed using a '*': Machine*Learning*is*awesome*!!!\n"
    }
   ],
   "source": [
    "text = \"Machine Learning is awesome !!!\"\n",
    "word_list = text.split()\n",
    "print (\"List of words\",word_list)\n",
    "sentence = \" \".join(word_list)\n",
    "print (\"Reconstruct:\",sentence)\n",
    "\n",
    "new_delimiter_sentence = \"*\".join(word_list) #via different delimiter\n",
    "print (\"Reconstructed using a '*':\", new_delimiter_sentence)"
   ]
  },
  {
   "cell_type": "code",
   "execution_count": 27,
   "metadata": {
    "tags": []
   },
   "outputs": [
    {
     "output_type": "stream",
     "name": "stdout",
     "text": "Water vapor and icy particles errupt from Enceladus\n"
    }
   ],
   "source": [
    "s = \"   Water vapor and icy particles errupt from Enceladus  \"\n",
    "t = s.strip() #remove leading and trailing whitespace if no chars is given in strip\n",
    "print(t)"
   ]
  },
  {
   "cell_type": "markdown",
   "metadata": {},
   "source": [
    "***Tuple***"
   ]
  },
  {
   "cell_type": "code",
   "execution_count": 28,
   "metadata": {
    "tags": []
   },
   "outputs": [
    {
     "output_type": "stream",
     "name": "stdout",
     "text": "<class 'tuple'> (1, 2, 'a', 'x', 3, 5)\nx\n('a', 'x', 3)\n(1, 'a', 2, 'x')\n<class 'int'> 10\n<class 'tuple'> ()\n<class 'tuple'> ('t', 'u', 'p', 'l', 'e')\n<class 'tuple'> (1, 2, 3, 5)\n<class 'tuple'> ('sm', 'lbi')\n"
    }
   ],
   "source": [
    "t = 1,2,'a','x',3,5\n",
    "print (type(t),t)\n",
    "print (t[3]) #access the elements the same way as in Lists\n",
    "print (t[2:5])\n",
    "\n",
    "t= (1,'a',2,'x') #Define a tuple enclosing it in a parantheses\n",
    "print(t)\n",
    "\n",
    "t = 10  #Tuple with a single element\n",
    "print (type(t),t)\n",
    "\n",
    "t = tuple() #an empty tuple\n",
    "print (type(t),t)\n",
    "\n",
    "t = tuple('tuple') #Argument string\n",
    "print (type(t),t) \n",
    "\n",
    "t = tuple([1,2,3,5]) #Argument list\n",
    "print (type(t),t) \n",
    "\n",
    "t = tuple(['sm','lbi']) #Argument list\n",
    "print (type(t),t) "
   ]
  },
  {
   "cell_type": "code",
   "execution_count": 29,
   "metadata": {
    "tags": []
   },
   "outputs": [
    {
     "output_type": "stream",
     "name": "stdout",
     "text": "{}\n<class 'dict'> {'voyager1': 1977, 'cassini': 1997, 'juno': 2011, 'mangalyaan': 2013}\n2011\n{('Sandeep', 'Mewara'): 24568, ('Code', 'Projct'): 7418}\n24568\n"
    }
   ],
   "source": [
    "d = dict() #create an empty dictionary\n",
    "print (d)\n",
    "\n",
    "space_probes = {\"voyager1\":1977,\"cassini\":1997,\"juno\":2011,\"mangalyaan\":2013} # colon ':', separates the key and value\n",
    "print (type(space_probes),space_probes)\n",
    "\n",
    "print (space_probes['juno']) #Accessing dictionary values\n",
    "\n",
    "# Tuples as keys of the dictionary \n",
    "name_id_num = {(\"Sandeep\",\"Mewara\"):24568,(\"Code\",\"Projct\"):7418}\n",
    "print (name_id_num)\n",
    "print (name_id_num[(\"Sandeep\",\"Mewara\")])"
   ]
  },
  {
   "cell_type": "code",
   "execution_count": 30,
   "metadata": {
    "tags": []
   },
   "outputs": [
    {
     "output_type": "stream",
     "name": "stdout",
     "text": "<class 'range'> range(0, 10)\n0 1 2 3 4 5 6 7 8 9 \nRange defined:\n3 4 5 6 7 8 \nRange defined with steps defined:\n2 5 8 11 14 17 20"
    }
   ],
   "source": [
    "# range\n",
    "x = range(10)\n",
    "print (type(x),x)\n",
    "\n",
    "for i in x:\n",
    "    print (i,end=\" \")\n",
    "\n",
    "print('\\nRange defined:')\n",
    "for j in range(3,9):\n",
    "    print (j,end=\" \")\n",
    "\n",
    "print('\\nRange defined with steps defined:')\n",
    "x = range(2,21,3)\n",
    "for i in x:\n",
    "    print (i,end=\" \")"
   ]
  },
  {
   "cell_type": "code",
   "execution_count": 31,
   "metadata": {
    "tags": []
   },
   "outputs": [
    {
     "output_type": "stream",
     "name": "stdout",
     "text": "3\n"
    }
   ],
   "source": [
    "# while\n",
    "lst =[7,3,5,2,9,1]\n",
    "i=0\n",
    "while lst[i] > 2:\n",
    "    i=i+1\n",
    "\n",
    "print (i)"
   ]
  },
  {
   "cell_type": "code",
   "execution_count": 32,
   "metadata": {
    "tags": []
   },
   "outputs": [
    {
     "output_type": "stream",
     "name": "stdout",
     "text": "1\n3\n9\n5\n"
    }
   ],
   "source": [
    "#continue\n",
    "\n",
    "x = [1,3,4,8,9,5]\n",
    "for i in x:\n",
    "    if i%2 == 0:\n",
    "        continue \n",
    "    print (i) "
   ]
  },
  {
   "cell_type": "code",
   "execution_count": 33,
   "metadata": {
    "tags": []
   },
   "outputs": [
    {
     "output_type": "stream",
     "name": "stdout",
     "text": "1\n2\n3\n4\n"
    }
   ],
   "source": [
    "# break\n",
    "x = [1,2,3,4,-5,8,9]\n",
    "for i in x:\n",
    "    if i < 0:\n",
    "        break\n",
    "    print (i)"
   ]
  },
  {
   "cell_type": "code",
   "execution_count": 34,
   "metadata": {
    "tags": []
   },
   "outputs": [
    {
     "output_type": "stream",
     "name": "stdout",
     "text": "0 5 5\n1 6 7\n2 7 9\n3 8 11\n4 9 13\n"
    }
   ],
   "source": [
    "# zip\n",
    "lst1 = range(5)\n",
    "lst2 = range(5,10)\n",
    "\n",
    "for x,y in zip(lst1,lst2):\n",
    "    print (x,y,x+y)"
   ]
  },
  {
   "cell_type": "code",
   "execution_count": 35,
   "metadata": {
    "tags": []
   },
   "outputs": [
    {
     "output_type": "stream",
     "name": "stdout",
     "text": "17\n[(1, 0), (5, 1), (2, 2), (17, 3), (8, 4), (-2, 5)]\nMax val and idx (17, 3)\n"
    }
   ],
   "source": [
    "#using zip to find the max element and index in a list\n",
    "lst = [1,5,2,17,8,-2]\n",
    "print (max(lst))\n",
    "lst_index = list(zip(lst,range(len(lst))))\n",
    "print (lst_index)\n",
    "print (\"Max val and idx\",max(lst_index))"
   ]
  },
  {
   "cell_type": "code",
   "execution_count": 36,
   "metadata": {
    "tags": []
   },
   "outputs": [
    {
     "output_type": "stream",
     "name": "stdout",
     "text": "[0, 1, 4, 9, 16]\n[1, 3, 5, 7, 9]\n[1, 3, 5, 7, 9]\n"
    },
    {
     "output_type": "execute_result",
     "data": {
      "text/plain": "['river', 'hills', 'and', 'shepherd']"
     },
     "metadata": {},
     "execution_count": 36
    }
   ],
   "source": [
    "# list comprehension\n",
    "#Generate the squares of the first 'n' numbers\n",
    "number_squares = [x*x for x in range(5)]\n",
    "print (number_squares)\n",
    "\n",
    "#list of even numbers upto 10\n",
    "even_nos = [x for x in range(10) if x%2]\n",
    "print (even_nos)\n",
    "\n",
    "even_nos = [x for x in range(1,10,2)]\n",
    "print (even_nos)\n",
    "\n",
    "#remove spaces from the word list \n",
    "word_list = [' river','hills  ',' and','shepherd']\n",
    "new_list = [word.strip() for word in word_list] #string the leading and trailing spaces\n",
    "new_list"
   ]
  },
  {
   "cell_type": "markdown",
   "metadata": {},
   "source": [
    "## Functions"
   ]
  },
  {
   "cell_type": "code",
   "execution_count": 37,
   "metadata": {
    "tags": []
   },
   "outputs": [
    {
     "output_type": "stream",
     "name": "stdout",
     "text": "5.333333333333333\n-0.75\n"
    }
   ],
   "source": [
    "def find_avg(x):\n",
    "    avg = sum(x)/len(x)\n",
    "    return avg\n",
    "\n",
    "print (find_avg([1,2,3,5,8,13]))\n",
    "print (find_avg([1,-2,3,-5]))"
   ]
  },
  {
   "cell_type": "code",
   "execution_count": 38,
   "metadata": {
    "tags": []
   },
   "outputs": [
    {
     "output_type": "stream",
     "name": "stdout",
     "text": "48\n32\n56\n15\n"
    }
   ],
   "source": [
    "def prod(x,y,z=1): \n",
    "    return (x+1)*(y+2)*(z+3)\n",
    "\n",
    "print (prod(1,2,3))\n",
    "print (prod(1,2)) # z default is defined so can be skipped\n",
    "print (prod(x=1,y=5))\n",
    "print (prod(z=2,y=1,x=0)) #Supply arguments in arbitary order"
   ]
  },
  {
   "cell_type": "code",
   "execution_count": 39,
   "metadata": {
    "tags": []
   },
   "outputs": [
    {
     "output_type": "stream",
     "name": "stdout",
     "text": "x,y => Inside the func: 10 20\nx,y => Outside the func: 10 -5\n"
    }
   ],
   "source": [
    "# variable scope\n",
    "x = 5\n",
    "y = -5\n",
    "def check_scope():\n",
    "    global x \n",
    "    x = 10\n",
    "    y = 20\n",
    "    print (\"x,y => Inside the func:\",x,y)\n",
    "\n",
    "check_scope()\n",
    "print (\"x,y => Outside the func:\",x,y)"
   ]
  },
  {
   "cell_type": "code",
   "execution_count": 40,
   "metadata": {
    "tags": []
   },
   "outputs": [
    {
     "output_type": "stream",
     "name": "stdout",
     "text": "Variable length arg: (20,)\n20\nVariable length arg: (22, 33, 44, 55)\n55\n"
    }
   ],
   "source": [
    "def sum_num(x,*y): # can accept a variable number of arguments if we add * to the last parameter name\n",
    "    print (\"Variable length arg:\",y)\n",
    "    s = x\n",
    "    for i in y:\n",
    "        s+=i\n",
    "    return i\n",
    "print (sum_num(10,20))\n",
    "print (sum_num(11,22,33,44,55))"
   ]
  },
  {
   "cell_type": "markdown",
   "metadata": {},
   "source": [
    "*** List Comprehension ***"
   ]
  },
  {
   "cell_type": "code",
   "execution_count": 4,
   "metadata": {},
   "outputs": [
    {
     "output_type": "execute_result",
     "data": {
      "text/plain": "[0, 1, 2, 3, 4]"
     },
     "metadata": {},
     "execution_count": 4
    }
   ],
   "source": [
    "lst = [i for i in range(5)]\n",
    "lst"
   ]
  },
  {
   "cell_type": "code",
   "execution_count": 1,
   "metadata": {},
   "outputs": [
    {
     "output_type": "execute_result",
     "data": {
      "text/plain": "[[0, 0, 0], [0, 0, 0], [0, 0, 0], [0, 0, 0]]"
     },
     "metadata": {},
     "execution_count": 1
    }
   ],
   "source": [
    "# matrix of 4*3\n",
    "row_num = 4\n",
    "col_num = 3\n",
    "multi_list = [[0 for col in range(col_num)] for row in range(row_num)]\n",
    "multi_list"
   ]
  },
  {
   "cell_type": "markdown",
   "metadata": {},
   "source": [
    "*** Zip & Pack ***"
   ]
  },
  {
   "cell_type": "code",
   "execution_count": 9,
   "metadata": {
    "tags": []
   },
   "outputs": [
    {
     "output_type": "stream",
     "name": "stdout",
     "text": "tuples using zip [(1, 2), (3, 4), (5, 6), (7, 8)]\n1 2\n3 4\n5 6\n7 8\n"
    }
   ],
   "source": [
    "# Merge/Pack two lists into list of tuples\n",
    "#1: Using zip\n",
    "lst1 = (1,3,5,7)\n",
    "lst2 = (2,4,6,8)\n",
    "#zip\n",
    "lst = list(zip(lst1,lst2))\n",
    "print ('tuples using zip', lst)\n",
    "for i,j in lst:\n",
    "    print (i,j)"
   ]
  },
  {
   "cell_type": "code",
   "execution_count": 8,
   "metadata": {
    "tags": []
   },
   "outputs": [
    {
     "output_type": "stream",
     "name": "stdout",
     "text": "tuples using map [(1, 2), (3, 4), (5, 6), (7, 8)]\n"
    }
   ],
   "source": [
    "#2: Using map\n",
    "print ('tuples using map', list(map(lambda x, y:(x,y), lst1, lst2)))"
   ]
  },
  {
   "cell_type": "code",
   "execution_count": 15,
   "metadata": {
    "tags": []
   },
   "outputs": [
    {
     "output_type": "stream",
     "name": "stdout",
     "text": "lst1_back:  (1, 3, 5, 7)\nlst2_back:  (2, 4, 6, 8)\n"
    }
   ],
   "source": [
    "# Unpack tuples into list back\n",
    "\n",
    "unpack_lst1, unpack_lst2 = list(zip(*lst))\n",
    "print ('lst1_back: ',unpack_lst1)\n",
    "print ('lst2_back: ',unpack_lst2)"
   ]
  },
  {
   "cell_type": "code",
   "execution_count": null,
   "metadata": {},
   "outputs": [],
   "source": []
  }
 ]
}