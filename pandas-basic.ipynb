{
 "metadata": {
  "language_info": {
   "codemirror_mode": {
    "name": "ipython",
    "version": 3
   },
   "file_extension": ".py",
   "mimetype": "text/x-python",
   "name": "python",
   "nbconvert_exporter": "python",
   "pygments_lexer": "ipython3",
   "version": "3.8.5-final"
  },
  "orig_nbformat": 2,
  "kernelspec": {
   "name": "python38564bit9ac65d54777541ddb4639e761536d6dd",
   "display_name": "Python 3.8.5 64-bit"
  }
 },
 "nbformat": 4,
 "nbformat_minor": 2,
 "cells": [
  {
   "cell_type": "markdown",
   "metadata": {},
   "source": [
    "# Pandas #\n",
    "\n",
    "- is a fast, powerful, flexible and easy to use open source data analysis and manipulation tool,\n",
    "\n",
    "- built on top of the Python programming language.\n"
   ]
  },
  {
   "cell_type": "code",
   "execution_count": 2,
   "metadata": {},
   "outputs": [],
   "source": [
    "# imports!\n",
    "import pandas as pd \n",
    "import numpy as np "
   ]
  },
  {
   "cell_type": "markdown",
   "metadata": {},
   "source": [
    "## Series ##"
   ]
  },
  {
   "cell_type": "code",
   "execution_count": 81,
   "metadata": {},
   "outputs": [
    {
     "output_type": "execute_result",
     "data": {
      "text/plain": "0    1\n1    2\n2    3\ndtype: int64"
     },
     "metadata": {},
     "execution_count": 81
    }
   ],
   "source": [
    "l1 = pd.Series([1,2,3]) #Series defined from a list\n",
    "l1"
   ]
  },
  {
   "cell_type": "code",
   "execution_count": 82,
   "metadata": {},
   "outputs": [
    {
     "output_type": "execute_result",
     "data": {
      "text/plain": "array([1, 2, 3])"
     },
     "metadata": {},
     "execution_count": 82
    }
   ],
   "source": [
    "# series back to numpy\n",
    "l1.values"
   ]
  },
  {
   "cell_type": "code",
   "execution_count": 83,
   "metadata": {},
   "outputs": [
    {
     "output_type": "execute_result",
     "data": {
      "text/plain": "0    1\n1    2\n2    3\n3    4\n4    5\n5    6\n6    7\n7    8\ndtype: int64"
     },
     "metadata": {},
     "execution_count": 83
    }
   ],
   "source": [
    "l2 = pd.Series(np.array([1,2,3,4,5,6,7,8])) #Series defined from an array\n",
    "l2"
   ]
  },
  {
   "cell_type": "code",
   "execution_count": 84,
   "metadata": {},
   "outputs": [
    {
     "output_type": "execute_result",
     "data": {
      "text/plain": "pandas.core.series.Series"
     },
     "metadata": {},
     "execution_count": 84
    }
   ],
   "source": [
    "type(l2)"
   ]
  },
  {
   "cell_type": "code",
   "execution_count": 85,
   "metadata": {
    "tags": []
   },
   "outputs": [
    {
     "output_type": "stream",
     "name": "stdout",
     "text": "pandas l3:\n 0     1\n1     3\n2     5\n3     7\n4      \n5     9\n6    11\ndtype: object\nmean: 193987.2857142857\nmax: 9\n"
    }
   ],
   "source": [
    "l3 = pd.Series(np.array([1,3,5,7,'',9,11])) #Series can have mixed datatypes, though it would allow only operations on them\n",
    "print('pandas l3:\\n',l3)\n",
    "print('mean:', l3.mean()) # empty string is a valid value - treated as if zero\n",
    "print('max:', l3.max())\n",
    "\n",
    "# Though below would throw an error and not allowed. \n",
    "#l4 = pd.Series(np.array([1,'Sandeep',4]))\n",
    "#l4.mean()"
   ]
  },
  {
   "cell_type": "code",
   "execution_count": 86,
   "metadata": {
    "tags": []
   },
   "outputs": [
    {
     "output_type": "execute_result",
     "data": {
      "text/plain": "0     2\n1     3\n2     5\n3     7\n4      \n5     9\n6    11\ndtype: object"
     },
     "metadata": {},
     "execution_count": 86
    }
   ],
   "source": [
    "l3.replace(\"1\",\"2\") #multiple funtions like replace available"
   ]
  },
  {
   "cell_type": "code",
   "execution_count": 87,
   "metadata": {
    "tags": []
   },
   "outputs": [
    {
     "output_type": "stream",
     "name": "stdout",
     "text": "#indexing allowed to access the data: 1\n#datatype post basic indexing: <class 'str'>\n#DEFAULT series index defined as: RangeIndex(start=0, stop=7, step=1)\n#post defined indexing #1: 0    1\n1    3\n2    5\ndtype: object\n#post defined indexing #2: 2     5\n3     7\n4      \n5     9\n6    11\ndtype: object\n#post defined indexing #3: 0    1\n1    3\n2    5\n3    7\n4     \n5    9\ndtype: object\n#post defined indexing #4: 1    3\n3    7\n5    9\ndtype: object\n#post defined indexing #5: 0     1\n2     5\n4      \n6    11\ndtype: object\n"
    }
   ],
   "source": [
    "print('#indexing allowed to access the data:',l3[0]) #indexing allowed to access the data\n",
    "print('#datatype post basic indexing:', type(l3[0]))\n",
    "print('#DEFAULT series index defined as:', l3.index)\n",
    "print('#post defined indexing #1:', l3[0:3])\n",
    "print('#post defined indexing #2:', l3[2:])\n",
    "print('#post defined indexing #3:', l3[:-1])\n",
    "print('#post defined indexing #4:', l3[1:-1:2])\n",
    "print('#post defined indexing #5:', l3[::2])"
   ]
  },
  {
   "cell_type": "code",
   "execution_count": 88,
   "metadata": {
    "tags": []
   },
   "outputs": [
    {
     "output_type": "stream",
     "name": "stdout",
     "text": "l4[A]: 1\nl4[B]: 3\nl4[C]: 5\nl4[B:D]: B    3\nC    5\nD    7\ndtype: int64\n"
    }
   ],
   "source": [
    "l4 = pd.Series([1,3,5,7,9], index=['A','B','C','D','E']) # CUSTOM index defined\n",
    "print('l4[''A'']:',l4['A']) # case-sensitive l4['a'] NOT allowed\n",
    "print('l4[''B'']:',l4['B']) \n",
    "print('l4[''C'']:',l4['C']) \n",
    "print('l4[''B'':''D'']:',l4['B':'D']) #Range indexing on custom index allowed "
   ]
  },
  {
   "cell_type": "markdown",
   "metadata": {},
   "source": [
    "## Dataframes ##"
   ]
  },
  {
   "cell_type": "markdown",
   "metadata": {},
   "source": [
    "*** Dataframe from list of tuples ***"
   ]
  },
  {
   "cell_type": "code",
   "execution_count": 89,
   "metadata": {
    "tags": []
   },
   "outputs": [
    {
     "output_type": "stream",
     "name": "stdout",
     "text": "[('Sandeep', 35), ('Murari', 25), ('Niya', 30), ('John', 33), ('Swarnima', 23)]\n"
    },
    {
     "output_type": "execute_result",
     "data": {
      "text/plain": "       Name  Age\n0   Sandeep   35\n1    Murari   25\n2      Niya   30\n3      John   33\n4  Swarnima   23",
      "text/html": "<div>\n<style scoped>\n    .dataframe tbody tr th:only-of-type {\n        vertical-align: middle;\n    }\n\n    .dataframe tbody tr th {\n        vertical-align: top;\n    }\n\n    .dataframe thead th {\n        text-align: right;\n    }\n</style>\n<table border=\"1\" class=\"dataframe\">\n  <thead>\n    <tr style=\"text-align: right;\">\n      <th></th>\n      <th>Name</th>\n      <th>Age</th>\n    </tr>\n  </thead>\n  <tbody>\n    <tr>\n      <th>0</th>\n      <td>Sandeep</td>\n      <td>35</td>\n    </tr>\n    <tr>\n      <th>1</th>\n      <td>Murari</td>\n      <td>25</td>\n    </tr>\n    <tr>\n      <th>2</th>\n      <td>Niya</td>\n      <td>30</td>\n    </tr>\n    <tr>\n      <th>3</th>\n      <td>John</td>\n      <td>33</td>\n    </tr>\n    <tr>\n      <th>4</th>\n      <td>Swarnima</td>\n      <td>23</td>\n    </tr>\n  </tbody>\n</table>\n</div>"
     },
     "metadata": {},
     "execution_count": 89
    }
   ],
   "source": [
    "name = ['Sandeep','Murari','Niya','John','Swarnima']\n",
    "age = [35, 25, 30, 33, 23]\n",
    "\n",
    "people = list (zip(name,age))\n",
    "print(people)\n",
    "df = pd.DataFrame(data=people, columns=['Name','Age'])\n",
    "df"
   ]
  },
  {
   "cell_type": "code",
   "execution_count": 90,
   "metadata": {},
   "outputs": [
    {
     "output_type": "execute_result",
     "data": {
      "text/plain": "   Name  Age\n0   4.0  5.0\n1   2.0  2.0\n2   3.0  3.0\n3   1.0  4.0\n4   5.0  1.0",
      "text/html": "<div>\n<style scoped>\n    .dataframe tbody tr th:only-of-type {\n        vertical-align: middle;\n    }\n\n    .dataframe tbody tr th {\n        vertical-align: top;\n    }\n\n    .dataframe thead th {\n        text-align: right;\n    }\n</style>\n<table border=\"1\" class=\"dataframe\">\n  <thead>\n    <tr style=\"text-align: right;\">\n      <th></th>\n      <th>Name</th>\n      <th>Age</th>\n    </tr>\n  </thead>\n  <tbody>\n    <tr>\n      <th>0</th>\n      <td>4.0</td>\n      <td>5.0</td>\n    </tr>\n    <tr>\n      <th>1</th>\n      <td>2.0</td>\n      <td>2.0</td>\n    </tr>\n    <tr>\n      <th>2</th>\n      <td>3.0</td>\n      <td>3.0</td>\n    </tr>\n    <tr>\n      <th>3</th>\n      <td>1.0</td>\n      <td>4.0</td>\n    </tr>\n    <tr>\n      <th>4</th>\n      <td>5.0</td>\n      <td>1.0</td>\n    </tr>\n  </tbody>\n</table>\n</div>"
     },
     "metadata": {},
     "execution_count": 90
    }
   ],
   "source": [
    "df.rank() # compute numerical data ranks (1 through n) along axis"
   ]
  },
  {
   "cell_type": "markdown",
   "metadata": {},
   "source": [
    "*** Data Retrieval from Data Frames ***"
   ]
  },
  {
   "cell_type": "code",
   "execution_count": 91,
   "metadata": {},
   "outputs": [
    {
     "output_type": "execute_result",
     "data": {
      "text/plain": "Name    Sandeep\nAge          35\nName: 0, dtype: object"
     },
     "metadata": {},
     "execution_count": 91
    }
   ],
   "source": [
    "# rows can be retrieved via index\n",
    "df.iloc[0]"
   ]
  },
  {
   "cell_type": "code",
   "execution_count": 92,
   "metadata": {},
   "outputs": [
    {
     "output_type": "execute_result",
     "data": {
      "text/plain": "0     Sandeep\n1      Murari\n2        Niya\n3        John\n4    Swarnima\nName: Name, dtype: object"
     },
     "metadata": {},
     "execution_count": 92
    }
   ],
   "source": [
    "# columns can be retrieved using names\n",
    "df [\"Name\"]"
   ]
  },
  {
   "cell_type": "code",
   "execution_count": 93,
   "metadata": {
    "tags": []
   },
   "outputs": [
    {
     "output_type": "stream",
     "name": "stdout",
     "text": "<class 'pandas.core.series.Series'>\nIndex access in a Series: Sandeep\n"
    }
   ],
   "source": [
    "print(type(df[\"Age\"])) #each column is a Series!\n",
    "print(\"Index access in a Series:\",df[\"Name\"][0])"
   ]
  },
  {
   "cell_type": "code",
   "execution_count": 94,
   "metadata": {
    "tags": []
   },
   "outputs": [
    {
     "output_type": "stream",
     "name": "stdout",
     "text": "0             LEARN\n1                BY\n2           INSIGTH\n3           INSIGHT\n4                BY\n5             LEARN\n0    LEARNBYINSIGHT\ndtype: object\nRow access of Series using index directly:\n 0             LEARN\n0    LEARNBYINSIGHT\ndtype: object\nRow access of Series using iloc:\n LEARNBYINSIGHT\n"
    }
   ],
   "source": [
    "# index is not unique. Thus, when accessed, if multiple values - gives all\n",
    "findme = pd.Series([\"LEARN\",\"BY\",\"INSIGTH\"])\n",
    "findme = findme.append(pd.Series([\"INSIGHT\",\"BY\",\"LEARN\"]), ignore_index=True)\n",
    "findme = findme.append(pd.Series([\"LEARNBYINSIGHT\"])) #resets index by default on append\n",
    "print(findme)\n",
    "print(\"Row access of Series using index directly:\\n\",findme[0]) # returns both values (visible)\n",
    "print(\"Row access of Series using iloc:\\n\", findme.iloc[6]) # returns actual index (assume hidden unique) "
   ]
  },
  {
   "cell_type": "code",
   "execution_count": 95,
   "metadata": {
    "tags": []
   },
   "outputs": [
    {
     "output_type": "stream",
     "name": "stdout",
     "text": "<class 'pandas.core.frame.DataFrame'>\nRangeIndex: 5 entries, 0 to 4\nData columns (total 2 columns):\n #   Column  Non-Null Count  Dtype \n---  ------  --------------  ----- \n 0   Name    5 non-null      object\n 1   Age     5 non-null      int64 \ndtypes: int64(1), object(1)\nmemory usage: 208.0+ bytes\n"
    }
   ],
   "source": [
    "df.info() # basic info about dataframe, generally first thing to gauge about"
   ]
  },
  {
   "cell_type": "code",
   "execution_count": 96,
   "metadata": {},
   "outputs": [
    {
     "output_type": "execute_result",
     "data": {
      "text/plain": "0     Sandeep\n1      Murari\n2        Niya\n3        John\n4    Swarnima\nName: 0, dtype: object"
     },
     "metadata": {},
     "execution_count": 96
    }
   ],
   "source": [
    "df2 = pd.DataFrame(data=people)\n",
    "df2[0] #only allowed when columns are not defined. Thus, df[0] will throw error as Name, Age defined."
   ]
  },
  {
   "cell_type": "code",
   "execution_count": 97,
   "metadata": {},
   "outputs": [
    {
     "output_type": "execute_result",
     "data": {
      "text/plain": "          Age\nName         \nSandeep    35\nMurari     25\nNiya       30\nJohn       33\nSwarnima   23",
      "text/html": "<div>\n<style scoped>\n    .dataframe tbody tr th:only-of-type {\n        vertical-align: middle;\n    }\n\n    .dataframe tbody tr th {\n        vertical-align: top;\n    }\n\n    .dataframe thead th {\n        text-align: right;\n    }\n</style>\n<table border=\"1\" class=\"dataframe\">\n  <thead>\n    <tr style=\"text-align: right;\">\n      <th></th>\n      <th>Age</th>\n    </tr>\n    <tr>\n      <th>Name</th>\n      <th></th>\n    </tr>\n  </thead>\n  <tbody>\n    <tr>\n      <th>Sandeep</th>\n      <td>35</td>\n    </tr>\n    <tr>\n      <th>Murari</th>\n      <td>25</td>\n    </tr>\n    <tr>\n      <th>Niya</th>\n      <td>30</td>\n    </tr>\n    <tr>\n      <th>John</th>\n      <td>33</td>\n    </tr>\n    <tr>\n      <th>Swarnima</th>\n      <td>23</td>\n    </tr>\n  </tbody>\n</table>\n</div>"
     },
     "metadata": {},
     "execution_count": 97
    }
   ],
   "source": [
    "#Can define any column as index\n",
    "df.set_index('Name', inplace=True)\n",
    "df"
   ]
  },
  {
   "cell_type": "code",
   "execution_count": 98,
   "metadata": {},
   "outputs": [
    {
     "output_type": "execute_result",
     "data": {
      "text/plain": "         Age\nName        \nSandeep   35\nMurari    25\nNiya      30",
      "text/html": "<div>\n<style scoped>\n    .dataframe tbody tr th:only-of-type {\n        vertical-align: middle;\n    }\n\n    .dataframe tbody tr th {\n        vertical-align: top;\n    }\n\n    .dataframe thead th {\n        text-align: right;\n    }\n</style>\n<table border=\"1\" class=\"dataframe\">\n  <thead>\n    <tr style=\"text-align: right;\">\n      <th></th>\n      <th>Age</th>\n    </tr>\n    <tr>\n      <th>Name</th>\n      <th></th>\n    </tr>\n  </thead>\n  <tbody>\n    <tr>\n      <th>Sandeep</th>\n      <td>35</td>\n    </tr>\n    <tr>\n      <th>Murari</th>\n      <td>25</td>\n    </tr>\n    <tr>\n      <th>Niya</th>\n      <td>30</td>\n    </tr>\n  </tbody>\n</table>\n</div>"
     },
     "metadata": {},
     "execution_count": 98
    }
   ],
   "source": [
    "# cannot do df['Sandeep'] - its not an accessible index\n",
    "# range around them can be done\n",
    "df['Sandeep':'Niya']"
   ]
  },
  {
   "cell_type": "code",
   "execution_count": 99,
   "metadata": {},
   "outputs": [
    {
     "output_type": "execute_result",
     "data": {
      "text/plain": "Age    35\nName: Sandeep, dtype: int64"
     },
     "metadata": {},
     "execution_count": 99
    }
   ],
   "source": [
    "#loc access can be done (SEE: loc and not iloc => no more numerical index)\n",
    "df.loc['Sandeep']"
   ]
  },
  {
   "cell_type": "code",
   "execution_count": 100,
   "metadata": {},
   "outputs": [
    {
     "output_type": "execute_result",
     "data": {
      "text/plain": "Name\nSandeep     35\nMurari      25\nNiya        30\nJohn        33\nSwarnima    23\nName: Age, dtype: int64"
     },
     "metadata": {},
     "execution_count": 100
    }
   ],
   "source": [
    "#df['Name'] => NOT allowed. No more a column but index\n",
    "df['Age'] # => Allowed"
   ]
  },
  {
   "cell_type": "markdown",
   "metadata": {},
   "source": [
    "*** Dataframe from a dictionary ***"
   ]
  },
  {
   "cell_type": "code",
   "execution_count": 101,
   "metadata": {
    "tags": []
   },
   "outputs": [
    {
     "output_type": "stream",
     "name": "stdout",
     "text": "Country ['India', 'China', 'United States', 'Malaysia']\nEducated [200001234, 300001234, 100001234, 20001234]\n"
    },
    {
     "output_type": "execute_result",
     "data": {
      "text/plain": "         Country   Educated\n0          India  200001234\n1          China  300001234\n2  United States  100001234\n3       Malaysia   20001234",
      "text/html": "<div>\n<style scoped>\n    .dataframe tbody tr th:only-of-type {\n        vertical-align: middle;\n    }\n\n    .dataframe tbody tr th {\n        vertical-align: top;\n    }\n\n    .dataframe thead th {\n        text-align: right;\n    }\n</style>\n<table border=\"1\" class=\"dataframe\">\n  <thead>\n    <tr style=\"text-align: right;\">\n      <th></th>\n      <th>Country</th>\n      <th>Educated</th>\n    </tr>\n  </thead>\n  <tbody>\n    <tr>\n      <th>0</th>\n      <td>India</td>\n      <td>200001234</td>\n    </tr>\n    <tr>\n      <th>1</th>\n      <td>China</td>\n      <td>300001234</td>\n    </tr>\n    <tr>\n      <th>2</th>\n      <td>United States</td>\n      <td>100001234</td>\n    </tr>\n    <tr>\n      <th>3</th>\n      <td>Malaysia</td>\n      <td>20001234</td>\n    </tr>\n  </tbody>\n</table>\n</div>"
     },
     "metadata": {},
     "execution_count": 101
    }
   ],
   "source": [
    "educated_dict = { 'Country': [ 'India', 'China', 'United States', 'Malaysia' ],\n",
    "                  'Educated' : [200001234, 300001234, 100001234, 20001234] }\n",
    "\n",
    "for k,v in educated_dict.items():\n",
    "    print (k,v)\n",
    "\n",
    "df2 = pd.DataFrame(educated_dict)\n",
    "df2"
   ]
  },
  {
   "cell_type": "code",
   "execution_count": 102,
   "metadata": {
    "tags": []
   },
   "outputs": [
    {
     "output_type": "stream",
     "name": "stdout",
     "text": "<class 'pandas.core.frame.DataFrame'>\nRangeIndex: 4 entries, 0 to 3\nData columns (total 2 columns):\n #   Column    Non-Null Count  Dtype \n---  ------    --------------  ----- \n 0   Country   4 non-null      object\n 1   Educated  4 non-null      int64 \ndtypes: int64(1), object(1)\nmemory usage: 192.0+ bytes\n"
    }
   ],
   "source": [
    "df2.info()"
   ]
  },
  {
   "cell_type": "code",
   "execution_count": 103,
   "metadata": {},
   "outputs": [
    {
     "output_type": "execute_result",
     "data": {
      "text/plain": "  Country   Educated\n0   India  200001234\n1   China  300001234",
      "text/html": "<div>\n<style scoped>\n    .dataframe tbody tr th:only-of-type {\n        vertical-align: middle;\n    }\n\n    .dataframe tbody tr th {\n        vertical-align: top;\n    }\n\n    .dataframe thead th {\n        text-align: right;\n    }\n</style>\n<table border=\"1\" class=\"dataframe\">\n  <thead>\n    <tr style=\"text-align: right;\">\n      <th></th>\n      <th>Country</th>\n      <th>Educated</th>\n    </tr>\n  </thead>\n  <tbody>\n    <tr>\n      <th>0</th>\n      <td>India</td>\n      <td>200001234</td>\n    </tr>\n    <tr>\n      <th>1</th>\n      <td>China</td>\n      <td>300001234</td>\n    </tr>\n  </tbody>\n</table>\n</div>"
     },
     "metadata": {},
     "execution_count": 103
    }
   ],
   "source": [
    "#df.head() => would give entire data back\n",
    "df2.head(2)"
   ]
  },
  {
   "cell_type": "code",
   "execution_count": 104,
   "metadata": {},
   "outputs": [
    {
     "output_type": "execute_result",
     "data": {
      "text/plain": "    Country   Educated\n1     China  300001234\n3  Malaysia   20001234",
      "text/html": "<div>\n<style scoped>\n    .dataframe tbody tr th:only-of-type {\n        vertical-align: middle;\n    }\n\n    .dataframe tbody tr th {\n        vertical-align: top;\n    }\n\n    .dataframe thead th {\n        text-align: right;\n    }\n</style>\n<table border=\"1\" class=\"dataframe\">\n  <thead>\n    <tr style=\"text-align: right;\">\n      <th></th>\n      <th>Country</th>\n      <th>Educated</th>\n    </tr>\n  </thead>\n  <tbody>\n    <tr>\n      <th>1</th>\n      <td>China</td>\n      <td>300001234</td>\n    </tr>\n    <tr>\n      <th>3</th>\n      <td>Malaysia</td>\n      <td>20001234</td>\n    </tr>\n  </tbody>\n</table>\n</div>"
     },
     "metadata": {},
     "execution_count": 104
    }
   ],
   "source": [
    "df2.sample(2) #any \n",
    "# df2.tail()  # similar commands"
   ]
  },
  {
   "cell_type": "code",
   "execution_count": 105,
   "metadata": {},
   "outputs": [
    {
     "output_type": "execute_result",
     "data": {
      "text/plain": "0            India\n1            China\n2    United States\n3         Malaysia\nName: Country, dtype: object"
     },
     "metadata": {},
     "execution_count": 105
    }
   ],
   "source": [
    "df2[\"Country\"]"
   ]
  },
  {
   "cell_type": "markdown",
   "metadata": {},
   "source": [
    "*** Dataframe from CSV ***"
   ]
  },
  {
   "cell_type": "code",
   "execution_count": 106,
   "metadata": {},
   "outputs": [
    {
     "output_type": "execute_result",
     "data": {
      "text/plain": "  Country Name Country Code  Year        Value\n0   Arab World          ARB  1960   92490932.0\n1   Arab World          ARB  1961   95044497.0\n2   Arab World          ARB  1962   97682294.0\n3   Arab World          ARB  1963  100411076.0\n4   Arab World          ARB  1964  103239902.0",
      "text/html": "<div>\n<style scoped>\n    .dataframe tbody tr th:only-of-type {\n        vertical-align: middle;\n    }\n\n    .dataframe tbody tr th {\n        vertical-align: top;\n    }\n\n    .dataframe thead th {\n        text-align: right;\n    }\n</style>\n<table border=\"1\" class=\"dataframe\">\n  <thead>\n    <tr style=\"text-align: right;\">\n      <th></th>\n      <th>Country Name</th>\n      <th>Country Code</th>\n      <th>Year</th>\n      <th>Value</th>\n    </tr>\n  </thead>\n  <tbody>\n    <tr>\n      <th>0</th>\n      <td>Arab World</td>\n      <td>ARB</td>\n      <td>1960</td>\n      <td>92490932.0</td>\n    </tr>\n    <tr>\n      <th>1</th>\n      <td>Arab World</td>\n      <td>ARB</td>\n      <td>1961</td>\n      <td>95044497.0</td>\n    </tr>\n    <tr>\n      <th>2</th>\n      <td>Arab World</td>\n      <td>ARB</td>\n      <td>1962</td>\n      <td>97682294.0</td>\n    </tr>\n    <tr>\n      <th>3</th>\n      <td>Arab World</td>\n      <td>ARB</td>\n      <td>1963</td>\n      <td>100411076.0</td>\n    </tr>\n    <tr>\n      <th>4</th>\n      <td>Arab World</td>\n      <td>ARB</td>\n      <td>1964</td>\n      <td>103239902.0</td>\n    </tr>\n  </tbody>\n</table>\n</div>"
     },
     "metadata": {},
     "execution_count": 106
    }
   ],
   "source": [
    "# The option sep=\",\" is used to indicate field separators\n",
    "# The file name can be replaced with a URL\n",
    "df3 = pd.read_csv('./data-files/pandas/population.csv',sep=\",\") \n",
    "df3.head()"
   ]
  },
  {
   "cell_type": "code",
   "execution_count": 107,
   "metadata": {
    "tags": []
   },
   "outputs": [
    {
     "output_type": "stream",
     "name": "stdout",
     "text": "<class 'pandas.core.frame.DataFrame'>\nRangeIndex: 14885 entries, 0 to 14884\nData columns (total 4 columns):\n #   Column        Non-Null Count  Dtype  \n---  ------        --------------  -----  \n 0   Country Name  14885 non-null  object \n 1   Country Code  14885 non-null  object \n 2   Year          14885 non-null  int64  \n 3   Value         14885 non-null  float64\ndtypes: float64(1), int64(1), object(2)\nmemory usage: 465.3+ KB\n"
    }
   ],
   "source": [
    "df3.info() #get the jist of data => 14885 rows :thumbsup: "
   ]
  },
  {
   "cell_type": "code",
   "execution_count": 108,
   "metadata": {},
   "outputs": [
    {
     "output_type": "execute_result",
     "data": {
      "text/plain": "array(['Bosnia and Herzegovina', 'Poland', 'Belize', 'Dominican Republic',\n       'Lao PDR', 'Brunei Darussalam', 'Indonesia', 'Haiti', 'Nicaragua',\n       'Croatia', 'Sub-Saharan Africa (IDA & IBRD countries)', 'Thailand',\n       'Aruba', 'Zambia', 'West Bank and Gaza', 'Uzbekistan',\n       'East Asia & Pacific', 'Latvia', 'Gambia, The', 'Chile'],\n      dtype=object)"
     },
     "metadata": {},
     "execution_count": 108
    }
   ],
   "source": [
    "# Random sample of 20 distinct countries from the list\n",
    "uniqueCountries = df3['Country Name'].unique()\n",
    "np.random.choice(uniqueCountries, 20)"
   ]
  },
  {
   "cell_type": "code",
   "execution_count": 109,
   "metadata": {},
   "outputs": [
    {
     "output_type": "execute_result",
     "data": {
      "text/plain": "  Country Code        Value\n0          ARB   92490932.0\n1          ARB   95044497.0\n2          ARB   97682294.0\n3          ARB  100411076.0",
      "text/html": "<div>\n<style scoped>\n    .dataframe tbody tr th:only-of-type {\n        vertical-align: middle;\n    }\n\n    .dataframe tbody tr th {\n        vertical-align: top;\n    }\n\n    .dataframe thead th {\n        text-align: right;\n    }\n</style>\n<table border=\"1\" class=\"dataframe\">\n  <thead>\n    <tr style=\"text-align: right;\">\n      <th></th>\n      <th>Country Code</th>\n      <th>Value</th>\n    </tr>\n  </thead>\n  <tbody>\n    <tr>\n      <th>0</th>\n      <td>ARB</td>\n      <td>92490932.0</td>\n    </tr>\n    <tr>\n      <th>1</th>\n      <td>ARB</td>\n      <td>95044497.0</td>\n    </tr>\n    <tr>\n      <th>2</th>\n      <td>ARB</td>\n      <td>97682294.0</td>\n    </tr>\n    <tr>\n      <th>3</th>\n      <td>ARB</td>\n      <td>100411076.0</td>\n    </tr>\n  </tbody>\n</table>\n</div>"
     },
     "metadata": {},
     "execution_count": 109
    }
   ],
   "source": [
    "# df3.iloc[0:4]\n",
    "# The general for of iloc is df.iloc[ row_indexer , col_indexer].\n",
    "# explicit column selection\n",
    "df3.iloc[ 0:4, [1,3] ] # same as df3.iloc[ :4, range(1,3) ]\n",
    "\n",
    "# iloc does not support label-based access. In this case we must drop use loc.\n",
    "# df.iloc[ 0:1, ['Year','Value']  ] => Invalid"
   ]
  },
  {
   "cell_type": "code",
   "execution_count": 110,
   "metadata": {},
   "outputs": [
    {
     "output_type": "execute_result",
     "data": {
      "text/plain": "                    Country Name Country Code  Year         Value\n1931                OECD members          OED  2010  1.242392e+09\n226   Early-demographic dividend          EAR  2015  3.127290e+09\n905                    IBRD only          IBD  2010  4.427798e+09\n1139                   IDA total          IDA  2016  1.574346e+09\n224   Early-demographic dividend          EAR  2013  3.040241e+09",
      "text/html": "<div>\n<style scoped>\n    .dataframe tbody tr th:only-of-type {\n        vertical-align: middle;\n    }\n\n    .dataframe tbody tr th {\n        vertical-align: top;\n    }\n\n    .dataframe thead th {\n        text-align: right;\n    }\n</style>\n<table border=\"1\" class=\"dataframe\">\n  <thead>\n    <tr style=\"text-align: right;\">\n      <th></th>\n      <th>Country Name</th>\n      <th>Country Code</th>\n      <th>Year</th>\n      <th>Value</th>\n    </tr>\n  </thead>\n  <tbody>\n    <tr>\n      <th>1931</th>\n      <td>OECD members</td>\n      <td>OED</td>\n      <td>2010</td>\n      <td>1.242392e+09</td>\n    </tr>\n    <tr>\n      <th>226</th>\n      <td>Early-demographic dividend</td>\n      <td>EAR</td>\n      <td>2015</td>\n      <td>3.127290e+09</td>\n    </tr>\n    <tr>\n      <th>905</th>\n      <td>IBRD only</td>\n      <td>IBD</td>\n      <td>2010</td>\n      <td>4.427798e+09</td>\n    </tr>\n    <tr>\n      <th>1139</th>\n      <td>IDA total</td>\n      <td>IDA</td>\n      <td>2016</td>\n      <td>1.574346e+09</td>\n    </tr>\n    <tr>\n      <th>224</th>\n      <td>Early-demographic dividend</td>\n      <td>EAR</td>\n      <td>2013</td>\n      <td>3.040241e+09</td>\n    </tr>\n  </tbody>\n</table>\n</div>"
     },
     "metadata": {},
     "execution_count": 110
    }
   ],
   "source": [
    "# Boolean Indexing => MASKING\n",
    "# We select rows that satisfy those boolean conditions (one or multiple) \n",
    "# Boolean index can be made from a combination of logical operators of AND &, OR |, NOT ~.\n",
    "bool1 = df3['Value']>1000000000\n",
    "bool2 = df3['Year']>2000\n",
    "df3[bool1 & bool2].sample(5)"
   ]
  },
  {
   "cell_type": "code",
   "execution_count": 111,
   "metadata": {},
   "outputs": [
    {
     "output_type": "execute_result",
     "data": {
      "text/plain": "     Country Name Country Code  Year         Value\n7682        India          IND  2009  1.214270e+09\n7646        India          IND  1973  5.930589e+08\n7669        India          IND  1996  9.788932e+08\n7677        India          IND  2004  1.126136e+09\n4991        China          CHN  1992  1.164970e+09",
      "text/html": "<div>\n<style scoped>\n    .dataframe tbody tr th:only-of-type {\n        vertical-align: middle;\n    }\n\n    .dataframe tbody tr th {\n        vertical-align: top;\n    }\n\n    .dataframe thead th {\n        text-align: right;\n    }\n</style>\n<table border=\"1\" class=\"dataframe\">\n  <thead>\n    <tr style=\"text-align: right;\">\n      <th></th>\n      <th>Country Name</th>\n      <th>Country Code</th>\n      <th>Year</th>\n      <th>Value</th>\n    </tr>\n  </thead>\n  <tbody>\n    <tr>\n      <th>7682</th>\n      <td>India</td>\n      <td>IND</td>\n      <td>2009</td>\n      <td>1.214270e+09</td>\n    </tr>\n    <tr>\n      <th>7646</th>\n      <td>India</td>\n      <td>IND</td>\n      <td>1973</td>\n      <td>5.930589e+08</td>\n    </tr>\n    <tr>\n      <th>7669</th>\n      <td>India</td>\n      <td>IND</td>\n      <td>1996</td>\n      <td>9.788932e+08</td>\n    </tr>\n    <tr>\n      <th>7677</th>\n      <td>India</td>\n      <td>IND</td>\n      <td>2004</td>\n      <td>1.126136e+09</td>\n    </tr>\n    <tr>\n      <th>4991</th>\n      <td>China</td>\n      <td>CHN</td>\n      <td>1992</td>\n      <td>1.164970e+09</td>\n    </tr>\n  </tbody>\n</table>\n</div>"
     },
     "metadata": {},
     "execution_count": 111
    }
   ],
   "source": [
    "# isin is a useful operator when building a boolean index\n",
    "selection_condition_3 = df3['Country Name'].isin( ['China','India'] )\n",
    "df3[selection_condition_3].sample(5)"
   ]
  },
  {
   "cell_type": "code",
   "execution_count": 112,
   "metadata": {},
   "outputs": [
    {
     "output_type": "execute_result",
     "data": {
      "text/plain": "      Country Name Country Code    Year       Value\n0              NaN          NaN     NaN         NaN\n1              NaN          NaN     NaN         NaN\n2              NaN          NaN     NaN         NaN\n3              NaN          NaN     NaN         NaN\n4              NaN          NaN     NaN         NaN\n...            ...          ...     ...         ...\n14880     Zimbabwe          ZWE  2012.0  14710826.0\n14881     Zimbabwe          ZWE  2013.0  15054506.0\n14882     Zimbabwe          ZWE  2014.0  15411675.0\n14883     Zimbabwe          ZWE  2015.0  15777451.0\n14884     Zimbabwe          ZWE  2016.0  16150362.0\n\n[14885 rows x 4 columns]",
      "text/html": "<div>\n<style scoped>\n    .dataframe tbody tr th:only-of-type {\n        vertical-align: middle;\n    }\n\n    .dataframe tbody tr th {\n        vertical-align: top;\n    }\n\n    .dataframe thead th {\n        text-align: right;\n    }\n</style>\n<table border=\"1\" class=\"dataframe\">\n  <thead>\n    <tr style=\"text-align: right;\">\n      <th></th>\n      <th>Country Name</th>\n      <th>Country Code</th>\n      <th>Year</th>\n      <th>Value</th>\n    </tr>\n  </thead>\n  <tbody>\n    <tr>\n      <th>0</th>\n      <td>NaN</td>\n      <td>NaN</td>\n      <td>NaN</td>\n      <td>NaN</td>\n    </tr>\n    <tr>\n      <th>1</th>\n      <td>NaN</td>\n      <td>NaN</td>\n      <td>NaN</td>\n      <td>NaN</td>\n    </tr>\n    <tr>\n      <th>2</th>\n      <td>NaN</td>\n      <td>NaN</td>\n      <td>NaN</td>\n      <td>NaN</td>\n    </tr>\n    <tr>\n      <th>3</th>\n      <td>NaN</td>\n      <td>NaN</td>\n      <td>NaN</td>\n      <td>NaN</td>\n    </tr>\n    <tr>\n      <th>4</th>\n      <td>NaN</td>\n      <td>NaN</td>\n      <td>NaN</td>\n      <td>NaN</td>\n    </tr>\n    <tr>\n      <th>...</th>\n      <td>...</td>\n      <td>...</td>\n      <td>...</td>\n      <td>...</td>\n    </tr>\n    <tr>\n      <th>14880</th>\n      <td>Zimbabwe</td>\n      <td>ZWE</td>\n      <td>2012.0</td>\n      <td>14710826.0</td>\n    </tr>\n    <tr>\n      <th>14881</th>\n      <td>Zimbabwe</td>\n      <td>ZWE</td>\n      <td>2013.0</td>\n      <td>15054506.0</td>\n    </tr>\n    <tr>\n      <th>14882</th>\n      <td>Zimbabwe</td>\n      <td>ZWE</td>\n      <td>2014.0</td>\n      <td>15411675.0</td>\n    </tr>\n    <tr>\n      <th>14883</th>\n      <td>Zimbabwe</td>\n      <td>ZWE</td>\n      <td>2015.0</td>\n      <td>15777451.0</td>\n    </tr>\n    <tr>\n      <th>14884</th>\n      <td>Zimbabwe</td>\n      <td>ZWE</td>\n      <td>2016.0</td>\n      <td>16150362.0</td>\n    </tr>\n  </tbody>\n</table>\n<p>14885 rows × 4 columns</p>\n</div>"
     },
     "metadata": {},
     "execution_count": 112
    }
   ],
   "source": [
    "# where is useful when we want to retain the shape of the original table.\n",
    "# The values that dont match the selection critieria are set to NaN\n",
    "df3b = df3.where(df3['Year']>2011)\n",
    "df3b"
   ]
  },
  {
   "cell_type": "code",
   "execution_count": 113,
   "metadata": {
    "tags": []
   },
   "outputs": [
    {
     "output_type": "stream",
     "name": "stdout",
     "text": "1046482586.2543526\n2594636650.4484024\n"
    }
   ],
   "source": [
    "print((df3.describe().mean()).Value)\n",
    "print((df3.describe().std()).Value)"
   ]
  },
  {
   "cell_type": "code",
   "execution_count": 114,
   "metadata": {},
   "outputs": [
    {
     "output_type": "execute_result",
     "data": {
      "text/plain": "     Country Name Country Code  Year         Value\n2613        World          WLD  2008  6.763746e+09\n2614        World          WLD  2009  6.847215e+09\n2615        World          WLD  2010  6.930657e+09\n2616        World          WLD  2011  7.012844e+09\n2617        World          WLD  2012  7.097401e+09\n2618        World          WLD  2013  7.182860e+09\n2619        World          WLD  2014  7.268986e+09\n2620        World          WLD  2015  7.355220e+09\n2621        World          WLD  2016  7.442136e+09",
      "text/html": "<div>\n<style scoped>\n    .dataframe tbody tr th:only-of-type {\n        vertical-align: middle;\n    }\n\n    .dataframe tbody tr th {\n        vertical-align: top;\n    }\n\n    .dataframe thead th {\n        text-align: right;\n    }\n</style>\n<table border=\"1\" class=\"dataframe\">\n  <thead>\n    <tr style=\"text-align: right;\">\n      <th></th>\n      <th>Country Name</th>\n      <th>Country Code</th>\n      <th>Year</th>\n      <th>Value</th>\n    </tr>\n  </thead>\n  <tbody>\n    <tr>\n      <th>2613</th>\n      <td>World</td>\n      <td>WLD</td>\n      <td>2008</td>\n      <td>6.763746e+09</td>\n    </tr>\n    <tr>\n      <th>2614</th>\n      <td>World</td>\n      <td>WLD</td>\n      <td>2009</td>\n      <td>6.847215e+09</td>\n    </tr>\n    <tr>\n      <th>2615</th>\n      <td>World</td>\n      <td>WLD</td>\n      <td>2010</td>\n      <td>6.930657e+09</td>\n    </tr>\n    <tr>\n      <th>2616</th>\n      <td>World</td>\n      <td>WLD</td>\n      <td>2011</td>\n      <td>7.012844e+09</td>\n    </tr>\n    <tr>\n      <th>2617</th>\n      <td>World</td>\n      <td>WLD</td>\n      <td>2012</td>\n      <td>7.097401e+09</td>\n    </tr>\n    <tr>\n      <th>2618</th>\n      <td>World</td>\n      <td>WLD</td>\n      <td>2013</td>\n      <td>7.182860e+09</td>\n    </tr>\n    <tr>\n      <th>2619</th>\n      <td>World</td>\n      <td>WLD</td>\n      <td>2014</td>\n      <td>7.268986e+09</td>\n    </tr>\n    <tr>\n      <th>2620</th>\n      <td>World</td>\n      <td>WLD</td>\n      <td>2015</td>\n      <td>7.355220e+09</td>\n    </tr>\n    <tr>\n      <th>2621</th>\n      <td>World</td>\n      <td>WLD</td>\n      <td>2016</td>\n      <td>7.442136e+09</td>\n    </tr>\n  </tbody>\n</table>\n</div>"
     },
     "metadata": {},
     "execution_count": 114
    }
   ],
   "source": [
    "# countries whose GDP is more than three standard deviations from the average\n",
    "con1 = df3['Value'] > (-df3.describe().mean()).Value + 3*(df3.describe().std()).Value\n",
    "df3[con1]"
   ]
  },
  {
   "cell_type": "markdown",
   "metadata": {},
   "source": [
    "*** Dataframe from Built-in dataset ***\n",
    "\n",
    "Packages like sklearn and seaborn come with practice datasets\n"
   ]
  },
  {
   "cell_type": "code",
   "execution_count": 115,
   "metadata": {
    "tags": []
   },
   "outputs": [
    {
     "output_type": "stream",
     "name": "stdout",
     "text": "['sepal length (cm)', 'sepal width (cm)', 'petal length (cm)', 'petal width (cm)']\n(150, 4)\n<class 'numpy.ndarray'>\n"
    }
   ],
   "source": [
    "#Pandas dataframe from iris dataset\n",
    "from sklearn.datasets import load_iris\n",
    "\n",
    "iris = load_iris()\n",
    "print(iris.feature_names) # dataset features \n",
    "print(iris.data.shape) # metdata\n",
    "print(type(iris.data)) # data type"
   ]
  },
  {
   "cell_type": "code",
   "execution_count": 116,
   "metadata": {},
   "outputs": [
    {
     "output_type": "execute_result",
     "data": {
      "text/plain": "     sepal length (cm)  sepal width (cm)  petal length (cm)  petal width (cm)\n0                  5.1               3.5                1.4               0.2\n1                  4.9               3.0                1.4               0.2\n2                  4.7               3.2                1.3               0.2\n3                  4.6               3.1                1.5               0.2\n4                  5.0               3.6                1.4               0.2\n..                 ...               ...                ...               ...\n145                6.7               3.0                5.2               2.3\n146                6.3               2.5                5.0               1.9\n147                6.5               3.0                5.2               2.0\n148                6.2               3.4                5.4               2.3\n149                5.9               3.0                5.1               1.8\n\n[150 rows x 4 columns]",
      "text/html": "<div>\n<style scoped>\n    .dataframe tbody tr th:only-of-type {\n        vertical-align: middle;\n    }\n\n    .dataframe tbody tr th {\n        vertical-align: top;\n    }\n\n    .dataframe thead th {\n        text-align: right;\n    }\n</style>\n<table border=\"1\" class=\"dataframe\">\n  <thead>\n    <tr style=\"text-align: right;\">\n      <th></th>\n      <th>sepal length (cm)</th>\n      <th>sepal width (cm)</th>\n      <th>petal length (cm)</th>\n      <th>petal width (cm)</th>\n    </tr>\n  </thead>\n  <tbody>\n    <tr>\n      <th>0</th>\n      <td>5.1</td>\n      <td>3.5</td>\n      <td>1.4</td>\n      <td>0.2</td>\n    </tr>\n    <tr>\n      <th>1</th>\n      <td>4.9</td>\n      <td>3.0</td>\n      <td>1.4</td>\n      <td>0.2</td>\n    </tr>\n    <tr>\n      <th>2</th>\n      <td>4.7</td>\n      <td>3.2</td>\n      <td>1.3</td>\n      <td>0.2</td>\n    </tr>\n    <tr>\n      <th>3</th>\n      <td>4.6</td>\n      <td>3.1</td>\n      <td>1.5</td>\n      <td>0.2</td>\n    </tr>\n    <tr>\n      <th>4</th>\n      <td>5.0</td>\n      <td>3.6</td>\n      <td>1.4</td>\n      <td>0.2</td>\n    </tr>\n    <tr>\n      <th>...</th>\n      <td>...</td>\n      <td>...</td>\n      <td>...</td>\n      <td>...</td>\n    </tr>\n    <tr>\n      <th>145</th>\n      <td>6.7</td>\n      <td>3.0</td>\n      <td>5.2</td>\n      <td>2.3</td>\n    </tr>\n    <tr>\n      <th>146</th>\n      <td>6.3</td>\n      <td>2.5</td>\n      <td>5.0</td>\n      <td>1.9</td>\n    </tr>\n    <tr>\n      <th>147</th>\n      <td>6.5</td>\n      <td>3.0</td>\n      <td>5.2</td>\n      <td>2.0</td>\n    </tr>\n    <tr>\n      <th>148</th>\n      <td>6.2</td>\n      <td>3.4</td>\n      <td>5.4</td>\n      <td>2.3</td>\n    </tr>\n    <tr>\n      <th>149</th>\n      <td>5.9</td>\n      <td>3.0</td>\n      <td>5.1</td>\n      <td>1.8</td>\n    </tr>\n  </tbody>\n</table>\n<p>150 rows × 4 columns</p>\n</div>"
     },
     "metadata": {},
     "execution_count": 116
    }
   ],
   "source": [
    "# Create a pandas dataframe with iris data\n",
    "\n",
    "df_iris = pd.DataFrame(data=iris.data, columns=iris.feature_names)\n",
    "df_iris"
   ]
  },
  {
   "cell_type": "code",
   "execution_count": 117,
   "metadata": {
    "tags": []
   },
   "outputs": [
    {
     "output_type": "stream",
     "name": "stdout",
     "text": "<class 'pandas.core.frame.DataFrame'>\nRangeIndex: 150 entries, 0 to 149\nData columns (total 4 columns):\n #   Column             Non-Null Count  Dtype  \n---  ------             --------------  -----  \n 0   sepal length (cm)  150 non-null    float64\n 1   sepal width (cm)   150 non-null    float64\n 2   petal length (cm)  150 non-null    float64\n 3   petal width (cm)   150 non-null    float64\ndtypes: float64(4)\nmemory usage: 4.8 KB\n"
    }
   ],
   "source": [
    "# df_iris.columns\n",
    "df_iris.info() # dataframe metadata"
   ]
  },
  {
   "cell_type": "code",
   "execution_count": 118,
   "metadata": {},
   "outputs": [
    {
     "output_type": "execute_result",
     "data": {
      "text/plain": "       sepal length (cm)  sepal width (cm)  petal length (cm)  \\\ncount         150.000000        150.000000         150.000000   \nmean            5.843333          3.057333           3.758000   \nstd             0.828066          0.435866           1.765298   \nmin             4.300000          2.000000           1.000000   \n25%             5.100000          2.800000           1.600000   \n50%             5.800000          3.000000           4.350000   \n75%             6.400000          3.300000           5.100000   \nmax             7.900000          4.400000           6.900000   \n\n       petal width (cm)  \ncount        150.000000  \nmean           1.199333  \nstd            0.762238  \nmin            0.100000  \n25%            0.300000  \n50%            1.300000  \n75%            1.800000  \nmax            2.500000  ",
      "text/html": "<div>\n<style scoped>\n    .dataframe tbody tr th:only-of-type {\n        vertical-align: middle;\n    }\n\n    .dataframe tbody tr th {\n        vertical-align: top;\n    }\n\n    .dataframe thead th {\n        text-align: right;\n    }\n</style>\n<table border=\"1\" class=\"dataframe\">\n  <thead>\n    <tr style=\"text-align: right;\">\n      <th></th>\n      <th>sepal length (cm)</th>\n      <th>sepal width (cm)</th>\n      <th>petal length (cm)</th>\n      <th>petal width (cm)</th>\n    </tr>\n  </thead>\n  <tbody>\n    <tr>\n      <th>count</th>\n      <td>150.000000</td>\n      <td>150.000000</td>\n      <td>150.000000</td>\n      <td>150.000000</td>\n    </tr>\n    <tr>\n      <th>mean</th>\n      <td>5.843333</td>\n      <td>3.057333</td>\n      <td>3.758000</td>\n      <td>1.199333</td>\n    </tr>\n    <tr>\n      <th>std</th>\n      <td>0.828066</td>\n      <td>0.435866</td>\n      <td>1.765298</td>\n      <td>0.762238</td>\n    </tr>\n    <tr>\n      <th>min</th>\n      <td>4.300000</td>\n      <td>2.000000</td>\n      <td>1.000000</td>\n      <td>0.100000</td>\n    </tr>\n    <tr>\n      <th>25%</th>\n      <td>5.100000</td>\n      <td>2.800000</td>\n      <td>1.600000</td>\n      <td>0.300000</td>\n    </tr>\n    <tr>\n      <th>50%</th>\n      <td>5.800000</td>\n      <td>3.000000</td>\n      <td>4.350000</td>\n      <td>1.300000</td>\n    </tr>\n    <tr>\n      <th>75%</th>\n      <td>6.400000</td>\n      <td>3.300000</td>\n      <td>5.100000</td>\n      <td>1.800000</td>\n    </tr>\n    <tr>\n      <th>max</th>\n      <td>7.900000</td>\n      <td>4.400000</td>\n      <td>6.900000</td>\n      <td>2.500000</td>\n    </tr>\n  </tbody>\n</table>\n</div>"
     },
     "metadata": {},
     "execution_count": 118
    }
   ],
   "source": [
    "df_iris.describe() # summary of numerical columns\n",
    "# df.describe(include='all') # some info for string datatype also"
   ]
  },
  {
   "cell_type": "markdown",
   "metadata": {},
   "source": [
    "*** Modifying data in dataframe ***"
   ]
  },
  {
   "cell_type": "code",
   "execution_count": 119,
   "metadata": {},
   "outputs": [
    {
     "output_type": "execute_result",
     "data": {
      "text/plain": "         0       1       2\n0  sandeep  30.666  45.000\n1   swetha  30.666  30.000\n2     niya  40.250  25.000\n3  swarima  20.000  15.000\n4     siva  15.000  34.666\n5    lalit  20.000  20.000\n6     john  37.000  20.000\n7   murari  40.250  15.000\n8   sanjay  20.000  20.000\n9      sri  20.000  29.000",
      "text/html": "<div>\n<style scoped>\n    .dataframe tbody tr th:only-of-type {\n        vertical-align: middle;\n    }\n\n    .dataframe tbody tr th {\n        vertical-align: top;\n    }\n\n    .dataframe thead th {\n        text-align: right;\n    }\n</style>\n<table border=\"1\" class=\"dataframe\">\n  <thead>\n    <tr style=\"text-align: right;\">\n      <th></th>\n      <th>0</th>\n      <th>1</th>\n      <th>2</th>\n    </tr>\n  </thead>\n  <tbody>\n    <tr>\n      <th>0</th>\n      <td>sandeep</td>\n      <td>30.666</td>\n      <td>45.000</td>\n    </tr>\n    <tr>\n      <th>1</th>\n      <td>swetha</td>\n      <td>30.666</td>\n      <td>30.000</td>\n    </tr>\n    <tr>\n      <th>2</th>\n      <td>niya</td>\n      <td>40.250</td>\n      <td>25.000</td>\n    </tr>\n    <tr>\n      <th>3</th>\n      <td>swarima</td>\n      <td>20.000</td>\n      <td>15.000</td>\n    </tr>\n    <tr>\n      <th>4</th>\n      <td>siva</td>\n      <td>15.000</td>\n      <td>34.666</td>\n    </tr>\n    <tr>\n      <th>5</th>\n      <td>lalit</td>\n      <td>20.000</td>\n      <td>20.000</td>\n    </tr>\n    <tr>\n      <th>6</th>\n      <td>john</td>\n      <td>37.000</td>\n      <td>20.000</td>\n    </tr>\n    <tr>\n      <th>7</th>\n      <td>murari</td>\n      <td>40.250</td>\n      <td>15.000</td>\n    </tr>\n    <tr>\n      <th>8</th>\n      <td>sanjay</td>\n      <td>20.000</td>\n      <td>20.000</td>\n    </tr>\n    <tr>\n      <th>9</th>\n      <td>sri</td>\n      <td>20.000</td>\n      <td>29.000</td>\n    </tr>\n  </tbody>\n</table>\n</div>"
     },
     "metadata": {},
     "execution_count": 119
    }
   ],
   "source": [
    "df_marks = pd.read_csv('./data-files/pandas/studentmarks2.csv', sep=\",\", header=None)\n",
    "df_marks"
   ]
  },
  {
   "cell_type": "code",
   "execution_count": 120,
   "metadata": {},
   "outputs": [
    {
     "output_type": "execute_result",
     "data": {
      "text/plain": "      Name  Marks1  Marks2\n0  sandeep  30.666  45.000\n1   swetha  30.666  30.000\n2     niya  40.250  25.000\n3  swarima  20.000  15.000\n4     siva  15.000  34.666\n5    lalit  20.000  20.000\n6     john  37.000  20.000\n7   murari  40.250  15.000\n8   sanjay  20.000  20.000\n9      sri  20.000  29.000",
      "text/html": "<div>\n<style scoped>\n    .dataframe tbody tr th:only-of-type {\n        vertical-align: middle;\n    }\n\n    .dataframe tbody tr th {\n        vertical-align: top;\n    }\n\n    .dataframe thead th {\n        text-align: right;\n    }\n</style>\n<table border=\"1\" class=\"dataframe\">\n  <thead>\n    <tr style=\"text-align: right;\">\n      <th></th>\n      <th>Name</th>\n      <th>Marks1</th>\n      <th>Marks2</th>\n    </tr>\n  </thead>\n  <tbody>\n    <tr>\n      <th>0</th>\n      <td>sandeep</td>\n      <td>30.666</td>\n      <td>45.000</td>\n    </tr>\n    <tr>\n      <th>1</th>\n      <td>swetha</td>\n      <td>30.666</td>\n      <td>30.000</td>\n    </tr>\n    <tr>\n      <th>2</th>\n      <td>niya</td>\n      <td>40.250</td>\n      <td>25.000</td>\n    </tr>\n    <tr>\n      <th>3</th>\n      <td>swarima</td>\n      <td>20.000</td>\n      <td>15.000</td>\n    </tr>\n    <tr>\n      <th>4</th>\n      <td>siva</td>\n      <td>15.000</td>\n      <td>34.666</td>\n    </tr>\n    <tr>\n      <th>5</th>\n      <td>lalit</td>\n      <td>20.000</td>\n      <td>20.000</td>\n    </tr>\n    <tr>\n      <th>6</th>\n      <td>john</td>\n      <td>37.000</td>\n      <td>20.000</td>\n    </tr>\n    <tr>\n      <th>7</th>\n      <td>murari</td>\n      <td>40.250</td>\n      <td>15.000</td>\n    </tr>\n    <tr>\n      <th>8</th>\n      <td>sanjay</td>\n      <td>20.000</td>\n      <td>20.000</td>\n    </tr>\n    <tr>\n      <th>9</th>\n      <td>sri</td>\n      <td>20.000</td>\n      <td>29.000</td>\n    </tr>\n  </tbody>\n</table>\n</div>"
     },
     "metadata": {},
     "execution_count": 120
    }
   ],
   "source": [
    "# setup column names for easy reference\n",
    "df_marks.columns = ['Name', 'Marks1', 'Marks2']\n",
    "df_marks"
   ]
  },
  {
   "cell_type": "code",
   "execution_count": 121,
   "metadata": {
    "tags": []
   },
   "outputs": [
    {
     "output_type": "stream",
     "name": "stdout",
     "text": "<class 'pandas.core.frame.DataFrame'>\nRangeIndex: 10 entries, 0 to 9\nData columns (total 3 columns):\n #   Column  Non-Null Count  Dtype  \n---  ------  --------------  -----  \n 0   Name    10 non-null     object \n 1   Marks1  10 non-null     float64\n 2   Marks2  10 non-null     float64\ndtypes: float64(2), object(1)\nmemory usage: 368.0+ bytes\n"
    }
   ],
   "source": [
    "df_marks.info()"
   ]
  },
  {
   "cell_type": "code",
   "execution_count": 122,
   "metadata": {},
   "outputs": [
    {
     "output_type": "execute_result",
     "data": {
      "text/plain": "      Name  Marks1  Marks2\n0  sandeep  30.666  45.000\n1   swetha  30.666  30.000\n2     niya  40.250  25.000\n3  swarima  20.000  15.000\n4     siva  15.000  34.666\n5    lalit  20.000  20.000\n6     john  37.000  20.000\n7   murari  40.250  15.000\n8   sanjay  20.000  20.000\n9      sri  20.000  29.000\n0   pratul  18.000  20.000\n1  pradeep  25.000  25.000",
      "text/html": "<div>\n<style scoped>\n    .dataframe tbody tr th:only-of-type {\n        vertical-align: middle;\n    }\n\n    .dataframe tbody tr th {\n        vertical-align: top;\n    }\n\n    .dataframe thead th {\n        text-align: right;\n    }\n</style>\n<table border=\"1\" class=\"dataframe\">\n  <thead>\n    <tr style=\"text-align: right;\">\n      <th></th>\n      <th>Name</th>\n      <th>Marks1</th>\n      <th>Marks2</th>\n    </tr>\n  </thead>\n  <tbody>\n    <tr>\n      <th>0</th>\n      <td>sandeep</td>\n      <td>30.666</td>\n      <td>45.000</td>\n    </tr>\n    <tr>\n      <th>1</th>\n      <td>swetha</td>\n      <td>30.666</td>\n      <td>30.000</td>\n    </tr>\n    <tr>\n      <th>2</th>\n      <td>niya</td>\n      <td>40.250</td>\n      <td>25.000</td>\n    </tr>\n    <tr>\n      <th>3</th>\n      <td>swarima</td>\n      <td>20.000</td>\n      <td>15.000</td>\n    </tr>\n    <tr>\n      <th>4</th>\n      <td>siva</td>\n      <td>15.000</td>\n      <td>34.666</td>\n    </tr>\n    <tr>\n      <th>5</th>\n      <td>lalit</td>\n      <td>20.000</td>\n      <td>20.000</td>\n    </tr>\n    <tr>\n      <th>6</th>\n      <td>john</td>\n      <td>37.000</td>\n      <td>20.000</td>\n    </tr>\n    <tr>\n      <th>7</th>\n      <td>murari</td>\n      <td>40.250</td>\n      <td>15.000</td>\n    </tr>\n    <tr>\n      <th>8</th>\n      <td>sanjay</td>\n      <td>20.000</td>\n      <td>20.000</td>\n    </tr>\n    <tr>\n      <th>9</th>\n      <td>sri</td>\n      <td>20.000</td>\n      <td>29.000</td>\n    </tr>\n    <tr>\n      <th>0</th>\n      <td>pratul</td>\n      <td>18.000</td>\n      <td>20.000</td>\n    </tr>\n    <tr>\n      <th>1</th>\n      <td>pradeep</td>\n      <td>25.000</td>\n      <td>25.000</td>\n    </tr>\n  </tbody>\n</table>\n</div>"
     },
     "metadata": {},
     "execution_count": 122
    }
   ],
   "source": [
    "# Add two new students to the existing data.\n",
    "df_marks = df_marks.append(pd.DataFrame([['pratul',18,20],['pradeep',25,25] ], columns=['Name','Marks1','Marks2']))\n",
    "df_marks"
   ]
  },
  {
   "cell_type": "code",
   "execution_count": 123,
   "metadata": {},
   "outputs": [
    {
     "output_type": "execute_result",
     "data": {
      "text/plain": "    index     Name  Marks1  Marks2\n0       0  sandeep  30.666  45.000\n1       1   swetha  30.666  30.000\n2       2     niya  40.250  25.000\n3       3  swarima  20.000  15.000\n4       4     siva  15.000  34.666\n5       5    lalit  20.000  20.000\n6       6     john  37.000  20.000\n7       7   murari  40.250  15.000\n8       8   sanjay  20.000  20.000\n9       9      sri  20.000  29.000\n10      0   pratul  18.000  20.000\n11      1  pradeep  25.000  25.000",
      "text/html": "<div>\n<style scoped>\n    .dataframe tbody tr th:only-of-type {\n        vertical-align: middle;\n    }\n\n    .dataframe tbody tr th {\n        vertical-align: top;\n    }\n\n    .dataframe thead th {\n        text-align: right;\n    }\n</style>\n<table border=\"1\" class=\"dataframe\">\n  <thead>\n    <tr style=\"text-align: right;\">\n      <th></th>\n      <th>index</th>\n      <th>Name</th>\n      <th>Marks1</th>\n      <th>Marks2</th>\n    </tr>\n  </thead>\n  <tbody>\n    <tr>\n      <th>0</th>\n      <td>0</td>\n      <td>sandeep</td>\n      <td>30.666</td>\n      <td>45.000</td>\n    </tr>\n    <tr>\n      <th>1</th>\n      <td>1</td>\n      <td>swetha</td>\n      <td>30.666</td>\n      <td>30.000</td>\n    </tr>\n    <tr>\n      <th>2</th>\n      <td>2</td>\n      <td>niya</td>\n      <td>40.250</td>\n      <td>25.000</td>\n    </tr>\n    <tr>\n      <th>3</th>\n      <td>3</td>\n      <td>swarima</td>\n      <td>20.000</td>\n      <td>15.000</td>\n    </tr>\n    <tr>\n      <th>4</th>\n      <td>4</td>\n      <td>siva</td>\n      <td>15.000</td>\n      <td>34.666</td>\n    </tr>\n    <tr>\n      <th>5</th>\n      <td>5</td>\n      <td>lalit</td>\n      <td>20.000</td>\n      <td>20.000</td>\n    </tr>\n    <tr>\n      <th>6</th>\n      <td>6</td>\n      <td>john</td>\n      <td>37.000</td>\n      <td>20.000</td>\n    </tr>\n    <tr>\n      <th>7</th>\n      <td>7</td>\n      <td>murari</td>\n      <td>40.250</td>\n      <td>15.000</td>\n    </tr>\n    <tr>\n      <th>8</th>\n      <td>8</td>\n      <td>sanjay</td>\n      <td>20.000</td>\n      <td>20.000</td>\n    </tr>\n    <tr>\n      <th>9</th>\n      <td>9</td>\n      <td>sri</td>\n      <td>20.000</td>\n      <td>29.000</td>\n    </tr>\n    <tr>\n      <th>10</th>\n      <td>0</td>\n      <td>pratul</td>\n      <td>18.000</td>\n      <td>20.000</td>\n    </tr>\n    <tr>\n      <th>11</th>\n      <td>1</td>\n      <td>pradeep</td>\n      <td>25.000</td>\n      <td>25.000</td>\n    </tr>\n  </tbody>\n</table>\n</div>"
     },
     "metadata": {},
     "execution_count": 123
    }
   ],
   "source": [
    "# Notice that there are common index for two students. \n",
    "# \n",
    "# There are two ways to avoid this situation:\n",
    "# Either use ignore_index=True option when appending or reset the index as shown below\n",
    "# df_marks = df_marks.append(pd.DataFrame( [ ['pratul',18,20],['pradeep',25,25] ], columns=['Name','Marks1','Marks2']), ignore_index=True)\n",
    "df_marks.reset_index() # # This method does not change df_marks until assigned"
   ]
  },
  {
   "cell_type": "code",
   "execution_count": 124,
   "metadata": {},
   "outputs": [
    {
     "output_type": "execute_result",
     "data": {
      "text/plain": "Name      murari\nMarks1     40.25\nMarks2        15\nName: 7, dtype: object"
     },
     "metadata": {},
     "execution_count": 124
    }
   ],
   "source": [
    "df_marks.iloc[7]"
   ]
  },
  {
   "cell_type": "code",
   "execution_count": 125,
   "metadata": {},
   "outputs": [
    {
     "output_type": "execute_result",
     "data": {
      "text/plain": "      Name  Marks1  Marks2   Total\n0  sandeep  30.666  45.000  75.666\n1   swetha  30.666  30.000  60.666\n2     niya  40.250  25.000  65.250\n3  swarima  20.000  15.000  35.000\n4     siva  15.000  34.666  49.666\n5    lalit  20.000  20.000  40.000\n6     john  37.000  20.000  57.000\n7   murari  40.250  15.000  55.250\n8   sanjay  20.000  20.000  40.000\n9      sri  20.000  29.000  49.000\n0   pratul  18.000  20.000  38.000\n1  pradeep  25.000  25.000  50.000",
      "text/html": "<div>\n<style scoped>\n    .dataframe tbody tr th:only-of-type {\n        vertical-align: middle;\n    }\n\n    .dataframe tbody tr th {\n        vertical-align: top;\n    }\n\n    .dataframe thead th {\n        text-align: right;\n    }\n</style>\n<table border=\"1\" class=\"dataframe\">\n  <thead>\n    <tr style=\"text-align: right;\">\n      <th></th>\n      <th>Name</th>\n      <th>Marks1</th>\n      <th>Marks2</th>\n      <th>Total</th>\n    </tr>\n  </thead>\n  <tbody>\n    <tr>\n      <th>0</th>\n      <td>sandeep</td>\n      <td>30.666</td>\n      <td>45.000</td>\n      <td>75.666</td>\n    </tr>\n    <tr>\n      <th>1</th>\n      <td>swetha</td>\n      <td>30.666</td>\n      <td>30.000</td>\n      <td>60.666</td>\n    </tr>\n    <tr>\n      <th>2</th>\n      <td>niya</td>\n      <td>40.250</td>\n      <td>25.000</td>\n      <td>65.250</td>\n    </tr>\n    <tr>\n      <th>3</th>\n      <td>swarima</td>\n      <td>20.000</td>\n      <td>15.000</td>\n      <td>35.000</td>\n    </tr>\n    <tr>\n      <th>4</th>\n      <td>siva</td>\n      <td>15.000</td>\n      <td>34.666</td>\n      <td>49.666</td>\n    </tr>\n    <tr>\n      <th>5</th>\n      <td>lalit</td>\n      <td>20.000</td>\n      <td>20.000</td>\n      <td>40.000</td>\n    </tr>\n    <tr>\n      <th>6</th>\n      <td>john</td>\n      <td>37.000</td>\n      <td>20.000</td>\n      <td>57.000</td>\n    </tr>\n    <tr>\n      <th>7</th>\n      <td>murari</td>\n      <td>40.250</td>\n      <td>15.000</td>\n      <td>55.250</td>\n    </tr>\n    <tr>\n      <th>8</th>\n      <td>sanjay</td>\n      <td>20.000</td>\n      <td>20.000</td>\n      <td>40.000</td>\n    </tr>\n    <tr>\n      <th>9</th>\n      <td>sri</td>\n      <td>20.000</td>\n      <td>29.000</td>\n      <td>49.000</td>\n    </tr>\n    <tr>\n      <th>0</th>\n      <td>pratul</td>\n      <td>18.000</td>\n      <td>20.000</td>\n      <td>38.000</td>\n    </tr>\n    <tr>\n      <th>1</th>\n      <td>pradeep</td>\n      <td>25.000</td>\n      <td>25.000</td>\n      <td>50.000</td>\n    </tr>\n  </tbody>\n</table>\n</div>"
     },
     "metadata": {},
     "execution_count": 125
    }
   ],
   "source": [
    "# add a new column of total marks (derived column)\n",
    "df_marks[\"Total\"] = df_marks[\"Marks1\"]+df_marks[\"Marks2\"]\n",
    "df_marks\n",
    "\n",
    "# few more examples\n",
    "# df_marks['newCriter'] = df_marks['Marks1']*.5+ df_marks['Marks2']\n",
    "# df_marks['copy'] = df_marks['Total']\n",
    "# del df['copy']"
   ]
  },
  {
   "cell_type": "code",
   "execution_count": 126,
   "metadata": {},
   "outputs": [
    {
     "output_type": "execute_result",
     "data": {
      "text/plain": "         Marks1  Marks2   Total\nName                           \nsandeep  30.666  45.000  75.666\nswetha   30.666  30.000  60.666\nniya     40.250  25.000  65.250\nswarima  20.000  15.000  35.000\nsiva     15.000  34.666  49.666\nlalit    20.000  20.000  40.000\njohn     37.000  20.000  57.000\nmurari   40.250  15.000  55.250\nsanjay   20.000  20.000  40.000\nsri      20.000  29.000  49.000\npratul   18.000  20.000  38.000\npradeep  25.000  25.000  50.000",
      "text/html": "<div>\n<style scoped>\n    .dataframe tbody tr th:only-of-type {\n        vertical-align: middle;\n    }\n\n    .dataframe tbody tr th {\n        vertical-align: top;\n    }\n\n    .dataframe thead th {\n        text-align: right;\n    }\n</style>\n<table border=\"1\" class=\"dataframe\">\n  <thead>\n    <tr style=\"text-align: right;\">\n      <th></th>\n      <th>Marks1</th>\n      <th>Marks2</th>\n      <th>Total</th>\n    </tr>\n    <tr>\n      <th>Name</th>\n      <th></th>\n      <th></th>\n      <th></th>\n    </tr>\n  </thead>\n  <tbody>\n    <tr>\n      <th>sandeep</th>\n      <td>30.666</td>\n      <td>45.000</td>\n      <td>75.666</td>\n    </tr>\n    <tr>\n      <th>swetha</th>\n      <td>30.666</td>\n      <td>30.000</td>\n      <td>60.666</td>\n    </tr>\n    <tr>\n      <th>niya</th>\n      <td>40.250</td>\n      <td>25.000</td>\n      <td>65.250</td>\n    </tr>\n    <tr>\n      <th>swarima</th>\n      <td>20.000</td>\n      <td>15.000</td>\n      <td>35.000</td>\n    </tr>\n    <tr>\n      <th>siva</th>\n      <td>15.000</td>\n      <td>34.666</td>\n      <td>49.666</td>\n    </tr>\n    <tr>\n      <th>lalit</th>\n      <td>20.000</td>\n      <td>20.000</td>\n      <td>40.000</td>\n    </tr>\n    <tr>\n      <th>john</th>\n      <td>37.000</td>\n      <td>20.000</td>\n      <td>57.000</td>\n    </tr>\n    <tr>\n      <th>murari</th>\n      <td>40.250</td>\n      <td>15.000</td>\n      <td>55.250</td>\n    </tr>\n    <tr>\n      <th>sanjay</th>\n      <td>20.000</td>\n      <td>20.000</td>\n      <td>40.000</td>\n    </tr>\n    <tr>\n      <th>sri</th>\n      <td>20.000</td>\n      <td>29.000</td>\n      <td>49.000</td>\n    </tr>\n    <tr>\n      <th>pratul</th>\n      <td>18.000</td>\n      <td>20.000</td>\n      <td>38.000</td>\n    </tr>\n    <tr>\n      <th>pradeep</th>\n      <td>25.000</td>\n      <td>25.000</td>\n      <td>50.000</td>\n    </tr>\n  </tbody>\n</table>\n</div>"
     },
     "metadata": {},
     "execution_count": 126
    }
   ],
   "source": [
    "# assign names as the index\n",
    "df_marks.set_index(keys=['Name'], inplace=True) # In order to modify the table use the option inplace=True.\n",
    "df_marks"
   ]
  },
  {
   "cell_type": "code",
   "execution_count": 127,
   "metadata": {},
   "outputs": [
    {
     "output_type": "execute_result",
     "data": {
      "text/plain": "       Name  Marks1  Marks2   Total\n0   sandeep  30.666  45.000  75.666\n1    swetha  30.666  30.000  60.666\n2      niya  40.250  25.000  65.250\n3   swarima  20.000  15.000  35.000\n4      siva  15.000  34.666  49.666\n5     lalit  20.000  20.000  40.000\n6      john  37.000  20.000  57.000\n7    murari  40.250  15.000  55.250\n8    sanjay  20.000  20.000  40.000\n9       sri  20.000  29.000  49.000\n10   pratul  18.000  20.000  38.000\n11  pradeep  25.000  25.000  50.000",
      "text/html": "<div>\n<style scoped>\n    .dataframe tbody tr th:only-of-type {\n        vertical-align: middle;\n    }\n\n    .dataframe tbody tr th {\n        vertical-align: top;\n    }\n\n    .dataframe thead th {\n        text-align: right;\n    }\n</style>\n<table border=\"1\" class=\"dataframe\">\n  <thead>\n    <tr style=\"text-align: right;\">\n      <th></th>\n      <th>Name</th>\n      <th>Marks1</th>\n      <th>Marks2</th>\n      <th>Total</th>\n    </tr>\n  </thead>\n  <tbody>\n    <tr>\n      <th>0</th>\n      <td>sandeep</td>\n      <td>30.666</td>\n      <td>45.000</td>\n      <td>75.666</td>\n    </tr>\n    <tr>\n      <th>1</th>\n      <td>swetha</td>\n      <td>30.666</td>\n      <td>30.000</td>\n      <td>60.666</td>\n    </tr>\n    <tr>\n      <th>2</th>\n      <td>niya</td>\n      <td>40.250</td>\n      <td>25.000</td>\n      <td>65.250</td>\n    </tr>\n    <tr>\n      <th>3</th>\n      <td>swarima</td>\n      <td>20.000</td>\n      <td>15.000</td>\n      <td>35.000</td>\n    </tr>\n    <tr>\n      <th>4</th>\n      <td>siva</td>\n      <td>15.000</td>\n      <td>34.666</td>\n      <td>49.666</td>\n    </tr>\n    <tr>\n      <th>5</th>\n      <td>lalit</td>\n      <td>20.000</td>\n      <td>20.000</td>\n      <td>40.000</td>\n    </tr>\n    <tr>\n      <th>6</th>\n      <td>john</td>\n      <td>37.000</td>\n      <td>20.000</td>\n      <td>57.000</td>\n    </tr>\n    <tr>\n      <th>7</th>\n      <td>murari</td>\n      <td>40.250</td>\n      <td>15.000</td>\n      <td>55.250</td>\n    </tr>\n    <tr>\n      <th>8</th>\n      <td>sanjay</td>\n      <td>20.000</td>\n      <td>20.000</td>\n      <td>40.000</td>\n    </tr>\n    <tr>\n      <th>9</th>\n      <td>sri</td>\n      <td>20.000</td>\n      <td>29.000</td>\n      <td>49.000</td>\n    </tr>\n    <tr>\n      <th>10</th>\n      <td>pratul</td>\n      <td>18.000</td>\n      <td>20.000</td>\n      <td>38.000</td>\n    </tr>\n    <tr>\n      <th>11</th>\n      <td>pradeep</td>\n      <td>25.000</td>\n      <td>25.000</td>\n      <td>50.000</td>\n    </tr>\n  </tbody>\n</table>\n</div>"
     },
     "metadata": {},
     "execution_count": 127
    }
   ],
   "source": [
    "# reset back to normal indexes\n",
    "df_marks.reset_index(inplace=True)\n",
    "df_marks"
   ]
  },
  {
   "cell_type": "code",
   "execution_count": 128,
   "metadata": {},
   "outputs": [
    {
     "output_type": "execute_result",
     "data": {
      "text/plain": "       Name  Marks1  Marks2   Total\n0   sandeep  30.666  45.000  75.666\n2      niya  40.250  25.000  65.250\n1    swetha  30.666  30.000  60.666\n6      john  37.000  20.000  57.000\n7    murari  40.250  15.000  55.250\n11  pradeep  25.000  25.000  50.000\n4      siva  15.000  34.666  49.666\n9       sri  20.000  29.000  49.000\n5     lalit  20.000  20.000  40.000\n8    sanjay  20.000  20.000  40.000\n10   pratul  18.000  20.000  38.000\n3   swarima  20.000  15.000  35.000",
      "text/html": "<div>\n<style scoped>\n    .dataframe tbody tr th:only-of-type {\n        vertical-align: middle;\n    }\n\n    .dataframe tbody tr th {\n        vertical-align: top;\n    }\n\n    .dataframe thead th {\n        text-align: right;\n    }\n</style>\n<table border=\"1\" class=\"dataframe\">\n  <thead>\n    <tr style=\"text-align: right;\">\n      <th></th>\n      <th>Name</th>\n      <th>Marks1</th>\n      <th>Marks2</th>\n      <th>Total</th>\n    </tr>\n  </thead>\n  <tbody>\n    <tr>\n      <th>0</th>\n      <td>sandeep</td>\n      <td>30.666</td>\n      <td>45.000</td>\n      <td>75.666</td>\n    </tr>\n    <tr>\n      <th>2</th>\n      <td>niya</td>\n      <td>40.250</td>\n      <td>25.000</td>\n      <td>65.250</td>\n    </tr>\n    <tr>\n      <th>1</th>\n      <td>swetha</td>\n      <td>30.666</td>\n      <td>30.000</td>\n      <td>60.666</td>\n    </tr>\n    <tr>\n      <th>6</th>\n      <td>john</td>\n      <td>37.000</td>\n      <td>20.000</td>\n      <td>57.000</td>\n    </tr>\n    <tr>\n      <th>7</th>\n      <td>murari</td>\n      <td>40.250</td>\n      <td>15.000</td>\n      <td>55.250</td>\n    </tr>\n    <tr>\n      <th>11</th>\n      <td>pradeep</td>\n      <td>25.000</td>\n      <td>25.000</td>\n      <td>50.000</td>\n    </tr>\n    <tr>\n      <th>4</th>\n      <td>siva</td>\n      <td>15.000</td>\n      <td>34.666</td>\n      <td>49.666</td>\n    </tr>\n    <tr>\n      <th>9</th>\n      <td>sri</td>\n      <td>20.000</td>\n      <td>29.000</td>\n      <td>49.000</td>\n    </tr>\n    <tr>\n      <th>5</th>\n      <td>lalit</td>\n      <td>20.000</td>\n      <td>20.000</td>\n      <td>40.000</td>\n    </tr>\n    <tr>\n      <th>8</th>\n      <td>sanjay</td>\n      <td>20.000</td>\n      <td>20.000</td>\n      <td>40.000</td>\n    </tr>\n    <tr>\n      <th>10</th>\n      <td>pratul</td>\n      <td>18.000</td>\n      <td>20.000</td>\n      <td>38.000</td>\n    </tr>\n    <tr>\n      <th>3</th>\n      <td>swarima</td>\n      <td>20.000</td>\n      <td>15.000</td>\n      <td>35.000</td>\n    </tr>\n  </tbody>\n</table>\n</div>"
     },
     "metadata": {},
     "execution_count": 128
    }
   ],
   "source": [
    "# Sorting based on a list of columns is easy. This however does not modify the dataframe.\n",
    "# In order to modify the table use the option inplace=True.\n",
    "\n",
    "df_marks.sort_values(by=['Total','Marks1'],ascending=[False,True])"
   ]
  },
  {
   "cell_type": "code",
   "execution_count": 129,
   "metadata": {},
   "outputs": [
    {
     "output_type": "execute_result",
     "data": {
      "text/plain": "       Name  Marks1  Marks2\n0   sandeep  30.666  45.000\n1    swetha  30.666  30.000\n2      niya  40.250  25.000\n3   swarima  20.000  15.000\n4      siva  15.000  34.666\n5     lalit  20.000  20.000\n6      john  37.000  20.000\n7    murari  40.250  15.000\n8    sanjay  20.000  20.000\n9       sri  20.000  29.000\n10   pratul  18.000  20.000\n11  pradeep  25.000  25.000",
      "text/html": "<div>\n<style scoped>\n    .dataframe tbody tr th:only-of-type {\n        vertical-align: middle;\n    }\n\n    .dataframe tbody tr th {\n        vertical-align: top;\n    }\n\n    .dataframe thead th {\n        text-align: right;\n    }\n</style>\n<table border=\"1\" class=\"dataframe\">\n  <thead>\n    <tr style=\"text-align: right;\">\n      <th></th>\n      <th>Name</th>\n      <th>Marks1</th>\n      <th>Marks2</th>\n    </tr>\n  </thead>\n  <tbody>\n    <tr>\n      <th>0</th>\n      <td>sandeep</td>\n      <td>30.666</td>\n      <td>45.000</td>\n    </tr>\n    <tr>\n      <th>1</th>\n      <td>swetha</td>\n      <td>30.666</td>\n      <td>30.000</td>\n    </tr>\n    <tr>\n      <th>2</th>\n      <td>niya</td>\n      <td>40.250</td>\n      <td>25.000</td>\n    </tr>\n    <tr>\n      <th>3</th>\n      <td>swarima</td>\n      <td>20.000</td>\n      <td>15.000</td>\n    </tr>\n    <tr>\n      <th>4</th>\n      <td>siva</td>\n      <td>15.000</td>\n      <td>34.666</td>\n    </tr>\n    <tr>\n      <th>5</th>\n      <td>lalit</td>\n      <td>20.000</td>\n      <td>20.000</td>\n    </tr>\n    <tr>\n      <th>6</th>\n      <td>john</td>\n      <td>37.000</td>\n      <td>20.000</td>\n    </tr>\n    <tr>\n      <th>7</th>\n      <td>murari</td>\n      <td>40.250</td>\n      <td>15.000</td>\n    </tr>\n    <tr>\n      <th>8</th>\n      <td>sanjay</td>\n      <td>20.000</td>\n      <td>20.000</td>\n    </tr>\n    <tr>\n      <th>9</th>\n      <td>sri</td>\n      <td>20.000</td>\n      <td>29.000</td>\n    </tr>\n    <tr>\n      <th>10</th>\n      <td>pratul</td>\n      <td>18.000</td>\n      <td>20.000</td>\n    </tr>\n    <tr>\n      <th>11</th>\n      <td>pradeep</td>\n      <td>25.000</td>\n      <td>25.000</td>\n    </tr>\n  </tbody>\n</table>\n</div>"
     },
     "metadata": {},
     "execution_count": 129
    }
   ],
   "source": [
    "df_marks.drop(\"Total\", axis=1)  # not done inplace"
   ]
  },
  {
   "cell_type": "code",
   "execution_count": 130,
   "metadata": {},
   "outputs": [
    {
     "output_type": "execute_result",
     "data": {
      "text/plain": "       Name  Marks1  Marks2   Total\n0   sandeep  30.666  45.000  75.666\n1    swetha  30.666  30.000  60.666\n2      niya  40.250  25.000  65.250\n3   swarima  20.000  15.000  35.000\n4      siva  15.000  34.666  49.666\n5     lalit  20.000  20.000  40.000\n6      john  37.000  20.000  57.000\n7    murari  40.250  15.000  55.250\n8    sanjay  20.000  20.000  40.000\n9       sri  20.000  29.000  49.000\n10   pratul  18.000  20.000  38.000\n11  pradeep  25.000  25.000  50.000",
      "text/html": "<div>\n<style scoped>\n    .dataframe tbody tr th:only-of-type {\n        vertical-align: middle;\n    }\n\n    .dataframe tbody tr th {\n        vertical-align: top;\n    }\n\n    .dataframe thead th {\n        text-align: right;\n    }\n</style>\n<table border=\"1\" class=\"dataframe\">\n  <thead>\n    <tr style=\"text-align: right;\">\n      <th></th>\n      <th>Name</th>\n      <th>Marks1</th>\n      <th>Marks2</th>\n      <th>Total</th>\n    </tr>\n  </thead>\n  <tbody>\n    <tr>\n      <th>0</th>\n      <td>sandeep</td>\n      <td>30.666</td>\n      <td>45.000</td>\n      <td>75.666</td>\n    </tr>\n    <tr>\n      <th>1</th>\n      <td>swetha</td>\n      <td>30.666</td>\n      <td>30.000</td>\n      <td>60.666</td>\n    </tr>\n    <tr>\n      <th>2</th>\n      <td>niya</td>\n      <td>40.250</td>\n      <td>25.000</td>\n      <td>65.250</td>\n    </tr>\n    <tr>\n      <th>3</th>\n      <td>swarima</td>\n      <td>20.000</td>\n      <td>15.000</td>\n      <td>35.000</td>\n    </tr>\n    <tr>\n      <th>4</th>\n      <td>siva</td>\n      <td>15.000</td>\n      <td>34.666</td>\n      <td>49.666</td>\n    </tr>\n    <tr>\n      <th>5</th>\n      <td>lalit</td>\n      <td>20.000</td>\n      <td>20.000</td>\n      <td>40.000</td>\n    </tr>\n    <tr>\n      <th>6</th>\n      <td>john</td>\n      <td>37.000</td>\n      <td>20.000</td>\n      <td>57.000</td>\n    </tr>\n    <tr>\n      <th>7</th>\n      <td>murari</td>\n      <td>40.250</td>\n      <td>15.000</td>\n      <td>55.250</td>\n    </tr>\n    <tr>\n      <th>8</th>\n      <td>sanjay</td>\n      <td>20.000</td>\n      <td>20.000</td>\n      <td>40.000</td>\n    </tr>\n    <tr>\n      <th>9</th>\n      <td>sri</td>\n      <td>20.000</td>\n      <td>29.000</td>\n      <td>49.000</td>\n    </tr>\n    <tr>\n      <th>10</th>\n      <td>pratul</td>\n      <td>18.000</td>\n      <td>20.000</td>\n      <td>38.000</td>\n    </tr>\n    <tr>\n      <th>11</th>\n      <td>pradeep</td>\n      <td>25.000</td>\n      <td>25.000</td>\n      <td>50.000</td>\n    </tr>\n  </tbody>\n</table>\n</div>"
     },
     "metadata": {},
     "execution_count": 130
    }
   ],
   "source": [
    "df_marks"
   ]
  },
  {
   "cell_type": "markdown",
   "metadata": {},
   "source": [
    "*** Groupby Operation ***"
   ]
  },
  {
   "cell_type": "code",
   "execution_count": 131,
   "metadata": {},
   "outputs": [
    {
     "output_type": "execute_result",
     "data": {
      "text/plain": "       Name  Marks1  Marks2   Total   Grade\n0   sandeep  30.666  45.000  75.666   First\n1    swetha  30.666  30.000  60.666  Fourth\n2      niya  40.250  25.000  65.250  Fourth\n3   swarima  20.000  15.000  35.000   Third\n4      siva  15.000  34.666  49.666   Third\n5     lalit  20.000  20.000  40.000   Third\n6      john  37.000  20.000  57.000  Second\n7    murari  40.250  15.000  55.250  Second\n8    sanjay  20.000  20.000  40.000  Second\n9       sri  20.000  29.000  49.000   Third\n10   pratul  18.000  20.000  38.000  Second\n11  pradeep  25.000  25.000  50.000  Second",
      "text/html": "<div>\n<style scoped>\n    .dataframe tbody tr th:only-of-type {\n        vertical-align: middle;\n    }\n\n    .dataframe tbody tr th {\n        vertical-align: top;\n    }\n\n    .dataframe thead th {\n        text-align: right;\n    }\n</style>\n<table border=\"1\" class=\"dataframe\">\n  <thead>\n    <tr style=\"text-align: right;\">\n      <th></th>\n      <th>Name</th>\n      <th>Marks1</th>\n      <th>Marks2</th>\n      <th>Total</th>\n      <th>Grade</th>\n    </tr>\n  </thead>\n  <tbody>\n    <tr>\n      <th>0</th>\n      <td>sandeep</td>\n      <td>30.666</td>\n      <td>45.000</td>\n      <td>75.666</td>\n      <td>First</td>\n    </tr>\n    <tr>\n      <th>1</th>\n      <td>swetha</td>\n      <td>30.666</td>\n      <td>30.000</td>\n      <td>60.666</td>\n      <td>Fourth</td>\n    </tr>\n    <tr>\n      <th>2</th>\n      <td>niya</td>\n      <td>40.250</td>\n      <td>25.000</td>\n      <td>65.250</td>\n      <td>Fourth</td>\n    </tr>\n    <tr>\n      <th>3</th>\n      <td>swarima</td>\n      <td>20.000</td>\n      <td>15.000</td>\n      <td>35.000</td>\n      <td>Third</td>\n    </tr>\n    <tr>\n      <th>4</th>\n      <td>siva</td>\n      <td>15.000</td>\n      <td>34.666</td>\n      <td>49.666</td>\n      <td>Third</td>\n    </tr>\n    <tr>\n      <th>5</th>\n      <td>lalit</td>\n      <td>20.000</td>\n      <td>20.000</td>\n      <td>40.000</td>\n      <td>Third</td>\n    </tr>\n    <tr>\n      <th>6</th>\n      <td>john</td>\n      <td>37.000</td>\n      <td>20.000</td>\n      <td>57.000</td>\n      <td>Second</td>\n    </tr>\n    <tr>\n      <th>7</th>\n      <td>murari</td>\n      <td>40.250</td>\n      <td>15.000</td>\n      <td>55.250</td>\n      <td>Second</td>\n    </tr>\n    <tr>\n      <th>8</th>\n      <td>sanjay</td>\n      <td>20.000</td>\n      <td>20.000</td>\n      <td>40.000</td>\n      <td>Second</td>\n    </tr>\n    <tr>\n      <th>9</th>\n      <td>sri</td>\n      <td>20.000</td>\n      <td>29.000</td>\n      <td>49.000</td>\n      <td>Third</td>\n    </tr>\n    <tr>\n      <th>10</th>\n      <td>pratul</td>\n      <td>18.000</td>\n      <td>20.000</td>\n      <td>38.000</td>\n      <td>Second</td>\n    </tr>\n    <tr>\n      <th>11</th>\n      <td>pradeep</td>\n      <td>25.000</td>\n      <td>25.000</td>\n      <td>50.000</td>\n      <td>Second</td>\n    </tr>\n  </tbody>\n</table>\n</div>"
     },
     "metadata": {},
     "execution_count": 131
    }
   ],
   "source": [
    "df_marks['Grade'] = ['First','Fourth','Fourth','Third',\"Third\",\"Third\",\"Second\",\"Second\",\"Second\",\"Third\",\"Second\",\"Second\" ]\n",
    "df_marks"
   ]
  },
  {
   "cell_type": "code",
   "execution_count": 132,
   "metadata": {},
   "outputs": [
    {
     "output_type": "execute_result",
     "data": {
      "text/plain": "Second    5\nThird     4\nFourth    2\nFirst     1\nName: Grade, dtype: int64"
     },
     "metadata": {},
     "execution_count": 132
    }
   ],
   "source": [
    "df_marks['Grade'].value_counts() #groups by column value and provides count sorted"
   ]
  },
  {
   "cell_type": "code",
   "execution_count": 133,
   "metadata": {},
   "outputs": [
    {
     "output_type": "execute_result",
     "data": {
      "text/plain": "<pandas.core.groupby.generic.DataFrameGroupBy object at 0x13d4c8580>"
     },
     "metadata": {},
     "execution_count": 133
    }
   ],
   "source": [
    "# Mean score of student by grade\n",
    "#df_gradeSecond = df_marks[['Marks1', 'Marks2']] # new data frame from two of the columns of existing dataframe\n",
    "df_grade = df_marks[['Marks1', 'Marks2']].groupby(df_marks['Grade'])\n",
    "df_grade"
   ]
  },
  {
   "cell_type": "code",
   "execution_count": 134,
   "metadata": {
    "tags": []
   },
   "outputs": [
    {
     "output_type": "stream",
     "name": "stdout",
     "text": "Marks1   Marks2\nGrade                  \nFirst   30.666  45.0000\nFourth  35.458  27.5000\nSecond  28.050  20.0000\nThird   18.750  24.6665\n        Marks1  Marks2\nGrade                 \nFirst        1       1\nFourth       2       2\nSecond       5       5\nThird        4       4\n"
    }
   ],
   "source": [
    "# We can apply aggregate operations like count, sum, max, min, mean, etc. on a group by object\n",
    "print(df_grade.mean())\n",
    "print(df_grade.count())"
   ]
  },
  {
   "cell_type": "markdown",
   "metadata": {},
   "source": [
    "*** Custom Functions: Apply Method ***\n",
    "\n",
    "apply allows to manipulate data using custom function."
   ]
  },
  {
   "cell_type": "code",
   "execution_count": 135,
   "metadata": {},
   "outputs": [
    {
     "output_type": "execute_result",
     "data": {
      "text/plain": "          Marks1    Marks2\nGrade                     \nFirst   0.000000  0.000000\nFourth  4.792000  2.500000\nSecond  8.989438  3.162278\nThird   2.165064  7.648311",
      "text/html": "<div>\n<style scoped>\n    .dataframe tbody tr th:only-of-type {\n        vertical-align: middle;\n    }\n\n    .dataframe tbody tr th {\n        vertical-align: top;\n    }\n\n    .dataframe thead th {\n        text-align: right;\n    }\n</style>\n<table border=\"1\" class=\"dataframe\">\n  <thead>\n    <tr style=\"text-align: right;\">\n      <th></th>\n      <th>Marks1</th>\n      <th>Marks2</th>\n    </tr>\n    <tr>\n      <th>Grade</th>\n      <th></th>\n      <th></th>\n    </tr>\n  </thead>\n  <tbody>\n    <tr>\n      <th>First</th>\n      <td>0.000000</td>\n      <td>0.000000</td>\n    </tr>\n    <tr>\n      <th>Fourth</th>\n      <td>4.792000</td>\n      <td>2.500000</td>\n    </tr>\n    <tr>\n      <th>Second</th>\n      <td>8.989438</td>\n      <td>3.162278</td>\n    </tr>\n    <tr>\n      <th>Third</th>\n      <td>2.165064</td>\n      <td>7.648311</td>\n    </tr>\n  </tbody>\n</table>\n</div>"
     },
     "metadata": {},
     "execution_count": 135
    }
   ],
   "source": [
    "# standard deviation of the marks. There is no built-in aggregate function for std. dev but we can use a fuction from numpy.\n",
    "\n",
    "df_grade.apply(np.std) "
   ]
  },
  {
   "cell_type": "code",
   "execution_count": 136,
   "metadata": {},
   "outputs": [
    {
     "output_type": "execute_result",
     "data": {
      "text/plain": "0     Sandeep\n1      Swetha\n2        Niya\n3     Swarima\n4        Siva\n5       Lalit\n6        John\n7      Murari\n8      Sanjay\n9         Sri\n10     Pratul\n11    Pradeep\nName: Name, dtype: object"
     },
     "metadata": {},
     "execution_count": 136
    }
   ],
   "source": [
    "# Example: apply on columns\n",
    "# Capitalize all the names of student \n",
    "# using custom function \n",
    "def DoCapital(c):\n",
    "    return c.capitalize()\n",
    "\n",
    "df_marks['Name'].apply(DoCapital)"
   ]
  },
  {
   "cell_type": "code",
   "execution_count": 137,
   "metadata": {
    "tags": []
   },
   "outputs": [
    {
     "output_type": "execute_result",
     "data": {
      "text/plain": "       Name  Marks1  Marks2   Total   Grade  Avergage\n0   sandeep  30.666  45.000  75.666   First    37.833\n1    swetha  30.666  30.000  60.666  Fourth    30.333\n2      niya  40.250  25.000  65.250  Fourth    32.625\n3   swarima  20.000  15.000  35.000   Third    17.500\n4      siva  15.000  34.666  49.666   Third    24.833\n5     lalit  20.000  20.000  40.000   Third    20.000\n6      john  37.000  20.000  57.000  Second    28.500\n7    murari  40.250  15.000  55.250  Second    27.625\n8    sanjay  20.000  20.000  40.000  Second    20.000\n9       sri  20.000  29.000  49.000   Third    24.500\n10   pratul  18.000  20.000  38.000  Second    19.000\n11  pradeep  25.000  25.000  50.000  Second    25.000",
      "text/html": "<div>\n<style scoped>\n    .dataframe tbody tr th:only-of-type {\n        vertical-align: middle;\n    }\n\n    .dataframe tbody tr th {\n        vertical-align: top;\n    }\n\n    .dataframe thead th {\n        text-align: right;\n    }\n</style>\n<table border=\"1\" class=\"dataframe\">\n  <thead>\n    <tr style=\"text-align: right;\">\n      <th></th>\n      <th>Name</th>\n      <th>Marks1</th>\n      <th>Marks2</th>\n      <th>Total</th>\n      <th>Grade</th>\n      <th>Avergage</th>\n    </tr>\n  </thead>\n  <tbody>\n    <tr>\n      <th>0</th>\n      <td>sandeep</td>\n      <td>30.666</td>\n      <td>45.000</td>\n      <td>75.666</td>\n      <td>First</td>\n      <td>37.833</td>\n    </tr>\n    <tr>\n      <th>1</th>\n      <td>swetha</td>\n      <td>30.666</td>\n      <td>30.000</td>\n      <td>60.666</td>\n      <td>Fourth</td>\n      <td>30.333</td>\n    </tr>\n    <tr>\n      <th>2</th>\n      <td>niya</td>\n      <td>40.250</td>\n      <td>25.000</td>\n      <td>65.250</td>\n      <td>Fourth</td>\n      <td>32.625</td>\n    </tr>\n    <tr>\n      <th>3</th>\n      <td>swarima</td>\n      <td>20.000</td>\n      <td>15.000</td>\n      <td>35.000</td>\n      <td>Third</td>\n      <td>17.500</td>\n    </tr>\n    <tr>\n      <th>4</th>\n      <td>siva</td>\n      <td>15.000</td>\n      <td>34.666</td>\n      <td>49.666</td>\n      <td>Third</td>\n      <td>24.833</td>\n    </tr>\n    <tr>\n      <th>5</th>\n      <td>lalit</td>\n      <td>20.000</td>\n      <td>20.000</td>\n      <td>40.000</td>\n      <td>Third</td>\n      <td>20.000</td>\n    </tr>\n    <tr>\n      <th>6</th>\n      <td>john</td>\n      <td>37.000</td>\n      <td>20.000</td>\n      <td>57.000</td>\n      <td>Second</td>\n      <td>28.500</td>\n    </tr>\n    <tr>\n      <th>7</th>\n      <td>murari</td>\n      <td>40.250</td>\n      <td>15.000</td>\n      <td>55.250</td>\n      <td>Second</td>\n      <td>27.625</td>\n    </tr>\n    <tr>\n      <th>8</th>\n      <td>sanjay</td>\n      <td>20.000</td>\n      <td>20.000</td>\n      <td>40.000</td>\n      <td>Second</td>\n      <td>20.000</td>\n    </tr>\n    <tr>\n      <th>9</th>\n      <td>sri</td>\n      <td>20.000</td>\n      <td>29.000</td>\n      <td>49.000</td>\n      <td>Third</td>\n      <td>24.500</td>\n    </tr>\n    <tr>\n      <th>10</th>\n      <td>pratul</td>\n      <td>18.000</td>\n      <td>20.000</td>\n      <td>38.000</td>\n      <td>Second</td>\n      <td>19.000</td>\n    </tr>\n    <tr>\n      <th>11</th>\n      <td>pradeep</td>\n      <td>25.000</td>\n      <td>25.000</td>\n      <td>50.000</td>\n      <td>Second</td>\n      <td>25.000</td>\n    </tr>\n  </tbody>\n</table>\n</div>"
     },
     "metadata": {},
     "execution_count": 137
    }
   ],
   "source": [
    "# Example: apply on rows\n",
    "# using the option axis=1 or axis='columns'\n",
    "# average marks of students\n",
    "def FindAvg(row):\n",
    "    return (row['Marks1']+row['Marks2'])/2\n",
    "\n",
    "df_marks['Avergage'] = df_marks.apply(FindAvg,axis=1)\n",
    "df_marks"
   ]
  },
  {
   "cell_type": "markdown",
   "metadata": {},
   "source": [
    "*** Pre-Processing ***\n",
    "\n",
    "Few functions in Pandas that are handy in converting a raw table to the required format"
   ]
  },
  {
   "cell_type": "code",
   "execution_count": 3,
   "metadata": {},
   "outputs": [
    {
     "output_type": "execute_result",
     "data": {
      "text/plain": "     Brand Size  Color   Price\n0   Adidas  XXL   Blue  1400.0\n1   Adidas   XL    Red  1200.0\n2    Arrow  XXL  Black  2450.0\n3    Arrow    M   Blue     NaN\n4      NaN    M   Blue   500.0\n5   Adidas    L  Green  1200.0\n6    Arrow   XL   Blue  2400.0\n7    Arrow    M   Blue  1400.0\n8    Arrow    M   Blue  2400.0\n9     Puma   XL   Blue  2400.0\n10    Puma    M   Blue  1400.0\n11   Arrow   XL    Red  1200.0\n12   Arrow    L  Green  1200.0\n13    Puma    M   Blue  2400.0\n14    Puma   XL    Red  2200.0\n15  Adidas  XXL  Black     NaN\n16    Puma  XXL  Black  2450.0\n17    Puma    M   Blue  1000.0\n18    Puma    L  Green  3200.0",
      "text/html": "<div>\n<style scoped>\n    .dataframe tbody tr th:only-of-type {\n        vertical-align: middle;\n    }\n\n    .dataframe tbody tr th {\n        vertical-align: top;\n    }\n\n    .dataframe thead th {\n        text-align: right;\n    }\n</style>\n<table border=\"1\" class=\"dataframe\">\n  <thead>\n    <tr style=\"text-align: right;\">\n      <th></th>\n      <th>Brand</th>\n      <th>Size</th>\n      <th>Color</th>\n      <th>Price</th>\n    </tr>\n  </thead>\n  <tbody>\n    <tr>\n      <th>0</th>\n      <td>Adidas</td>\n      <td>XXL</td>\n      <td>Blue</td>\n      <td>1400.0</td>\n    </tr>\n    <tr>\n      <th>1</th>\n      <td>Adidas</td>\n      <td>XL</td>\n      <td>Red</td>\n      <td>1200.0</td>\n    </tr>\n    <tr>\n      <th>2</th>\n      <td>Arrow</td>\n      <td>XXL</td>\n      <td>Black</td>\n      <td>2450.0</td>\n    </tr>\n    <tr>\n      <th>3</th>\n      <td>Arrow</td>\n      <td>M</td>\n      <td>Blue</td>\n      <td>NaN</td>\n    </tr>\n    <tr>\n      <th>4</th>\n      <td>NaN</td>\n      <td>M</td>\n      <td>Blue</td>\n      <td>500.0</td>\n    </tr>\n    <tr>\n      <th>5</th>\n      <td>Adidas</td>\n      <td>L</td>\n      <td>Green</td>\n      <td>1200.0</td>\n    </tr>\n    <tr>\n      <th>6</th>\n      <td>Arrow</td>\n      <td>XL</td>\n      <td>Blue</td>\n      <td>2400.0</td>\n    </tr>\n    <tr>\n      <th>7</th>\n      <td>Arrow</td>\n      <td>M</td>\n      <td>Blue</td>\n      <td>1400.0</td>\n    </tr>\n    <tr>\n      <th>8</th>\n      <td>Arrow</td>\n      <td>M</td>\n      <td>Blue</td>\n      <td>2400.0</td>\n    </tr>\n    <tr>\n      <th>9</th>\n      <td>Puma</td>\n      <td>XL</td>\n      <td>Blue</td>\n      <td>2400.0</td>\n    </tr>\n    <tr>\n      <th>10</th>\n      <td>Puma</td>\n      <td>M</td>\n      <td>Blue</td>\n      <td>1400.0</td>\n    </tr>\n    <tr>\n      <th>11</th>\n      <td>Arrow</td>\n      <td>XL</td>\n      <td>Red</td>\n      <td>1200.0</td>\n    </tr>\n    <tr>\n      <th>12</th>\n      <td>Arrow</td>\n      <td>L</td>\n      <td>Green</td>\n      <td>1200.0</td>\n    </tr>\n    <tr>\n      <th>13</th>\n      <td>Puma</td>\n      <td>M</td>\n      <td>Blue</td>\n      <td>2400.0</td>\n    </tr>\n    <tr>\n      <th>14</th>\n      <td>Puma</td>\n      <td>XL</td>\n      <td>Red</td>\n      <td>2200.0</td>\n    </tr>\n    <tr>\n      <th>15</th>\n      <td>Adidas</td>\n      <td>XXL</td>\n      <td>Black</td>\n      <td>NaN</td>\n    </tr>\n    <tr>\n      <th>16</th>\n      <td>Puma</td>\n      <td>XXL</td>\n      <td>Black</td>\n      <td>2450.0</td>\n    </tr>\n    <tr>\n      <th>17</th>\n      <td>Puma</td>\n      <td>M</td>\n      <td>Blue</td>\n      <td>1000.0</td>\n    </tr>\n    <tr>\n      <th>18</th>\n      <td>Puma</td>\n      <td>L</td>\n      <td>Green</td>\n      <td>3200.0</td>\n    </tr>\n  </tbody>\n</table>\n</div>"
     },
     "metadata": {},
     "execution_count": 3
    }
   ],
   "source": [
    "# sample dataset of tshirts to play around\n",
    "# datafile: tshirts.csv\n",
    "df_tshirts = pd.read_csv('./data-files/pandas/tshirts.csv', sep=\",\")\n",
    "df_tshirts"
   ]
  },
  {
   "cell_type": "code",
   "execution_count": 4,
   "metadata": {
    "tags": []
   },
   "outputs": [
    {
     "output_type": "stream",
     "name": "stdout",
     "text": "<class 'pandas.core.frame.DataFrame'>\nRangeIndex: 19 entries, 0 to 18\nData columns (total 4 columns):\n #   Column  Non-Null Count  Dtype  \n---  ------  --------------  -----  \n 0   Brand   18 non-null     object \n 1   Size    19 non-null     object \n 2   Color   19 non-null     object \n 3   Price   17 non-null     float64\ndtypes: float64(1), object(3)\nmemory usage: 736.0+ bytes\n"
    }
   ],
   "source": [
    "# Quick observation: \n",
    "# # 1. 19 rows\n",
    "# # 2. Column Brand has 1 NaN\n",
    "# # 3. Column Price has 2 NaN\n",
    "df_tshirts.info()"
   ]
  },
  {
   "cell_type": "markdown",
   "metadata": {},
   "source": [
    "**** How to handle the missing value? ****"
   ]
  },
  {
   "cell_type": "code",
   "execution_count": 6,
   "metadata": {},
   "outputs": [
    {
     "output_type": "execute_result",
     "data": {
      "text/plain": "    Brand Size  Color   Price\n0  Adidas  XXL   Blue  1400.0\n1  Adidas   XL    Red  1200.0\n2   Arrow  XXL  Black  2450.0",
      "text/html": "<div>\n<style scoped>\n    .dataframe tbody tr th:only-of-type {\n        vertical-align: middle;\n    }\n\n    .dataframe tbody tr th {\n        vertical-align: top;\n    }\n\n    .dataframe thead th {\n        text-align: right;\n    }\n</style>\n<table border=\"1\" class=\"dataframe\">\n  <thead>\n    <tr style=\"text-align: right;\">\n      <th></th>\n      <th>Brand</th>\n      <th>Size</th>\n      <th>Color</th>\n      <th>Price</th>\n    </tr>\n  </thead>\n  <tbody>\n    <tr>\n      <th>0</th>\n      <td>Adidas</td>\n      <td>XXL</td>\n      <td>Blue</td>\n      <td>1400.0</td>\n    </tr>\n    <tr>\n      <th>1</th>\n      <td>Adidas</td>\n      <td>XL</td>\n      <td>Red</td>\n      <td>1200.0</td>\n    </tr>\n    <tr>\n      <th>2</th>\n      <td>Arrow</td>\n      <td>XXL</td>\n      <td>Black</td>\n      <td>2450.0</td>\n    </tr>\n  </tbody>\n</table>\n</div>"
     },
     "metadata": {},
     "execution_count": 6
    }
   ],
   "source": [
    "#1. DROP them\n",
    "# viable option if no of rows getting impacted is comparitively ignorable if removed\n",
    "# dropna()\n",
    "\n",
    "df_tshirts_drop = df_tshirts.copy()\n",
    "df_tshirts_drop.head(3)"
   ]
  },
  {
   "cell_type": "code",
   "execution_count": 8,
   "metadata": {
    "tags": []
   },
   "outputs": [
    {
     "output_type": "stream",
     "name": "stdout",
     "text": "<class 'pandas.core.frame.DataFrame'>\nInt64Index: 16 entries, 0 to 18\nData columns (total 4 columns):\n #   Column  Non-Null Count  Dtype  \n---  ------  --------------  -----  \n 0   Brand   16 non-null     object \n 1   Size    16 non-null     object \n 2   Color   16 non-null     object \n 3   Price   16 non-null     float64\ndtypes: float64(1), object(3)\nmemory usage: 640.0+ bytes\n"
    }
   ],
   "source": [
    "# handy function dropna\n",
    "df_tshirts_drop.dropna( subset=['Brand','Price'] , inplace = True)\n",
    "df_tshirts_drop.info()"
   ]
  },
  {
   "cell_type": "code",
   "execution_count": 13,
   "metadata": {},
   "outputs": [
    {
     "output_type": "execute_result",
     "data": {
      "text/plain": "     Brand Size  Color        Price\n0   Adidas  XXL   Blue  1400.000000\n1   Adidas   XL    Red  1200.000000\n2    Arrow  XXL  Black  2450.000000\n3    Arrow    M   Blue  1788.235294\n4      NaN    M   Blue   500.000000\n5   Adidas    L  Green  1200.000000\n6    Arrow   XL   Blue  2400.000000\n7    Arrow    M   Blue  1400.000000\n8    Arrow    M   Blue  2400.000000\n9     Puma   XL   Blue  2400.000000\n10    Puma    M   Blue  1400.000000\n11   Arrow   XL    Red  1200.000000\n12   Arrow    L  Green  1200.000000\n13    Puma    M   Blue  2400.000000\n14    Puma   XL    Red  2200.000000\n15  Adidas  XXL  Black  1788.235294\n16    Puma  XXL  Black  2450.000000\n17    Puma    M   Blue  1000.000000\n18    Puma    L  Green  3200.000000",
      "text/html": "<div>\n<style scoped>\n    .dataframe tbody tr th:only-of-type {\n        vertical-align: middle;\n    }\n\n    .dataframe tbody tr th {\n        vertical-align: top;\n    }\n\n    .dataframe thead th {\n        text-align: right;\n    }\n</style>\n<table border=\"1\" class=\"dataframe\">\n  <thead>\n    <tr style=\"text-align: right;\">\n      <th></th>\n      <th>Brand</th>\n      <th>Size</th>\n      <th>Color</th>\n      <th>Price</th>\n    </tr>\n  </thead>\n  <tbody>\n    <tr>\n      <th>0</th>\n      <td>Adidas</td>\n      <td>XXL</td>\n      <td>Blue</td>\n      <td>1400.000000</td>\n    </tr>\n    <tr>\n      <th>1</th>\n      <td>Adidas</td>\n      <td>XL</td>\n      <td>Red</td>\n      <td>1200.000000</td>\n    </tr>\n    <tr>\n      <th>2</th>\n      <td>Arrow</td>\n      <td>XXL</td>\n      <td>Black</td>\n      <td>2450.000000</td>\n    </tr>\n    <tr>\n      <th>3</th>\n      <td>Arrow</td>\n      <td>M</td>\n      <td>Blue</td>\n      <td>1788.235294</td>\n    </tr>\n    <tr>\n      <th>4</th>\n      <td>NaN</td>\n      <td>M</td>\n      <td>Blue</td>\n      <td>500.000000</td>\n    </tr>\n    <tr>\n      <th>5</th>\n      <td>Adidas</td>\n      <td>L</td>\n      <td>Green</td>\n      <td>1200.000000</td>\n    </tr>\n    <tr>\n      <th>6</th>\n      <td>Arrow</td>\n      <td>XL</td>\n      <td>Blue</td>\n      <td>2400.000000</td>\n    </tr>\n    <tr>\n      <th>7</th>\n      <td>Arrow</td>\n      <td>M</td>\n      <td>Blue</td>\n      <td>1400.000000</td>\n    </tr>\n    <tr>\n      <th>8</th>\n      <td>Arrow</td>\n      <td>M</td>\n      <td>Blue</td>\n      <td>2400.000000</td>\n    </tr>\n    <tr>\n      <th>9</th>\n      <td>Puma</td>\n      <td>XL</td>\n      <td>Blue</td>\n      <td>2400.000000</td>\n    </tr>\n    <tr>\n      <th>10</th>\n      <td>Puma</td>\n      <td>M</td>\n      <td>Blue</td>\n      <td>1400.000000</td>\n    </tr>\n    <tr>\n      <th>11</th>\n      <td>Arrow</td>\n      <td>XL</td>\n      <td>Red</td>\n      <td>1200.000000</td>\n    </tr>\n    <tr>\n      <th>12</th>\n      <td>Arrow</td>\n      <td>L</td>\n      <td>Green</td>\n      <td>1200.000000</td>\n    </tr>\n    <tr>\n      <th>13</th>\n      <td>Puma</td>\n      <td>M</td>\n      <td>Blue</td>\n      <td>2400.000000</td>\n    </tr>\n    <tr>\n      <th>14</th>\n      <td>Puma</td>\n      <td>XL</td>\n      <td>Red</td>\n      <td>2200.000000</td>\n    </tr>\n    <tr>\n      <th>15</th>\n      <td>Adidas</td>\n      <td>XXL</td>\n      <td>Black</td>\n      <td>1788.235294</td>\n    </tr>\n    <tr>\n      <th>16</th>\n      <td>Puma</td>\n      <td>XXL</td>\n      <td>Black</td>\n      <td>2450.000000</td>\n    </tr>\n    <tr>\n      <th>17</th>\n      <td>Puma</td>\n      <td>M</td>\n      <td>Blue</td>\n      <td>1000.000000</td>\n    </tr>\n    <tr>\n      <th>18</th>\n      <td>Puma</td>\n      <td>L</td>\n      <td>Green</td>\n      <td>3200.000000</td>\n    </tr>\n  </tbody>\n</table>\n</div>"
     },
     "metadata": {},
     "execution_count": 13
    }
   ],
   "source": [
    "#2. Replace with mean\n",
    "# viable option for mostly handling missing numeric values \n",
    "# if data is random and not particular visible relation in place\n",
    "# fillna()\n",
    "df_tshirts_fill = df_tshirts.copy()\n",
    "df_tshirts_fill['Price'].fillna(df_tshirts_fill['Price'].mean(), inplace=True)\n",
    "df_tshirts_fill"
   ]
  },
  {
   "cell_type": "code",
   "execution_count": null,
   "metadata": {},
   "outputs": [],
   "source": [
    "#3. Replace with most frequent item\n",
    "# viable option for mostly handling missing string values \n",
    "# mode() - returns a list so we use 0 to pick the first value\n",
    "# fillna()"
   ]
  },
  {
   "cell_type": "code",
   "execution_count": 28,
   "metadata": {},
   "outputs": [
    {
     "output_type": "execute_result",
     "data": {
      "text/plain": "0    Arrow\n1     Puma\ndtype: object"
     },
     "metadata": {},
     "execution_count": 28
    }
   ],
   "source": [
    "df_tshirts_fill2 = df_tshirts.copy()\n",
    "df_tshirts_fill2['Brand'].mode()"
   ]
  },
  {
   "cell_type": "code",
   "execution_count": 29,
   "metadata": {},
   "outputs": [
    {
     "output_type": "execute_result",
     "data": {
      "text/plain": "     Brand Size  Color   Price\n0   Adidas  XXL   Blue  1400.0\n1   Adidas   XL    Red  1200.0\n2    Arrow  XXL  Black  2450.0\n3    Arrow    M   Blue     NaN\n4     Puma    M   Blue   500.0\n5   Adidas    L  Green  1200.0\n6    Arrow   XL   Blue  2400.0\n7    Arrow    M   Blue  1400.0\n8    Arrow    M   Blue  2400.0\n9     Puma   XL   Blue  2400.0\n10    Puma    M   Blue  1400.0\n11   Arrow   XL    Red  1200.0\n12   Arrow    L  Green  1200.0\n13    Puma    M   Blue  2400.0\n14    Puma   XL    Red  2200.0\n15  Adidas  XXL  Black     NaN\n16    Puma  XXL  Black  2450.0\n17    Puma    M   Blue  1000.0\n18    Puma    L  Green  3200.0",
      "text/html": "<div>\n<style scoped>\n    .dataframe tbody tr th:only-of-type {\n        vertical-align: middle;\n    }\n\n    .dataframe tbody tr th {\n        vertical-align: top;\n    }\n\n    .dataframe thead th {\n        text-align: right;\n    }\n</style>\n<table border=\"1\" class=\"dataframe\">\n  <thead>\n    <tr style=\"text-align: right;\">\n      <th></th>\n      <th>Brand</th>\n      <th>Size</th>\n      <th>Color</th>\n      <th>Price</th>\n    </tr>\n  </thead>\n  <tbody>\n    <tr>\n      <th>0</th>\n      <td>Adidas</td>\n      <td>XXL</td>\n      <td>Blue</td>\n      <td>1400.0</td>\n    </tr>\n    <tr>\n      <th>1</th>\n      <td>Adidas</td>\n      <td>XL</td>\n      <td>Red</td>\n      <td>1200.0</td>\n    </tr>\n    <tr>\n      <th>2</th>\n      <td>Arrow</td>\n      <td>XXL</td>\n      <td>Black</td>\n      <td>2450.0</td>\n    </tr>\n    <tr>\n      <th>3</th>\n      <td>Arrow</td>\n      <td>M</td>\n      <td>Blue</td>\n      <td>NaN</td>\n    </tr>\n    <tr>\n      <th>4</th>\n      <td>Puma</td>\n      <td>M</td>\n      <td>Blue</td>\n      <td>500.0</td>\n    </tr>\n    <tr>\n      <th>5</th>\n      <td>Adidas</td>\n      <td>L</td>\n      <td>Green</td>\n      <td>1200.0</td>\n    </tr>\n    <tr>\n      <th>6</th>\n      <td>Arrow</td>\n      <td>XL</td>\n      <td>Blue</td>\n      <td>2400.0</td>\n    </tr>\n    <tr>\n      <th>7</th>\n      <td>Arrow</td>\n      <td>M</td>\n      <td>Blue</td>\n      <td>1400.0</td>\n    </tr>\n    <tr>\n      <th>8</th>\n      <td>Arrow</td>\n      <td>M</td>\n      <td>Blue</td>\n      <td>2400.0</td>\n    </tr>\n    <tr>\n      <th>9</th>\n      <td>Puma</td>\n      <td>XL</td>\n      <td>Blue</td>\n      <td>2400.0</td>\n    </tr>\n    <tr>\n      <th>10</th>\n      <td>Puma</td>\n      <td>M</td>\n      <td>Blue</td>\n      <td>1400.0</td>\n    </tr>\n    <tr>\n      <th>11</th>\n      <td>Arrow</td>\n      <td>XL</td>\n      <td>Red</td>\n      <td>1200.0</td>\n    </tr>\n    <tr>\n      <th>12</th>\n      <td>Arrow</td>\n      <td>L</td>\n      <td>Green</td>\n      <td>1200.0</td>\n    </tr>\n    <tr>\n      <th>13</th>\n      <td>Puma</td>\n      <td>M</td>\n      <td>Blue</td>\n      <td>2400.0</td>\n    </tr>\n    <tr>\n      <th>14</th>\n      <td>Puma</td>\n      <td>XL</td>\n      <td>Red</td>\n      <td>2200.0</td>\n    </tr>\n    <tr>\n      <th>15</th>\n      <td>Adidas</td>\n      <td>XXL</td>\n      <td>Black</td>\n      <td>NaN</td>\n    </tr>\n    <tr>\n      <th>16</th>\n      <td>Puma</td>\n      <td>XXL</td>\n      <td>Black</td>\n      <td>2450.0</td>\n    </tr>\n    <tr>\n      <th>17</th>\n      <td>Puma</td>\n      <td>M</td>\n      <td>Blue</td>\n      <td>1000.0</td>\n    </tr>\n    <tr>\n      <th>18</th>\n      <td>Puma</td>\n      <td>L</td>\n      <td>Green</td>\n      <td>3200.0</td>\n    </tr>\n  </tbody>\n</table>\n</div>"
     },
     "metadata": {},
     "execution_count": 29
    }
   ],
   "source": [
    "#pick any one and fill in to move\n",
    "df_tshirts_fill2['Brand'].fillna( df_tshirts_fill2['Brand'].mode()[1] , inplace=True)\n",
    "df_tshirts_fill2"
   ]
  },
  {
   "cell_type": "code",
   "execution_count": 30,
   "metadata": {},
   "outputs": [
    {
     "output_type": "execute_result",
     "data": {
      "text/plain": "Brand\nAdidas    1266.666667\nArrow     1841.666667\nPuma      1943.750000\nName: Price, dtype: float64"
     },
     "metadata": {},
     "execution_count": 30
    }
   ],
   "source": [
    "#4. Replace with mean value of a group\n",
    "# viable option for mostly handling missing numeric values \n",
    "# if data has particular visible relation in place\n",
    "# fillna()\n",
    "\n",
    "# price means by brand\n",
    "df_pmbb = df_tshirts_fill2.groupby('Brand')['Price'].mean()\n",
    "df_pmbb"
   ]
  },
  {
   "cell_type": "code",
   "execution_count": 31,
   "metadata": {},
   "outputs": [
    {
     "output_type": "execute_result",
     "data": {
      "text/plain": "0     1400.000000\n1     1200.000000\n2     2450.000000\n3     1841.666667\n4      500.000000\n5     1200.000000\n6     2400.000000\n7     1400.000000\n8     2400.000000\n9     2400.000000\n10    1400.000000\n11    1200.000000\n12    1200.000000\n13    2400.000000\n14    2200.000000\n15    1266.666667\n16    2450.000000\n17    1000.000000\n18    3200.000000\nName: Price, dtype: float64"
     },
     "metadata": {},
     "execution_count": 31
    }
   ],
   "source": [
    "def fill_missing(f):\n",
    "    f_mean = f.mean()\n",
    "    return f.fillna( f_mean )\n",
    "\n",
    "df_fillbygroup = df_tshirts_fill2.groupby(['Brand'])['Price'] # splits into three Series objects-one for each brand\n",
    "df_fillbygroup.transform( fill_missing ) #passes each of the three Series objects one by one to the function fill_missing & then combines back into one series\n"
   ]
  },
  {
   "cell_type": "code",
   "execution_count": 34,
   "metadata": {},
   "outputs": [
    {
     "output_type": "execute_result",
     "data": {
      "text/plain": "     Brand  Size  Color   Price\n0   Adidas     4   Blue  1400.0\n1   Adidas     3    Red  1200.0\n2    Arrow     4  Black  2450.0\n3    Arrow     1   Blue     NaN\n4      NaN     1   Blue   500.0\n5   Adidas     2  Green  1200.0\n6    Arrow     3   Blue  2400.0\n7    Arrow     1   Blue  1400.0\n8    Arrow     1   Blue  2400.0\n9     Puma     3   Blue  2400.0\n10    Puma     1   Blue  1400.0\n11   Arrow     3    Red  1200.0\n12   Arrow     2  Green  1200.0\n13    Puma     1   Blue  2400.0\n14    Puma     3    Red  2200.0\n15  Adidas     4  Black     NaN\n16    Puma     4  Black  2450.0\n17    Puma     1   Blue  1000.0\n18    Puma     2  Green  3200.0",
      "text/html": "<div>\n<style scoped>\n    .dataframe tbody tr th:only-of-type {\n        vertical-align: middle;\n    }\n\n    .dataframe tbody tr th {\n        vertical-align: top;\n    }\n\n    .dataframe thead th {\n        text-align: right;\n    }\n</style>\n<table border=\"1\" class=\"dataframe\">\n  <thead>\n    <tr style=\"text-align: right;\">\n      <th></th>\n      <th>Brand</th>\n      <th>Size</th>\n      <th>Color</th>\n      <th>Price</th>\n    </tr>\n  </thead>\n  <tbody>\n    <tr>\n      <th>0</th>\n      <td>Adidas</td>\n      <td>4</td>\n      <td>Blue</td>\n      <td>1400.0</td>\n    </tr>\n    <tr>\n      <th>1</th>\n      <td>Adidas</td>\n      <td>3</td>\n      <td>Red</td>\n      <td>1200.0</td>\n    </tr>\n    <tr>\n      <th>2</th>\n      <td>Arrow</td>\n      <td>4</td>\n      <td>Black</td>\n      <td>2450.0</td>\n    </tr>\n    <tr>\n      <th>3</th>\n      <td>Arrow</td>\n      <td>1</td>\n      <td>Blue</td>\n      <td>NaN</td>\n    </tr>\n    <tr>\n      <th>4</th>\n      <td>NaN</td>\n      <td>1</td>\n      <td>Blue</td>\n      <td>500.0</td>\n    </tr>\n    <tr>\n      <th>5</th>\n      <td>Adidas</td>\n      <td>2</td>\n      <td>Green</td>\n      <td>1200.0</td>\n    </tr>\n    <tr>\n      <th>6</th>\n      <td>Arrow</td>\n      <td>3</td>\n      <td>Blue</td>\n      <td>2400.0</td>\n    </tr>\n    <tr>\n      <th>7</th>\n      <td>Arrow</td>\n      <td>1</td>\n      <td>Blue</td>\n      <td>1400.0</td>\n    </tr>\n    <tr>\n      <th>8</th>\n      <td>Arrow</td>\n      <td>1</td>\n      <td>Blue</td>\n      <td>2400.0</td>\n    </tr>\n    <tr>\n      <th>9</th>\n      <td>Puma</td>\n      <td>3</td>\n      <td>Blue</td>\n      <td>2400.0</td>\n    </tr>\n    <tr>\n      <th>10</th>\n      <td>Puma</td>\n      <td>1</td>\n      <td>Blue</td>\n      <td>1400.0</td>\n    </tr>\n    <tr>\n      <th>11</th>\n      <td>Arrow</td>\n      <td>3</td>\n      <td>Red</td>\n      <td>1200.0</td>\n    </tr>\n    <tr>\n      <th>12</th>\n      <td>Arrow</td>\n      <td>2</td>\n      <td>Green</td>\n      <td>1200.0</td>\n    </tr>\n    <tr>\n      <th>13</th>\n      <td>Puma</td>\n      <td>1</td>\n      <td>Blue</td>\n      <td>2400.0</td>\n    </tr>\n    <tr>\n      <th>14</th>\n      <td>Puma</td>\n      <td>3</td>\n      <td>Red</td>\n      <td>2200.0</td>\n    </tr>\n    <tr>\n      <th>15</th>\n      <td>Adidas</td>\n      <td>4</td>\n      <td>Black</td>\n      <td>NaN</td>\n    </tr>\n    <tr>\n      <th>16</th>\n      <td>Puma</td>\n      <td>4</td>\n      <td>Black</td>\n      <td>2450.0</td>\n    </tr>\n    <tr>\n      <th>17</th>\n      <td>Puma</td>\n      <td>1</td>\n      <td>Blue</td>\n      <td>1000.0</td>\n    </tr>\n    <tr>\n      <th>18</th>\n      <td>Puma</td>\n      <td>2</td>\n      <td>Green</td>\n      <td>3200.0</td>\n    </tr>\n  </tbody>\n</table>\n</div>"
     },
     "metadata": {},
     "execution_count": 34
    }
   ],
   "source": [
    "#5. Convert categories (strings) into numbers - easier to work across\n",
    "# Meaningful order (ORDINAL feature)\n",
    "# here size can be low to high. \n",
    "\n",
    "size_number = {\n",
    "    'S':0,\n",
    "    'M':1,\n",
    "    'L':2,\n",
    "    'XL':3,\n",
    "    'XXL':4\n",
    "}\n",
    "\n",
    "df_of = df_tshirts.copy()\n",
    "df_of['Size'] = df_of['Size'].apply(lambda x: size_number[x]) # reassign as apply does not have inplace=True\n",
    "df_of \n",
    "\n"
   ]
  },
  {
   "cell_type": "code",
   "execution_count": 35,
   "metadata": {},
   "outputs": [
    {
     "output_type": "execute_result",
     "data": {
      "text/plain": "     Brand  Size   Price  Color_Blue  Color_Green  Color_Red\n0   Adidas     4  1400.0           1            0          0\n1   Adidas     3  1200.0           0            0          1\n2    Arrow     4  2450.0           0            0          0\n3    Arrow     1     NaN           1            0          0\n4      NaN     1   500.0           1            0          0\n5   Adidas     2  1200.0           0            1          0\n6    Arrow     3  2400.0           1            0          0\n7    Arrow     1  1400.0           1            0          0\n8    Arrow     1  2400.0           1            0          0\n9     Puma     3  2400.0           1            0          0\n10    Puma     1  1400.0           1            0          0\n11   Arrow     3  1200.0           0            0          1\n12   Arrow     2  1200.0           0            1          0\n13    Puma     1  2400.0           1            0          0\n14    Puma     3  2200.0           0            0          1\n15  Adidas     4     NaN           0            0          0\n16    Puma     4  2450.0           0            0          0\n17    Puma     1  1000.0           1            0          0\n18    Puma     2  3200.0           0            1          0",
      "text/html": "<div>\n<style scoped>\n    .dataframe tbody tr th:only-of-type {\n        vertical-align: middle;\n    }\n\n    .dataframe tbody tr th {\n        vertical-align: top;\n    }\n\n    .dataframe thead th {\n        text-align: right;\n    }\n</style>\n<table border=\"1\" class=\"dataframe\">\n  <thead>\n    <tr style=\"text-align: right;\">\n      <th></th>\n      <th>Brand</th>\n      <th>Size</th>\n      <th>Price</th>\n      <th>Color_Blue</th>\n      <th>Color_Green</th>\n      <th>Color_Red</th>\n    </tr>\n  </thead>\n  <tbody>\n    <tr>\n      <th>0</th>\n      <td>Adidas</td>\n      <td>4</td>\n      <td>1400.0</td>\n      <td>1</td>\n      <td>0</td>\n      <td>0</td>\n    </tr>\n    <tr>\n      <th>1</th>\n      <td>Adidas</td>\n      <td>3</td>\n      <td>1200.0</td>\n      <td>0</td>\n      <td>0</td>\n      <td>1</td>\n    </tr>\n    <tr>\n      <th>2</th>\n      <td>Arrow</td>\n      <td>4</td>\n      <td>2450.0</td>\n      <td>0</td>\n      <td>0</td>\n      <td>0</td>\n    </tr>\n    <tr>\n      <th>3</th>\n      <td>Arrow</td>\n      <td>1</td>\n      <td>NaN</td>\n      <td>1</td>\n      <td>0</td>\n      <td>0</td>\n    </tr>\n    <tr>\n      <th>4</th>\n      <td>NaN</td>\n      <td>1</td>\n      <td>500.0</td>\n      <td>1</td>\n      <td>0</td>\n      <td>0</td>\n    </tr>\n    <tr>\n      <th>5</th>\n      <td>Adidas</td>\n      <td>2</td>\n      <td>1200.0</td>\n      <td>0</td>\n      <td>1</td>\n      <td>0</td>\n    </tr>\n    <tr>\n      <th>6</th>\n      <td>Arrow</td>\n      <td>3</td>\n      <td>2400.0</td>\n      <td>1</td>\n      <td>0</td>\n      <td>0</td>\n    </tr>\n    <tr>\n      <th>7</th>\n      <td>Arrow</td>\n      <td>1</td>\n      <td>1400.0</td>\n      <td>1</td>\n      <td>0</td>\n      <td>0</td>\n    </tr>\n    <tr>\n      <th>8</th>\n      <td>Arrow</td>\n      <td>1</td>\n      <td>2400.0</td>\n      <td>1</td>\n      <td>0</td>\n      <td>0</td>\n    </tr>\n    <tr>\n      <th>9</th>\n      <td>Puma</td>\n      <td>3</td>\n      <td>2400.0</td>\n      <td>1</td>\n      <td>0</td>\n      <td>0</td>\n    </tr>\n    <tr>\n      <th>10</th>\n      <td>Puma</td>\n      <td>1</td>\n      <td>1400.0</td>\n      <td>1</td>\n      <td>0</td>\n      <td>0</td>\n    </tr>\n    <tr>\n      <th>11</th>\n      <td>Arrow</td>\n      <td>3</td>\n      <td>1200.0</td>\n      <td>0</td>\n      <td>0</td>\n      <td>1</td>\n    </tr>\n    <tr>\n      <th>12</th>\n      <td>Arrow</td>\n      <td>2</td>\n      <td>1200.0</td>\n      <td>0</td>\n      <td>1</td>\n      <td>0</td>\n    </tr>\n    <tr>\n      <th>13</th>\n      <td>Puma</td>\n      <td>1</td>\n      <td>2400.0</td>\n      <td>1</td>\n      <td>0</td>\n      <td>0</td>\n    </tr>\n    <tr>\n      <th>14</th>\n      <td>Puma</td>\n      <td>3</td>\n      <td>2200.0</td>\n      <td>0</td>\n      <td>0</td>\n      <td>1</td>\n    </tr>\n    <tr>\n      <th>15</th>\n      <td>Adidas</td>\n      <td>4</td>\n      <td>NaN</td>\n      <td>0</td>\n      <td>0</td>\n      <td>0</td>\n    </tr>\n    <tr>\n      <th>16</th>\n      <td>Puma</td>\n      <td>4</td>\n      <td>2450.0</td>\n      <td>0</td>\n      <td>0</td>\n      <td>0</td>\n    </tr>\n    <tr>\n      <th>17</th>\n      <td>Puma</td>\n      <td>1</td>\n      <td>1000.0</td>\n      <td>1</td>\n      <td>0</td>\n      <td>0</td>\n    </tr>\n    <tr>\n      <th>18</th>\n      <td>Puma</td>\n      <td>2</td>\n      <td>3200.0</td>\n      <td>0</td>\n      <td>1</td>\n      <td>0</td>\n    </tr>\n  </tbody>\n</table>\n</div>"
     },
     "metadata": {},
     "execution_count": 35
    }
   ],
   "source": [
    "#6. Convert categories (strings) into numbers - easier to work across\n",
    "# Random - cannot be ordered (NOMINAL feature)\n",
    "# here Colors are example of it\n",
    "# represent each unique color as a (dummy) feature of its own\n",
    "# Once transformed, for every data point, exactly one feature has the value 1 and the rest of them have zero. \n",
    "# This representation is known as one-hot encoding\n",
    "\n",
    "df_nf = df_of.copy()\n",
    "df_nf_onehotencoded = pd.get_dummies(df_nf, columns=['Color'], drop_first=True) #drop_first will remove the string column\n",
    "df_nf_onehotencoded"
   ]
  },
  {
   "cell_type": "code",
   "execution_count": null,
   "metadata": {},
   "outputs": [],
   "source": []
  }
 ]
}