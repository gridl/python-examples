{
 "metadata": {
  "language_info": {
   "codemirror_mode": {
    "name": "ipython",
    "version": 3
   },
   "file_extension": ".py",
   "mimetype": "text/x-python",
   "name": "python",
   "nbconvert_exporter": "python",
   "pygments_lexer": "ipython3",
   "version": "3.8.5-final"
  },
  "orig_nbformat": 2,
  "kernelspec": {
   "name": "python38564bit9ac65d54777541ddb4639e761536d6dd",
   "display_name": "Python 3.8.5 64-bit"
  }
 },
 "nbformat": 4,
 "nbformat_minor": 2,
 "cells": [
  {
   "cell_type": "markdown",
   "metadata": {},
   "source": [
    "## NUMPY SAMPLES ##"
   ]
  },
  {
   "cell_type": "code",
   "execution_count": 1,
   "metadata": {},
   "outputs": [],
   "source": [
    "import numpy as np"
   ]
  },
  {
   "cell_type": "markdown",
   "metadata": {},
   "source": [
    "*** Random Walk simulation ***\n",
    "\n",
    "1000-step random walk exercise where a person starting from 0 takes one step to the right(+1) or to the left(-1) with equal probability. To get 'd' being the max distance reached from the origin during the walk. \n",
    "\n",
    "Simulate it (N trials) and find the mean of the max distance of all trails."
   ]
  },
  {
   "cell_type": "code",
   "execution_count": 2,
   "metadata": {
    "tags": []
   },
   "outputs": [
    {
     "output_type": "stream",
     "name": "stdout",
     "text": "Max distance from origin:  35\n"
    }
   ],
   "source": [
    "# unit\n",
    "steps = 1000\n",
    "rw_seq = np.random.choice([-1,1],steps) #random sequence of steps\n",
    "net_d = rw_seq.cumsum() #total distance = cumulative sum of all steps\n",
    "max_d_from_origin = np.max(np.abs(net_d))\n",
    "\n",
    "print('Max distance from origin: ',max_d_from_origin)"
   ]
  },
  {
   "cell_type": "code",
   "execution_count": 3,
   "metadata": {
    "tags": []
   },
   "outputs": [
    {
     "output_type": "stream",
     "name": "stdout",
     "text": "Mean distance for 100 simulation is: 36.57\nMean distance for 1000 simulation is: 38.623\nMean distance for 10000 simulation is: 39.2465\nMean distance for 100000 simulation is: 39.1768\n"
    }
   ],
   "source": [
    "# for simulation\n",
    "\n",
    "def simulate_d():\n",
    "    steps = 1000\n",
    "    rw_seq = np.random.choice([-1,1],steps) #random sequence of steps\n",
    "    net_d = rw_seq.cumsum() #total distance = cumulative sum of all steps\n",
    "    max_d_from_origin = np.max(np.abs(net_d))\n",
    "    return max_d_from_origin\n",
    "\n",
    "simulation_count = 100,1000,10000,100000\n",
    "for i in range(len(simulation_count)):\n",
    "    max_d_all = [simulate_d() for x in range(simulation_count[i])] # list comprehension - all max_d in a list\n",
    "    mean_d = np.mean(max_d_all)\n",
    "    print('Mean distance for {0} simulation is: {1}'.format(simulation_count[i], mean_d))\n",
    "    \n",
    "# based on the results, seems the max distance far from origin is around 40"
   ]
  },
  {
   "cell_type": "markdown",
   "metadata": {},
   "source": [
    "*** Triangle simulation ***\n",
    "With a unit length stick - break into 3 sticks randomly. Carry out N trails and see the probability of finding the right pieces that can form the sides of the triangle using these 3 broken pieces\n"
   ]
  },
  {
   "cell_type": "code",
   "execution_count": 4,
   "metadata": {
    "tags": []
   },
   "outputs": [
    {
     "output_type": "stream",
     "name": "stdout",
     "text": "x:0.3264081716415217,y:0.3560759260300984,z:0.3175159023283799\nWe got a traingle!\n"
    }
   ],
   "source": [
    "# unit validation\n",
    "\n",
    "stick_l = 1\n",
    "# this would be incorrect logically as fixed unit length is there\n",
    "# pieces_length = np.random.rand(2) #2 random numbers between 0 & 1 \n",
    "\n",
    "#x = pieces_length[0]\n",
    "#y = pieces_length[1]\n",
    "\n",
    "x = np.random.uniform(0,1)\n",
    "y = np.random.uniform(0,1-x)\n",
    "\n",
    "z = 1 - (x+y)\n",
    "print ('x:{0},y:{1},z:{2}'.format(x,y,z))\n",
    "\n",
    "# for triangle to be valid any two side sum should always be greater than third\n",
    "if(x+y>z and y+z>x and z+x>y):\n",
    "    print('We got a traingle!')\n",
    "else:\n",
    "    print('SORRY! No triangle')\n"
   ]
  },
  {
   "cell_type": "code",
   "execution_count": 5,
   "metadata": {
    "tags": []
   },
   "outputs": [
    {
     "output_type": "stream",
     "name": "stdout",
     "text": "Probablity for 100 simulation is: 0.23\nProbablity for 1000 simulation is: 0.214\nProbablity for 10000 simulation is: 0.1871\nProbablity for 100000 simulation is: 0.19422\n"
    }
   ],
   "source": [
    "# for simulation\n",
    "stick_l = 1\n",
    "\n",
    "def getxyz():\n",
    "    x = np.random.uniform(0,stick_l)\n",
    "    y = np.random.uniform(0,stick_l-x)\n",
    "    z = stick_l - (x+y)\n",
    "    return x,y,z\n",
    "\n",
    "def istriangle(x,y,z):\n",
    "    if (x+y>z and y+z>x and z+x>y):\n",
    "        return 1\n",
    "    else:\n",
    "        return 0\n",
    "\n",
    "\n",
    "simulation_count = 100,1000,10000,100000\n",
    "for i in range(len(simulation_count)):\n",
    "    triangle_all = [istriangle(*(getxyz())) for x in range(simulation_count[i])] # list comprehension - all true/false in a list\n",
    "    probability = np.sum(triangle_all)/simulation_count[i]\n",
    "    print('Probablity for {0} simulation is: {1}'.format(simulation_count[i], probability))\n",
    "    \n",
    "    \n",
    "# based on the results, seems the probablility f formaing triangle from pieces would be just under 20%\n"
   ]
  },
  {
   "cell_type": "markdown",
   "metadata": {},
   "source": [
    "*** Random Number ***\n",
    "\n",
    "Generate 10 random numbers in the interval 0,1 and obtain an array X\n",
    "\n",
    "Generate another array Y such that $Y[i]$=1 if $X[i]$≥0.5 and 0 otherwise. "
   ]
  },
  {
   "cell_type": "code",
   "execution_count": 6,
   "metadata": {},
   "outputs": [
    {
     "output_type": "execute_result",
     "data": {
      "text/plain": "array([1, 0, 1, 0, 0, 1, 1, 1, 0, 0])"
     },
     "metadata": {},
     "execution_count": 6
    }
   ],
   "source": [
    "X = np.random.rand(10)\n",
    "\n",
    "# Generate the array Y == Random Number\n",
    "Y = np.where(X>=0.5,1,0)\n",
    "Y"
   ]
  },
  {
   "cell_type": "markdown",
   "metadata": {},
   "source": [
    "*** Pearson's correlation coefficient ***\n",
    "\n",
    "Given two arrays $X,Y$, correlation is a measure of linear dependence of values of one array on the other. For example, heights and weights of a group of people are correlated. Validate the below formula for correlation and verify the result using numpy's corrcoef method.\n",
    "\n",
    "This is given by $\\frac{\\sum(X-X_{mean})(Y-Y_{mean})}{\\sqrt{\\sum(X-X_{mean})^2\\sum(Y-Y_{mean})^2}}$  . \n"
   ]
  },
  {
   "cell_type": "code",
   "execution_count": 7,
   "metadata": {
    "tags": []
   },
   "outputs": [
    {
     "output_type": "stream",
     "name": "stdout",
     "text": "PCC via fomula:  1.0\nPCC via Numpy:  [[1. 1.]\n [1. 1.]]\n"
    }
   ],
   "source": [
    "X = np.random.randint(0,10,20)\n",
    "Y = X + np.random.randint(20)\n",
    "\n",
    "X_mean = np.mean(X)\n",
    "Y_mean = np.mean(Y)\n",
    "\n",
    "exp = np.sum((X-X_mean)*(Y-Y_mean))\n",
    "std = np.sqrt(np.sum((X-X_mean)**2) * np.sum((Y-Y_mean)**2))\n",
    "coeff_corr = exp/std\n",
    "print('PCC via fomula: ',coeff_corr)\n",
    "print('PCC via Numpy: ',np.corrcoef(X,Y))"
   ]
  },
  {
   "cell_type": "markdown",
   "metadata": {},
   "source": [
    "*** Mean & Variance of crude oil prices ***\n",
    "\n",
    "data-file: crude_oil.csv\n",
    "Find the mean & the standard deviation of the two types of crude oil. \n",
    "\n",
    "Handle:\n",
    "1. Header\n",
    "2. Missing/Unknown data (should not be part of calcs)"
   ]
  },
  {
   "cell_type": "code",
   "execution_count": 8,
   "metadata": {},
   "outputs": [
    {
     "output_type": "execute_result",
     "data": {
      "text/plain": "array([[23.9 , 24.47],\n       [24.78, 24.92],\n       [24.25, 25.74],\n       ...,\n       [73.73, 69.13],\n       [77.05, 70.25],\n       [85.63, 75.16]])"
     },
     "metadata": {},
     "execution_count": 8
    }
   ],
   "source": [
    "data = np.genfromtxt('./data-files/numpy/crude_oil.csv',delimiter=\";\")\n",
    "# data\n",
    "# Row1 & Column1 look like not a number here so\n",
    "data=data[1:,1:]\n",
    "data"
   ]
  },
  {
   "cell_type": "code",
   "execution_count": 9,
   "metadata": {},
   "outputs": [
    {
     "output_type": "execute_result",
     "data": {
      "text/plain": "array([[23.9 , 24.47],\n       [24.78, 24.92],\n       [24.25, 25.74],\n       ...,\n       [73.73, 69.13],\n       [77.05, 70.25],\n       [85.63, 75.16]])"
     },
     "metadata": {},
     "execution_count": 9
    }
   ],
   "source": [
    "data = np.genfromtxt('./data-files/numpy/crude_oil.csv',delimiter=\";\",skip_header=1, encoding=None)\n",
    "data=data[:,1:]\n",
    "data"
   ]
  },
  {
   "cell_type": "code",
   "execution_count": 10,
   "metadata": {},
   "outputs": [
    {
     "output_type": "execute_result",
     "data": {
      "text/plain": "array([[23.9 , 24.47],\n       [24.78, 24.92],\n       [24.25, 25.74],\n       ...,\n       [73.73, 69.13],\n       [77.05, 70.25],\n       [85.63, 75.16]])"
     },
     "metadata": {},
     "execution_count": 10
    }
   ],
   "source": [
    "crude_data = np.nan_to_num(data)\n",
    "crude_data"
   ]
  },
  {
   "cell_type": "code",
   "execution_count": 11,
   "metadata": {},
   "outputs": [],
   "source": [
    "crude1_data = crude_data[~np.isnan(data[:,0])][:,0] #all rows but not nan, 0th column => using masking \n",
    "crude2_data = crude_data[~np.isnan(data[:,1])][:,1] #all rows but not nan, 1st column "
   ]
  },
  {
   "cell_type": "code",
   "execution_count": 12,
   "metadata": {
    "tags": []
   },
   "outputs": [
    {
     "output_type": "stream",
     "name": "stdout",
     "text": "crude1_mean:45.91709681528662,crude2_mean:43.68011373260738\ncrude1_sd:33.14636993225907,crude2_sd:29.61836508539748\n"
    }
   ],
   "source": [
    "print('crude1_mean:{0},crude2_mean:{1}'.format(np.mean(crude1_data),np.mean(crude2_data)))\n",
    "print('crude1_sd:{0},crude2_sd:{1}'.format(np.std(crude1_data),np.std(crude2_data)))"
   ]
  }
 ]
}